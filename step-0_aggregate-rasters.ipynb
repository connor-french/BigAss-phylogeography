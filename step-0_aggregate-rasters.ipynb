{
 "cells": [
  {
   "cell_type": "markdown",
   "metadata": {},
   "source": [
    "## Aggregate rasters\n",
    "This is the workflow for aggregating predictor rasters to the coarser resolutions used for analysis (96.5 km, 193 km, and 385.9 km)."
   ]
  },
  {
   "cell_type": "code",
   "execution_count": 69,
   "metadata": {},
   "outputs": [],
   "source": [
    "library(raster)\n",
    "library(rnaturalearth)\n",
    "library(here)\n",
    "library(tictoc)\n",
    "library(tidyverse)\n",
    "library(furrr)\n",
    "\n",
    "out_path <- here(\"data\", \"climate_agg\")\n",
    "res_list <- list(high = 96.5, medium = 193, low = 385.9)"
   ]
  },
  {
   "cell_type": "markdown",
   "metadata": {},
   "source": [
    "Create template rasters to resample predictors and filter genetic data with. \n",
    "\n",
    "Template resolutions:  \n",
    "* 96.5 km (1 degree at 30 deg latitude) {**template_high**}\n",
    "* 193 km (2 degrees) {**template_medium**}\n",
    "* 385.9 km (4 degrees) {**template_low**}"
   ]
  },
  {
   "cell_type": "code",
   "execution_count": 56,
   "metadata": {},
   "outputs": [
    {
     "name": "stderr",
     "output_type": "stream",
     "text": [
      "Warning message in .local(x, filename, ...):\n",
      "“all cell values are NA”\n",
      "Warning message in .local(x, filename, ...):\n",
      "“all cell values are NA”\n",
      "Warning message in .local(x, filename, ...):\n",
      "“all cell values are NA”\n"
     ]
    }
   ],
   "source": [
    "crs <- \"+proj=cea +lon_0=0 +lat_ts=30 +x_0=0 +y_0=0 +datum=WGS84 +ellps=WGS84 +units=m +no_defs\"\n",
    "\n",
    "# read in a world shape file. Might make this able to use countries as well\n",
    "world_shp <- rnaturalearth::ne_coastline(scale = \"small\")\n",
    "  \n",
    "# convert the coordinate system to behrmann\n",
    "world_shp <- sp::spTransform(world_shp, crs)\n",
    "  \n",
    "# turn it into a raster\n",
    "world_raster <- raster::raster(world_shp)\n",
    "\n",
    "\n",
    "# transform world raster to high resolution\n",
    "template_high <- world_raster\n",
    "res(template_high) <- 96500\n",
    "\n",
    "\n",
    "# transform world raster to medium resolution\n",
    "template_medium <- world_raster\n",
    "res(template_medium) <- 193000\n",
    "\n",
    "# transform world raster to low resolution\n",
    "template_low <- world_raster\n",
    "res(template_low) <- 385900\n",
    "\n",
    "# write to data/templates/ folder\n",
    "writeRaster(template_high, filename = here(\"data\", \"templates\", \"template_high.tif\"))\n",
    "writeRaster(template_medium, filename = here(\"data\", \"templates\", \"template_medium.tif\"))\n",
    "writeRaster(template_low, filename = here(\"data\", \"templates\", \"template_low.tif\"))"
   ]
  },
  {
   "cell_type": "markdown",
   "metadata": {},
   "source": [
    "This function follows these steps:  \n",
    "* reproject raster to Behrmann equal-area projection\n",
    "* resample with bilinear interpolation to the coarse resolution\n",
    "\n",
    "This process is slow, but results in rasters with the precise desired resolution in km. Alternatives result in imprecise resolutions, where for example a 96.5 km resolution specification, the resolution is actually 96.48628 km or 95 km. "
   ]
  },
  {
   "cell_type": "code",
   "execution_count": 58,
   "metadata": {},
   "outputs": [],
   "source": [
    "# function to resample rasters to any equal area grid of the three resolutions we're considering.\n",
    "\n",
    "\n",
    "# crs: define the crs you want to project to. It must be an equal area projection. The default crs is behrmann equal area. \n",
    "# x: a raster or raster stack\n",
    "# km: km resolution you want (area will be km x km)\n",
    "# is_categorical: if is_categorical is true, using \"ngb\" interpolation\n",
    "resample_equal_area <- function(x, \n",
    "                                crs = \"+proj=cea +lon_0=0 +lat_ts=30 +x_0=0 +y_0=0 +datum=WGS84 +ellps=WGS84 +units=m +no_defs\", \n",
    "                                km,\n",
    "                                is_categorical = FALSE) {\n",
    "  \n",
    "  # project raster to new coordinate system (this has no values- we put values back in later)\n",
    "  x_ext <- raster::projectExtent(x, crs)\n",
    "  \n",
    "  # make the resolution square since we're interested in an equal area projection\n",
    "  raster::res(x_ext) <- raster::xres(x_ext)\n",
    "  \n",
    "  # add original values to our projection. We can't take shortcuts like doing this instead of doing projectExtent first because it removes cells at the extreme latitudes.\n",
    "  x_repro <- raster::projectRaster(x, x_ext)\n",
    "  \n",
    "  if (km == 96.5) {\n",
    "      end_raster = template_high\n",
    "  } else if (km == 193) {\n",
    "      end_raster = template_medium\n",
    "  } else if (km == 385.9) {\n",
    "      end_raster = template_low\n",
    "  } else stop(\"Incorrect resolution specification. Must be either 96.5, 193, or 395.9.\")\n",
    "  \n",
    "  # resample our raster of interest to the beginning raster  \n",
    "  if (is_categorical) {\n",
    "      m <- \"ngb\"\n",
    "  } else m <- \"bilinear\"\n",
    "  x_resampled <- raster::resample(x_repro, end_raster, method = m) \n",
    "\n",
    "  \n",
    "  return(x_resampled)\n",
    "}\n"
   ]
  },
  {
   "cell_type": "code",
   "execution_count": 62,
   "metadata": {},
   "outputs": [],
   "source": [
    "# function to write aggregated rasters to file, using a specified prefix for the file and layer names\n",
    "write_raster <- function (x, prefix) {\n",
    "    names(x) <- paste0(prefix, \"_\", names(x))\n",
    "    out_file <- file.path(out_path, paste0(names(x), \".tif\"))\n",
    "    writeRaster(x, filename = out_file, overwrite = TRUE)\n",
    "}"
   ]
  },
  {
   "cell_type": "markdown",
   "metadata": {},
   "source": [
    "## LGM climate\n",
    "From [paleoclim.org](paleoclim.org)"
   ]
  },
  {
   "cell_type": "code",
   "execution_count": 47,
   "metadata": {},
   "outputs": [
    {
     "name": "stdout",
     "output_type": "stream",
     "text": [
      "931.556 sec elapsed\n"
     ]
    }
   ],
   "source": [
    "lgm_path <- dir(here(\"data\", \"climate_raw\", \"LGM_bioclim\"), pattern = \"*.tif$\", full.names = TRUE)\n",
    "lgm_rast_list <- purrr::map(lgm_path, raster)"
   ]
  },
  {
   "cell_type": "markdown",
   "metadata": {},
   "source": [
    "#### 96.5 km resolution"
   ]
  },
  {
   "cell_type": "code",
   "execution_count": 63,
   "metadata": {},
   "outputs": [],
   "source": [
    "tic()\n",
    "lgm_agg_high <- purrr::map(lgm_rast_list, ~resample_equal_area(.x, km = res_list$high))\n",
    "toc()\n",
    "# write rasters to file\n",
    "invisible(purrr::map(lgm_agg_high, ~write_raster(.x, prefix = \"lgm\")))"
   ]
  },
  {
   "cell_type": "markdown",
   "metadata": {},
   "source": [
    "#### 193 km resolution"
   ]
  },
  {
   "cell_type": "code",
   "execution_count": null,
   "metadata": {},
   "outputs": [],
   "source": [
    "lgm_agg_medium <- purrr::map(lgm_rast_list, ~resample_equal_area(.x, km = res_list$medium))\n",
    "# write rasters to file\n",
    "invisible(purrr::map(lgm_agg_medium, ~write_raster(.x, prefix = \"lgm\")))"
   ]
  },
  {
   "cell_type": "markdown",
   "metadata": {},
   "source": [
    "#### 385.9 km resolution"
   ]
  },
  {
   "cell_type": "code",
   "execution_count": null,
   "metadata": {},
   "outputs": [],
   "source": [
    "lgm_agg_low <- purrr::map(lgm_rast_list, ~resample_equal_area(.x, km = res_list$low))\n",
    "# write rasters to file\n",
    "invisible(purrr::map(lgm_agg_low, ~write_raster(.x, prefix = \"lgm\")))"
   ]
  },
  {
   "cell_type": "code",
   "execution_count": 70,
   "metadata": {},
   "outputs": [
    {
     "data": {
      "text/html": [
       "96.5"
      ],
      "text/latex": [
       "96.5"
      ],
      "text/markdown": [
       "96.5"
      ],
      "text/plain": [
       "[1] 96.5"
      ]
     },
     "metadata": {},
     "output_type": "display_data"
    }
   ],
   "source": []
  },
  {
   "cell_type": "code",
   "execution_count": null,
   "metadata": {},
   "outputs": [],
   "source": []
  }
 ],
 "metadata": {
  "kernelspec": {
   "display_name": "R",
   "language": "R",
   "name": "ir"
  },
  "language_info": {
   "codemirror_mode": "r",
   "file_extension": ".r",
   "mimetype": "text/x-r-source",
   "name": "R",
   "pygments_lexer": "r",
   "version": "3.6.1"
  }
 },
 "nbformat": 4,
 "nbformat_minor": 4
}
