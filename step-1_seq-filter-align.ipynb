{
 "cells": [
  {
   "cell_type": "markdown",
   "metadata": {},
   "source": [
    "This script contains the code to filter the sequences used for modeling and align them. Since I ran this script multiple times (one for each raster resolution), I've archived the notebooks in various formats at each resolution in the \"script_archive_publication\" folder, including the date when I ran them."
   ]
  },
  {
   "cell_type": "markdown",
   "metadata": {},
   "source": [
    "Load packages"
   ]
  },
  {
   "cell_type": "code",
   "execution_count": 356,
   "metadata": {},
   "outputs": [],
   "source": [
    "suppressMessages(library(data.table))\n",
    "suppressMessages(library(sf))\n",
    "suppressMessages(library(raster))\n",
    "suppressMessages(library(gdata))\n",
    "suppressMessages(library(rnaturalearth))\n",
    "suppressMessages(library(seqinr))\n",
    "suppressMessages(library(furrr))\n",
    "suppressMessages(library(here))\n",
    "suppressMessages(library(tidyverse))\n",
    "suppressMessages(library(tictoc))\n",
    "\n",
    "suppressMessages(source(\"R/equal_area_resampling.R\")) # aggregate rasters"
   ]
  },
  {
   "cell_type": "markdown",
   "metadata": {},
   "source": [
    "Specify raster resolution and create output folders. Results may differ across resolutions, so I'm testing three different resolutions: 100x100 km, 200x200 km, and 300x300 km. This script needs to be run for each different resolution."
   ]
  },
  {
   "cell_type": "code",
   "execution_count": 357,
   "metadata": {},
   "outputs": [
    {
     "name": "stdout",
     "output_type": "stream",
     "text": [
      "[1] \"Directory already there.\"\n"
     ]
    }
   ],
   "source": [
    "# specify resolution\n",
    "res <- 300\n",
    "\n",
    "# function to check if subfolder exists. If not, make it\n",
    "create_dir <- function(out_path) {\n",
    "  if (!dir.exists(out_path)) {\n",
    "    dir.create(out_path)\n",
    "  } else\n",
    "    print(\"Directory already there.\")\n",
    "}\n",
    "\n",
    "# path for spreadsheet output\n",
    "spread_path <- here::here(\"output\", \"spreadsheets\")\n",
    "\n",
    "create_dir(spread_path)\n",
    "\n",
    "# path for unaligned fastas\n",
    "fasta_path <- here::here(\"output\", paste0(\"fastas_\", res))\n",
    "\n",
    "create_dir(fasta_path)\n",
    "\n",
    "# path for aligned fastas\n",
    "align_path <- here::here(\"output\", paste0(\"alignments_\", res))\n",
    "\n",
    "create_dir(align_path)\n"
   ]
  },
  {
   "cell_type": "markdown",
   "metadata": {},
   "source": [
    "Read in data. Separate the data into a metadata dataframe and a sequence data frame to make filtering faster. Only keep records that contain coordinates, bin_uri identifiers, and are COI sequences."
   ]
  },
  {
   "cell_type": "markdown",
   "metadata": {},
   "source": [
    "**Important columns**: recordID, bin_uri, order_taxID, order_name, family_taxID, family_name, subfamily_taxID, subfamily_name, genus_taxID, genus_name, species_taxID, species_name, collectiondate_start, collectiondate_end, habitat, lat, lon, coord_accuracy, elev, elev_accuracy, depth, country, province_state, region, sequenceID, markercode, genbank_accession, nucleotides, seq_primers, marker_codes    "
   ]
  },
  {
   "cell_type": "code",
   "execution_count": 358,
   "metadata": {},
   "outputs": [
    {
     "data": {
      "text/html": [
       "'Number of records in bold_meta without NAs: 3301025'"
      ],
      "text/latex": [
       "'Number of records in bold\\_meta without NAs: 3301025'"
      ],
      "text/markdown": [
       "'Number of records in bold_meta without NAs: 3301025'"
      ],
      "text/plain": [
       "[1] \"Number of records in bold_meta without NAs: 3301025\""
      ]
     },
     "metadata": {},
     "output_type": "display_data"
    },
    {
     "data": {
      "text/html": [
       "'Number of records in bold_seqs without NAs: 3301025'"
      ],
      "text/latex": [
       "'Number of records in bold\\_seqs without NAs: 3301025'"
      ],
      "text/markdown": [
       "'Number of records in bold_seqs without NAs: 3301025'"
      ],
      "text/plain": [
       "[1] \"Number of records in bold_seqs without NAs: 3301025\""
      ]
     },
     "metadata": {},
     "output_type": "display_data"
    }
   ],
   "source": [
    "bold_meta <- fread(here(\"data\", \"bold_data_insects.txt\"), \n",
    "        na.strings = c(\"\", \"NA\"),\n",
    "        quote = \"\",\n",
    "        select = c(\n",
    "            \"recordID\", \n",
    "            \"bin_uri\", \n",
    "            \"order_taxID\", \n",
    "            \"order_name\", \n",
    "            \"family_taxID\", \n",
    "            \"family_name\", \n",
    "            \"subfamily_taxID\", \n",
    "            \"subfamily_name\", \n",
    "            \"genus_taxID\", \n",
    "            \"genus_name\", \n",
    "            \"species_taxID\", \n",
    "            \"species_name\", \n",
    "            \"collectiondate_start\", \n",
    "            \"collectiondate_end\", \n",
    "            \"habitat\", \n",
    "            \"lat\", \n",
    "            \"lon\", \n",
    "            \"coord_accuracy\", \n",
    "            \"elev\", \n",
    "            \"elev_accuracy\", \n",
    "            \"depth\", \n",
    "            \"country\", \n",
    "            \"province_state\", \n",
    "            \"region\", \n",
    "            \"sequenceID\", \n",
    "            \"markercode\", \n",
    "            \"genbank_accession\",  \n",
    "            \"seq_primers\", \n",
    "            \"marker_codes\"))[\n",
    "    !is.na(lat) &\n",
    "    !is.na(lon) &\n",
    "    !is.na(bin_uri) &\n",
    "    str_detect(markercode, \"COI-5P\")]\n",
    "\n",
    "\n",
    "bold_seqs <- fread(here(\"data\", \"bold_data_insects.txt\"), \n",
    "        na.strings = c(\"\", \"NA\"),\n",
    "        quote = \"\")[\n",
    "    !is.na(lat) &\n",
    "    !is.na(lon) &\n",
    "    !is.na(bin_uri) &\n",
    "    str_detect(markercode, \"COI-5P\"), .(recordID, nucleotides)]\n",
    "\n",
    "paste0(\"Number of records in bold_meta without NAs: \", nrow(bold_meta))\n",
    "paste0(\"Number of records in bold_seqs without NAs: \", nrow(bold_seqs))"
   ]
  },
  {
   "cell_type": "markdown",
   "metadata": {},
   "source": [
    "Get the proportion of missing data for each taxon level in the full data set."
   ]
  },
  {
   "cell_type": "code",
   "execution_count": 359,
   "metadata": {},
   "outputs": [
    {
     "data": {
      "text/html": [
       "<table>\n",
       "<caption>A data.table: 1 × 5</caption>\n",
       "<thead>\n",
       "\t<tr><th scope=col>order</th><th scope=col>family</th><th scope=col>subfamily</th><th scope=col>genus</th><th scope=col>species</th></tr>\n",
       "\t<tr><th scope=col>&lt;dbl&gt;</th><th scope=col>&lt;dbl&gt;</th><th scope=col>&lt;dbl&gt;</th><th scope=col>&lt;dbl&gt;</th><th scope=col>&lt;dbl&gt;</th></tr>\n",
       "</thead>\n",
       "<tbody>\n",
       "\t<tr><td>6.846358e-05</td><td>0.2228941</td><td>0.416537</td><td>0.4165985</td><td>0.5747054</td></tr>\n",
       "</tbody>\n",
       "</table>\n"
      ],
      "text/latex": [
       "A data.table: 1 × 5\n",
       "\\begin{tabular}{lllll}\n",
       " order & family & subfamily & genus & species\\\\\n",
       " <dbl> & <dbl> & <dbl> & <dbl> & <dbl>\\\\\n",
       "\\hline\n",
       "\t 6.846358e-05 & 0.2228941 & 0.416537 & 0.4165985 & 0.5747054\\\\\n",
       "\\end{tabular}\n"
      ],
      "text/markdown": [
       "\n",
       "A data.table: 1 × 5\n",
       "\n",
       "| order &lt;dbl&gt; | family &lt;dbl&gt; | subfamily &lt;dbl&gt; | genus &lt;dbl&gt; | species &lt;dbl&gt; |\n",
       "|---|---|---|---|---|\n",
       "| 6.846358e-05 | 0.2228941 | 0.416537 | 0.4165985 | 0.5747054 |\n",
       "\n"
      ],
      "text/plain": [
       "  order        family    subfamily genus     species  \n",
       "1 6.846358e-05 0.2228941 0.416537  0.4165985 0.5747054"
      ]
     },
     "metadata": {},
     "output_type": "display_data"
    }
   ],
   "source": [
    "taxa_na_table <- bold_meta[, .( order = sum(is.na(order_name)) / nrow(bold_meta),\n",
    "                              family = sum(is.na(family_name)) / nrow(bold_meta),\n",
    "                              subfamily = sum(is.na(subfamily_name)) / nrow(bold_meta),\n",
    "                              genus = sum(is.na(genus_name)) / nrow(bold_meta), \n",
    "                              species = sum(is.na(species_name)) / nrow(bold_meta))]\n",
    "taxa_na_table"
   ]
  },
  {
   "cell_type": "markdown",
   "metadata": {},
   "source": [
    "Get an idea of the distribution of sequence lengths in the data set. There are exceptionally long and short sequences, so we need to do something with those."
   ]
  },
  {
   "cell_type": "code",
   "execution_count": 360,
   "metadata": {},
   "outputs": [
    {
     "data": {
      "text/plain": [
       "   Min. 1st Qu.  Median    Mean 3rd Qu.    Max. \n",
       "  130.0   636.0   658.0   651.2   658.0  1560.0 "
      ]
     },
     "metadata": {},
     "output_type": "display_data"
    },
    {
     "data": {
      "image/png": "[encoded data removed]",
      "text/plain": [
       "Plot with title “Histogram of bold_seq_lengths$n_nucs”"
      ]
     },
     "metadata": {
      "image/png": {
       "height": 420,
       "width": 420
      },
      "text/plain": {
       "height": 420,
       "width": 420
      }
     },
     "output_type": "display_data"
    }
   ],
   "source": [
    "bold_seq_lengths <- bold_seqs[, n_nucs := str_length(nucleotides)]\n",
    "\n",
    "bold_seq_lengths <- na.omit(bold_seq_lengths, cols = \"n_nucs\")\n",
    "\n",
    "bold_seq_lengths %>% \n",
    "    select(recordID, n_nucs) %>% \n",
    "    fwrite(here(\"output\", \"spreadsheets\", \"bold_seq_lengths.csv\"))\n",
    "\n",
    "\n",
    "summary(bold_seq_lengths$n_nucs)\n",
    "hist(bold_seq_lengths$n_nucs, xlab = \"Sequence length\")\n"
   ]
  },
  {
   "cell_type": "markdown",
   "metadata": {},
   "source": [
    "Full taxon list"
   ]
  },
  {
   "cell_type": "code",
   "execution_count": 361,
   "metadata": {},
   "outputs": [
    {
     "data": {
      "text/html": [
       "'Number of unique named species: 65957'"
      ],
      "text/latex": [
       "'Number of unique named species: 65957'"
      ],
      "text/markdown": [
       "'Number of unique named species: 65957'"
      ],
      "text/plain": [
       "[1] \"Number of unique named species: 65957\""
      ]
     },
     "metadata": {},
     "output_type": "display_data"
    },
    {
     "data": {
      "text/html": [
       "<table>\n",
       "<caption>A data.table: 6 × 6</caption>\n",
       "<thead>\n",
       "\t<tr><th scope=col>order_name</th><th scope=col>family_name</th><th scope=col>subfamily_name</th><th scope=col>genus_name</th><th scope=col>species_name</th><th scope=col>sp_suffix</th></tr>\n",
       "\t<tr><th scope=col>&lt;chr&gt;</th><th scope=col>&lt;chr&gt;</th><th scope=col>&lt;chr&gt;</th><th scope=col>&lt;chr&gt;</th><th scope=col>&lt;chr&gt;</th><th scope=col>&lt;chr&gt;</th></tr>\n",
       "</thead>\n",
       "<tbody>\n",
       "\t<tr><td>Lepidoptera</td><td>Geometridae    </td><td>Ennominae     </td><td>Paralaea   </td><td>Paralaea porphyrinaria</td><td>porphyrinaria</td></tr>\n",
       "\t<tr><td>Hemiptera  </td><td>Nepidae        </td><td>Ranatrinae    </td><td>Ranatra    </td><td>Ranatra linearis      </td><td>linearis     </td></tr>\n",
       "\t<tr><td>Lepidoptera</td><td>Noctuidae      </td><td>Condicinae    </td><td>Condica    </td><td>Condica abida         </td><td>abida        </td></tr>\n",
       "\t<tr><td>Diptera    </td><td>Sphaeroceridae </td><td>Limosininae   </td><td>Spelobia   </td><td>Spelobia semioculata  </td><td>semioculata  </td></tr>\n",
       "\t<tr><td>Diptera    </td><td>Mycetophilidae </td><td>Mycetophilinae</td><td>Mycetophila</td><td>Mycetophila perpallida</td><td>perpallida   </td></tr>\n",
       "\t<tr><td>Diptera    </td><td>Ceratopogonidae</td><td>Forcipomyiinae</td><td>Forcipomyia</td><td>Forcipomyia titillans </td><td>titillans    </td></tr>\n",
       "</tbody>\n",
       "</table>\n"
      ],
      "text/latex": [
       "A data.table: 6 × 6\n",
       "\\begin{tabular}{llllll}\n",
       " order\\_name & family\\_name & subfamily\\_name & genus\\_name & species\\_name & sp\\_suffix\\\\\n",
       " <chr> & <chr> & <chr> & <chr> & <chr> & <chr>\\\\\n",
       "\\hline\n",
       "\t Lepidoptera & Geometridae     & Ennominae      & Paralaea    & Paralaea porphyrinaria & porphyrinaria\\\\\n",
       "\t Hemiptera   & Nepidae         & Ranatrinae     & Ranatra     & Ranatra linearis       & linearis     \\\\\n",
       "\t Lepidoptera & Noctuidae       & Condicinae     & Condica     & Condica abida          & abida        \\\\\n",
       "\t Diptera     & Sphaeroceridae  & Limosininae    & Spelobia    & Spelobia semioculata   & semioculata  \\\\\n",
       "\t Diptera     & Mycetophilidae  & Mycetophilinae & Mycetophila & Mycetophila perpallida & perpallida   \\\\\n",
       "\t Diptera     & Ceratopogonidae & Forcipomyiinae & Forcipomyia & Forcipomyia titillans  & titillans    \\\\\n",
       "\\end{tabular}\n"
      ],
      "text/markdown": [
       "\n",
       "A data.table: 6 × 6\n",
       "\n",
       "| order_name &lt;chr&gt; | family_name &lt;chr&gt; | subfamily_name &lt;chr&gt; | genus_name &lt;chr&gt; | species_name &lt;chr&gt; | sp_suffix &lt;chr&gt; |\n",
       "|---|---|---|---|---|---|\n",
       "| Lepidoptera | Geometridae     | Ennominae      | Paralaea    | Paralaea porphyrinaria | porphyrinaria |\n",
       "| Hemiptera   | Nepidae         | Ranatrinae     | Ranatra     | Ranatra linearis       | linearis      |\n",
       "| Lepidoptera | Noctuidae       | Condicinae     | Condica     | Condica abida          | abida         |\n",
       "| Diptera     | Sphaeroceridae  | Limosininae    | Spelobia    | Spelobia semioculata   | semioculata   |\n",
       "| Diptera     | Mycetophilidae  | Mycetophilinae | Mycetophila | Mycetophila perpallida | perpallida    |\n",
       "| Diptera     | Ceratopogonidae | Forcipomyiinae | Forcipomyia | Forcipomyia titillans  | titillans     |\n",
       "\n"
      ],
      "text/plain": [
       "  order_name  family_name     subfamily_name genus_name  species_name          \n",
       "1 Lepidoptera Geometridae     Ennominae      Paralaea    Paralaea porphyrinaria\n",
       "2 Hemiptera   Nepidae         Ranatrinae     Ranatra     Ranatra linearis      \n",
       "3 Lepidoptera Noctuidae       Condicinae     Condica     Condica abida         \n",
       "4 Diptera     Sphaeroceridae  Limosininae    Spelobia    Spelobia semioculata  \n",
       "5 Diptera     Mycetophilidae  Mycetophilinae Mycetophila Mycetophila perpallida\n",
       "6 Diptera     Ceratopogonidae Forcipomyiinae Forcipomyia Forcipomyia titillans \n",
       "  sp_suffix    \n",
       "1 porphyrinaria\n",
       "2 linearis     \n",
       "3 abida        \n",
       "4 semioculata  \n",
       "5 perpallida   \n",
       "6 titillans    "
      ]
     },
     "metadata": {},
     "output_type": "display_data"
    }
   ],
   "source": [
    "bold_meta <- bold_meta[, full_name := str_c(order_name, family_name, subfamily_name, genus_name, species_name)]\n",
    "\n",
    "bold_meta_unique <- unique(bold_meta, by = c(\"full_name\"))\n",
    "\n",
    "# select taxon columns, remove any \"sp.\" Some species names omit the \"sp.\" and just give someone's name (always capitalized) \n",
    "# or numeric identifier\n",
    "bold_meta_taxa  <- bold_meta_unique[, .(order_name, family_name, subfamily_name, genus_name, species_name)][\n",
    "    !str_detect(species_name, \"sp.\")][,\n",
    "    sp_suffix := str_split_fixed(species_name, \" \", n = 2)[,2]][\n",
    "    !str_detect(sp_suffix, \"[[:upper:]]\") &\n",
    "    !str_detect(sp_suffix, \"[0-9]\")] \n",
    "\n",
    "paste(\"Number of unique named species:\", nrow(bold_meta_taxa))\n",
    "head(bold_meta_taxa)\n",
    "\n",
    "fwrite(bold_meta_taxa, here(\"output\", \"spreadsheets\", \"bold_taxa_list_full.csv\"))"
   ]
  },
  {
   "cell_type": "markdown",
   "metadata": {},
   "source": [
    "Convert coordinates to the Behrmann Equal Area projection."
   ]
  },
  {
   "cell_type": "code",
   "execution_count": 362,
   "metadata": {},
   "outputs": [],
   "source": [
    "# convert to sf object and project to behrmann equal area crs\n",
    "behrmann_crs <- \"+proj=cea +lon_0=0 +lat_ts=30 +x_0=0 +y_0=0 +datum=WGS84 +ellps=WGS84 +units=m +no_defs\"\n",
    "\n",
    "bold_data_sf <- st_as_sf(bold_meta, coords = c(\"lon\", \"lat\"), \n",
    "                         crs = 4326, agr = \"constant\") %>% \n",
    "  st_transform(crs = behrmann_crs)\n"
   ]
  },
  {
   "cell_type": "markdown",
   "metadata": {},
   "source": [
    "Read in raster to aggregate individuals with. Doing this at multiple resolutions (100, 200, 300 km)."
   ]
  },
  {
   "cell_type": "code",
   "execution_count": 363,
   "metadata": {},
   "outputs": [
    {
     "data": {
      "text/plain": [
       "class      : RasterLayer \n",
       "band       : 1  (of  19  bands)\n",
       "dimensions : 49, 116, 5684  (nrow, ncol, ncell)\n",
       "resolution : 3e+05, 3e+05  (x, y)\n",
       "extent     : -17367530, 17432470, -7403287, 7296713  (xmin, xmax, ymin, ymax)\n",
       "crs        : +proj=cea +lon_0=0 +lat_ts=30 +x_0=0 +y_0=0 +datum=WGS84 +units=m +no_defs +ellps=WGS84 +towgs84=0,0,0 \n",
       "source     : /Users/labuser/Desktop/connorfrench/bigass-phylogeography/BigAss-phylogeography/data/climate/rasters_300km/chelsa_300km.tif \n",
       "names      : chelsa_300km.1 \n",
       "values     : -485.5433, 301.2781  (min, max)\n"
      ]
     },
     "metadata": {},
     "output_type": "display_data"
    }
   ],
   "source": [
    "### Read in generic raster at specified resolution (I'm using the chelsa climate data I've previously aggregrated and is available if you've run this script previously)\n",
    "## If there are no climate files at the desired resolution, pick a different resolution climate file and resample it. This can take a while.\n",
    "# The res argument needs an integer and clim_file needs a path string (if you don't already have an aggregated raster)\n",
    "read_agg_raster <- function(res = 100, clim_file = NULL) {\n",
    "  agg_file <- here(\"data\", \"climate\", paste0(\"rasters_\", res, \"km\"), paste0(\"chelsa_\", res, \"km.tif\"))\n",
    "  if(file.exists(agg_file)) {\n",
    "    agg_rast <- raster::stack(agg_file)[[1]]\n",
    "    } else  {\n",
    "    print(\"You need a raster to aggregate. Supply a raster path to the 'clim_file' argument and procede.\")\n",
    "    if(!is.null(clim_file)) {\n",
    "      f <- raster(clim_file)\n",
    "      agg_rast <- f %>% \n",
    "        resample_equal_area(km = res)\n",
    "      }\n",
    "    }\n",
    "}\n",
    "\n",
    "\n",
    "# resample the env't to specified resolution cells. \n",
    "agg_rast <- read_agg_raster(res = res) \n",
    "\n",
    "agg_rast"
   ]
  },
  {
   "cell_type": "markdown",
   "metadata": {},
   "source": [
    "Extract the values from the aggregation raster. We're doing this to get the cell numbers that each OTU belongs to."
   ]
  },
  {
   "cell_type": "code",
   "execution_count": 364,
   "metadata": {},
   "outputs": [],
   "source": [
    "pts_ext <- raster::extract(agg_rast, bold_data_sf, fun = \"count\", sp = TRUE, cellnumbers = TRUE) %>% \n",
    "    as.data.table()\n",
    "\n",
    "setnames(pts_ext, old = c(\"coords.x1\", \"coords.x2\"), new = c(\"longitude\", \"latitude\"))"
   ]
  },
  {
   "cell_type": "markdown",
   "metadata": {},
   "source": [
    "Before I filter the data geographically, I need to filter the sequence data."
   ]
  },
  {
   "cell_type": "markdown",
   "metadata": {},
   "source": [
    "## Filter sequence data"
   ]
  },
  {
   "cell_type": "markdown",
   "metadata": {},
   "source": [
    "It seems like there are are a non-trivial number of OTUs with exceptionally high or low numbers of nucleotides. It looks like a lot of the the sequences have end gaps that are a significant proportion of the sequence length. Since this is probably from primers being left in or being aligned with COI + ITS or some other gene alignment before being submitted, I think it's safe to remove these gaps. "
   ]
  },
  {
   "cell_type": "code",
   "execution_count": 365,
   "metadata": {},
   "outputs": [
    {
     "data": {
      "text/html": [
       "'Proportion of long sequences with end gaps that make up &gt; 30% of the sequence: 0.67599828137168'"
      ],
      "text/latex": [
       "'Proportion of long sequences with end gaps that make up > 30\\% of the sequence: 0.67599828137168'"
      ],
      "text/markdown": [
       "'Proportion of long sequences with end gaps that make up &gt; 30% of the sequence: 0.67599828137168'"
      ],
      "text/plain": [
       "[1] \"Proportion of long sequences with end gaps that make up > 30% of the sequence: 0.67599828137168\""
      ]
     },
     "metadata": {},
     "output_type": "display_data"
    },
    {
     "data": {
      "image/png": "[encoded data removed]",
      "text/plain": [
       "Plot with title “Histogram of bold_seq_long$end_prop”"
      ]
     },
     "metadata": {
      "image/png": {
       "height": 420,
       "width": 420
      },
      "text/plain": {
       "height": 420,
       "width": 420
      }
     },
     "output_type": "display_data"
    }
   ],
   "source": [
    "# A \"long\" sequence is considered a sequence with over 800 bp\n",
    "bold_seq_long <- bold_seq_lengths[n_nucs > 800]\n",
    "\n",
    "bold_seq_long[, end_count := str_length(str_extract(nucleotides, \"[^[A-Za-z]]*$\"))][, end_prop := end_count / n_nucs]\n",
    "\n",
    "paste0(\"Proportion of long sequences with end gaps that make up > 30% of the sequence: \", \n",
    "       length(bold_seq_long$end_prop[bold_seq_long$end_prop > 0.3]) / nrow(bold_seq_long))\n",
    "\n",
    "hist(bold_seq_long$end_prop)"
   ]
  },
  {
   "cell_type": "code",
   "execution_count": 366,
   "metadata": {},
   "outputs": [
    {
     "data": {
      "text/plain": [
       "   Min. 1st Qu.  Median    Mean 3rd Qu.    Max. \n",
       " 0.1109  0.9145  0.9871  0.9481  1.0000  1.0000 "
      ]
     },
     "metadata": {},
     "output_type": "display_data"
    }
   ],
   "source": [
    "bold_seq_trimmed <- bold_seq_lengths[,nucs_trimmed := str_remove(nucleotides, \"[^[A-Za-z]]*$\")\n",
    "                                    ][,nucs_trimmed := str_remove(nucs_trimmed, \"^[^[A-Za-z]]*\")\n",
    "                                     ][,n_trimmed := str_length(nucs_trimmed)\n",
    "                                     ][,length_prop := n_trimmed / n_nucs\n",
    "                                      ]\n",
    "\n",
    "\n",
    "summary(bold_seq_trimmed$length_prop)"
   ]
  },
  {
   "cell_type": "markdown",
   "metadata": {},
   "source": [
    "Trimming the ends greatly reduced the number of long sequences in the data set."
   ]
  },
  {
   "cell_type": "code",
   "execution_count": 367,
   "metadata": {},
   "outputs": [
    {
     "data": {
      "text/html": [
       "'Number of long sequences in full data set: 74478'"
      ],
      "text/latex": [
       "'Number of long sequences in full data set: 74478'"
      ],
      "text/markdown": [
       "'Number of long sequences in full data set: 74478'"
      ],
      "text/plain": [
       "[1] \"Number of long sequences in full data set: 74478\""
      ]
     },
     "metadata": {},
     "output_type": "display_data"
    },
    {
     "data": {
      "text/html": [
       "'Number of long sequences in trimmed data set: 3951'"
      ],
      "text/latex": [
       "'Number of long sequences in trimmed data set: 3951'"
      ],
      "text/markdown": [
       "'Number of long sequences in trimmed data set: 3951'"
      ],
      "text/plain": [
       "[1] \"Number of long sequences in trimmed data set: 3951\""
      ]
     },
     "metadata": {},
     "output_type": "display_data"
    },
    {
     "data": {
      "text/html": [
       "'Proportion: 0.053049222589221'"
      ],
      "text/latex": [
       "'Proportion: 0.053049222589221'"
      ],
      "text/markdown": [
       "'Proportion: 0.053049222589221'"
      ],
      "text/plain": [
       "[1] \"Proportion: 0.053049222589221\""
      ]
     },
     "metadata": {},
     "output_type": "display_data"
    }
   ],
   "source": [
    "paste0(\"Number of long sequences in full data set: \", nrow(bold_seq_lengths[n_nucs > 800]))\n",
    "paste0(\"Number of long sequences in trimmed data set: \", nrow(bold_seq_trimmed[n_trimmed > 800]))\n",
    "paste0(\"Proportion: \", nrow(bold_seq_trimmed[n_trimmed > 800]) / nrow(bold_seq_lengths[n_nucs > 800]))"
   ]
  },
  {
   "cell_type": "markdown",
   "metadata": {},
   "source": [
    "Short sequences make up a small proportion of total sequences. Removing these probably won't impact the overall number of cells we recover. If included, they could impact the diversity measurements made from those alignments, so I'm going to remove them and see what happens. Using 400 as a threshold because BOLD's lower threshold for BIN assignment is 300, but we're interested in nucleotide diversity, so a more conservative threshold is warranted"
   ]
  },
  {
   "cell_type": "code",
   "execution_count": 368,
   "metadata": {},
   "outputs": [
    {
     "data": {
      "text/html": [
       "5954"
      ],
      "text/latex": [
       "5954"
      ],
      "text/markdown": [
       "5954"
      ],
      "text/plain": [
       "[1] 5954"
      ]
     },
     "metadata": {},
     "output_type": "display_data"
    },
    {
     "data": {
      "text/html": [
       "0.00180368218962292"
      ],
      "text/latex": [
       "0.00180368218962292"
      ],
      "text/markdown": [
       "0.00180368218962292"
      ],
      "text/plain": [
       "[1] 0.001803682"
      ]
     },
     "metadata": {},
     "output_type": "display_data"
    }
   ],
   "source": [
    "nrow(bold_seq_trimmed[n_trimmed < 400])\n",
    "nrow(bold_seq_trimmed[n_trimmed < 400]) / nrow(bold_seq_trimmed)"
   ]
  },
  {
   "cell_type": "markdown",
   "metadata": {},
   "source": [
    "I'm taking a closer look at the distribution of gaps in sequences with the end gaps trimmed off. It looks like there are still some sequences with a large number of gaps, even with the ends trimmed!\n",
    "\n"
   ]
  },
  {
   "cell_type": "code",
   "execution_count": 369,
   "metadata": {},
   "outputs": [
    {
     "data": {
      "text/html": [
       "481"
      ],
      "text/latex": [
       "481"
      ],
      "text/markdown": [
       "481"
      ],
      "text/plain": [
       "[1] 481"
      ]
     },
     "metadata": {},
     "output_type": "display_data"
    }
   ],
   "source": [
    "# how many gaps are in the trimmed sequences?\n",
    "bold_seq_trimmed <- bold_seq_trimmed[, n_gaps_trim := str_count(nucs_trimmed, \"-\")]\n",
    "\n",
    "sum(bold_seq_trimmed$n_gaps_trim > 100)\n"
   ]
  },
  {
   "cell_type": "markdown",
   "metadata": {},
   "source": [
    "Let's see the number of nucleotides after removing ALL gaps. It reduces the number of long sequences, but does not account for all of them. "
   ]
  },
  {
   "cell_type": "code",
   "execution_count": 370,
   "metadata": {},
   "outputs": [
    {
     "data": {
      "text/html": [
       "'Before: 3951'"
      ],
      "text/latex": [
       "'Before: 3951'"
      ],
      "text/markdown": [
       "'Before: 3951'"
      ],
      "text/plain": [
       "[1] \"Before: 3951\""
      ]
     },
     "metadata": {},
     "output_type": "display_data"
    },
    {
     "data": {
      "text/html": [
       "'After: 3790'"
      ],
      "text/latex": [
       "'After: 3790'"
      ],
      "text/markdown": [
       "'After: 3790'"
      ],
      "text/plain": [
       "[1] \"After: 3790\""
      ]
     },
     "metadata": {},
     "output_type": "display_data"
    }
   ],
   "source": [
    "bold_seq_trimmed <- bold_seq_trimmed[, nucs_all_trim := str_remove_all(nucs_trimmed, \"-\")\n",
    "                                    ][, n_nucs_all_trim := str_length(nucs_all_trim)]\n",
    "\n",
    "\n",
    "\n",
    "paste0(\"Before: \", nrow(bold_seq_trimmed[n_trimmed > 800]))\n",
    "paste0(\"After: \", nrow(bold_seq_trimmed[n_nucs_all_trim > 800]))"
   ]
  },
  {
   "cell_type": "code",
   "execution_count": 371,
   "metadata": {},
   "outputs": [
    {
     "data": {
      "text/html": [
       "'Mean before: 616.017805681569'"
      ],
      "text/latex": [
       "'Mean before: 616.017805681569'"
      ],
      "text/markdown": [
       "'Mean before: 616.017805681569'"
      ],
      "text/plain": [
       "[1] \"Mean before: 616.017805681569\""
      ]
     },
     "metadata": {},
     "output_type": "display_data"
    },
    {
     "data": {
      "text/html": [
       "'Mean after: 614.463911663801'"
      ],
      "text/latex": [
       "'Mean after: 614.463911663801'"
      ],
      "text/markdown": [
       "'Mean after: 614.463911663801'"
      ],
      "text/plain": [
       "[1] \"Mean after: 614.463911663801\""
      ]
     },
     "metadata": {},
     "output_type": "display_data"
    },
    {
     "data": {
      "text/html": [
       "'Median before: 624'"
      ],
      "text/latex": [
       "'Median before: 624'"
      ],
      "text/markdown": [
       "'Median before: 624'"
      ],
      "text/plain": [
       "[1] \"Median before: 624\""
      ]
     },
     "metadata": {},
     "output_type": "display_data"
    },
    {
     "data": {
      "text/html": [
       "'Median after: 624'"
      ],
      "text/latex": [
       "'Median after: 624'"
      ],
      "text/markdown": [
       "'Median after: 624'"
      ],
      "text/plain": [
       "[1] \"Median after: 624\""
      ]
     },
     "metadata": {},
     "output_type": "display_data"
    }
   ],
   "source": [
    "paste0(\"Mean before: \", mean(bold_seq_trimmed$n_trimmed))\n",
    "\n",
    "paste0(\"Mean after: \", mean(bold_seq_trimmed$n_nucs_all_trim))\n",
    "\n",
    "paste0(\"Median before: \", median(bold_seq_trimmed$n_nucs_all_trim))\n",
    "\n",
    "paste0(\"Median after: \", median(bold_seq_trimmed$n_nucs_all_trim))"
   ]
  },
  {
   "cell_type": "markdown",
   "metadata": {},
   "source": [
    "A high number of ambiguous bases may be adding to sequence length, and a high proportion of ambiguous bases indicates poor sequencing anyways. A 1% threshold is typical. I'm also filtering for the exceptionally long sequences at this point. Including long sequences can mess up the alignments and may include primers or Wolbachia/bacterial insertions that we're not interested in. I'm filtering out any sequence longer than 800 basepairs. In addition, I'm filtering out short sequences (<400 bp), as these are fragments and are allowed in the BOLD database for matching to existing OTUs, but not for assessing diversity.  \n",
    "\n",
    "*Note- I wanted to check for primers in sequences, but the BOLD primer database doesn't have FASTAs for a lot of the primers. For many, the \"FASTA file\" is really just a reference number for the sequence in its publication. Since it would be a herculean effort for just a small fraction of the sequences, I'm going to remove all of the long sequences.*"
   ]
  },
  {
   "cell_type": "code",
   "execution_count": 372,
   "metadata": {},
   "outputs": [],
   "source": [
    "bold_seq_trimmed  <- bold_seq_trimmed[, prop_ambig := str_count(nucs_all_trim, \"N\") / n_nucs_all_trim]"
   ]
  },
  {
   "cell_type": "code",
   "execution_count": 373,
   "metadata": {},
   "outputs": [
    {
     "data": {
      "text/html": [
       "'Number of sequences before filtering: 3301025'"
      ],
      "text/latex": [
       "'Number of sequences before filtering: 3301025'"
      ],
      "text/markdown": [
       "'Number of sequences before filtering: 3301025'"
      ],
      "text/plain": [
       "[1] \"Number of sequences before filtering: 3301025\""
      ]
     },
     "metadata": {},
     "output_type": "display_data"
    },
    {
     "data": {
      "text/html": [
       "'Number of sequences after filtering: 3243308'"
      ],
      "text/latex": [
       "'Number of sequences after filtering: 3243308'"
      ],
      "text/markdown": [
       "'Number of sequences after filtering: 3243308'"
      ],
      "text/plain": [
       "[1] \"Number of sequences after filtering: 3243308\""
      ]
     },
     "metadata": {},
     "output_type": "display_data"
    },
    {
     "data": {
      "text/html": [
       "'Difference: 57717'"
      ],
      "text/latex": [
       "'Difference: 57717'"
      ],
      "text/markdown": [
       "'Difference: 57717'"
      ],
      "text/plain": [
       "[1] \"Difference: 57717\""
      ]
     },
     "metadata": {},
     "output_type": "display_data"
    }
   ],
   "source": [
    "# filter for ambiguous bases and long sequences\n",
    "bold_seq_filtered <- bold_seq_trimmed[prop_ambig <= .01][n_nucs_all_trim <= 800 & n_nucs_all_trim >= 400]\n",
    "\n",
    "paste0(\"Number of sequences before filtering: \", nrow(bold_seq_trimmed))\n",
    "paste0(\"Number of sequences after filtering: \", nrow(bold_seq_filtered))\n",
    "paste0(\"Difference: \", nrow(bold_seq_trimmed) - nrow(bold_seq_filtered))\n"
   ]
  },
  {
   "cell_type": "markdown",
   "metadata": {},
   "source": [
    "## Filter geography and invasive species"
   ]
  },
  {
   "cell_type": "markdown",
   "metadata": {},
   "source": [
    "Filter the data set for five or more sequences per OTU per cell and ten or more OTUs per cell. Note that the **numseqs** column indicates the number of sequences per cell for the entire OTU, not the individual. Therefore, there will be repetition of this number across individuals within an OTU per cell. There's definitely a more concise way to do this, but I wanted to retain the number of sequences and number of OTUs as columns, so I'm doing it the long way."
   ]
  },
  {
   "cell_type": "code",
   "execution_count": 374,
   "metadata": {},
   "outputs": [
    {
     "data": {
      "text/html": [
       "<table>\n",
       "<caption>A data.table: 2382264 × 35</caption>\n",
       "<thead>\n",
       "\t<tr><th scope=col>recordID</th><th scope=col>bin_uri</th><th scope=col>order_taxID</th><th scope=col>order_name</th><th scope=col>family_taxID</th><th scope=col>family_name</th><th scope=col>subfamily_taxID</th><th scope=col>subfamily_name</th><th scope=col>genus_taxID</th><th scope=col>genus_name</th><th scope=col>⋯</th><th scope=col>seq_primers</th><th scope=col>marker_codes</th><th scope=col>full_name</th><th scope=col>cells</th><th scope=col>chelsa_300km.1</th><th scope=col>longitude</th><th scope=col>latitude</th><th scope=col>n_nucs_all_trim</th><th scope=col>numseqs</th><th scope=col>numotus</th></tr>\n",
       "\t<tr><th scope=col>&lt;int&gt;</th><th scope=col>&lt;chr&gt;</th><th scope=col>&lt;int&gt;</th><th scope=col>&lt;chr&gt;</th><th scope=col>&lt;int&gt;</th><th scope=col>&lt;chr&gt;</th><th scope=col>&lt;int&gt;</th><th scope=col>&lt;chr&gt;</th><th scope=col>&lt;int&gt;</th><th scope=col>&lt;chr&gt;</th><th scope=col>⋯</th><th scope=col>&lt;chr&gt;</th><th scope=col>&lt;chr&gt;</th><th scope=col>&lt;chr&gt;</th><th scope=col>&lt;fct&gt;</th><th scope=col>&lt;dbl&gt;</th><th scope=col>&lt;dbl&gt;</th><th scope=col>&lt;dbl&gt;</th><th scope=col>&lt;int&gt;</th><th scope=col>&lt;int&gt;</th><th scope=col>&lt;int&gt;</th></tr>\n",
       "</thead>\n",
       "<tbody>\n",
       "\t<tr><td>5086047</td><td>BOLD:AAA3750</td><td>127</td><td>Diptera</td><td>1730</td><td>Culicidae   </td><td> 2142</td><td>Culicinae     </td><td> 6438</td><td>Aedes       </td><td>⋯</td><td>C_LepFolR</td><td>COI-5P</td><td>NA                                                               </td><td>20</td><td>-151.8424</td><td>-11535031</td><td>7027265</td><td>534</td><td>12</td><td>53</td></tr>\n",
       "\t<tr><td>5085883</td><td>BOLD:AAA3750</td><td>127</td><td>Diptera</td><td>1730</td><td>Culicidae   </td><td> 2142</td><td>Culicinae     </td><td> 6438</td><td>Aedes       </td><td>⋯</td><td>C_LepFolR</td><td>COI-5P</td><td>NA                                                               </td><td>20</td><td>-151.8424</td><td>-11535031</td><td>7027265</td><td>588</td><td>12</td><td>53</td></tr>\n",
       "\t<tr><td>5085882</td><td>BOLD:AAA3750</td><td>127</td><td>Diptera</td><td>1730</td><td>Culicidae   </td><td> 2142</td><td>Culicinae     </td><td> 6438</td><td>Aedes       </td><td>⋯</td><td>C_LepFolR</td><td>COI-5P</td><td>NA                                                               </td><td>20</td><td>-151.8424</td><td>-11535031</td><td>7027265</td><td>588</td><td>12</td><td>53</td></tr>\n",
       "\t<tr><td>5086188</td><td>BOLD:AAA3750</td><td>127</td><td>Diptera</td><td>1730</td><td>Culicidae   </td><td> 2142</td><td>Culicinae     </td><td> 6438</td><td>Aedes       </td><td>⋯</td><td>C_LepFolR</td><td>COI-5P</td><td>NA                                                               </td><td>20</td><td>-151.8424</td><td>-11535031</td><td>7027265</td><td>633</td><td>12</td><td>53</td></tr>\n",
       "\t<tr><td>5086575</td><td>BOLD:AAA3750</td><td>127</td><td>Diptera</td><td>1730</td><td>Culicidae   </td><td> 2142</td><td>Culicinae     </td><td> 6438</td><td>Aedes       </td><td>⋯</td><td>C_LepFolR</td><td>COI-5P</td><td>NA                                                               </td><td>20</td><td>-151.8424</td><td>-11535031</td><td>7027265</td><td>588</td><td>12</td><td>53</td></tr>\n",
       "\t<tr><td>5086076</td><td>BOLD:AAA3750</td><td>127</td><td>Diptera</td><td>1730</td><td>Culicidae   </td><td> 2142</td><td>Culicinae     </td><td> 6438</td><td>Aedes       </td><td>⋯</td><td>C_LepFolR</td><td>COI-5P</td><td>NA                                                               </td><td>20</td><td>-151.8424</td><td>-11535031</td><td>7027265</td><td>602</td><td>12</td><td>53</td></tr>\n",
       "\t<tr><td>5085950</td><td>BOLD:AAA3750</td><td>127</td><td>Diptera</td><td>1730</td><td>Culicidae   </td><td> 2142</td><td>Culicinae     </td><td> 6438</td><td>Aedes       </td><td>⋯</td><td>C_LepFolR</td><td>COI-5P</td><td>NA                                                               </td><td>20</td><td>-151.8424</td><td>-11535031</td><td>7027265</td><td>564</td><td>12</td><td>53</td></tr>\n",
       "\t<tr><td>5086034</td><td>BOLD:AAA3750</td><td>127</td><td>Diptera</td><td>1730</td><td>Culicidae   </td><td> 2142</td><td>Culicinae     </td><td> 6438</td><td>Aedes       </td><td>⋯</td><td>C_LepFolR</td><td>COI-5P</td><td>NA                                                               </td><td>20</td><td>-151.8424</td><td>-11535031</td><td>7027265</td><td>552</td><td>12</td><td>53</td></tr>\n",
       "\t<tr><td>5085924</td><td>BOLD:AAA3750</td><td>127</td><td>Diptera</td><td>1730</td><td>Culicidae   </td><td> 2142</td><td>Culicinae     </td><td> 6438</td><td>Aedes       </td><td>⋯</td><td>C_LepFolR</td><td>COI-5P</td><td>NA                                                               </td><td>20</td><td>-151.8424</td><td>-11535031</td><td>7027265</td><td>633</td><td>12</td><td>53</td></tr>\n",
       "\t<tr><td>5085972</td><td>BOLD:AAA3750</td><td>127</td><td>Diptera</td><td>1730</td><td>Culicidae   </td><td> 2142</td><td>Culicinae     </td><td> 6438</td><td>Aedes       </td><td>⋯</td><td>C_LepFolR</td><td>COI-5P</td><td>NA                                                               </td><td>20</td><td>-151.8424</td><td>-11535031</td><td>7027265</td><td>618</td><td>12</td><td>53</td></tr>\n",
       "\t<tr><td>5104147</td><td>BOLD:AAA3750</td><td>127</td><td>Diptera</td><td>1730</td><td>Culicidae   </td><td> 2142</td><td>Culicinae     </td><td> 6438</td><td>Aedes       </td><td>⋯</td><td>C_LepFolR</td><td>COI-5P</td><td>NA                                                               </td><td>20</td><td>-151.8424</td><td>-11535031</td><td>7027265</td><td>609</td><td>12</td><td>53</td></tr>\n",
       "\t<tr><td>5086246</td><td>BOLD:AAA3750</td><td>127</td><td>Diptera</td><td>1730</td><td>Culicidae   </td><td> 2142</td><td>Culicinae     </td><td> 6438</td><td>Aedes       </td><td>⋯</td><td>C_LepFolR</td><td>COI-5P</td><td>NA                                                               </td><td>20</td><td>-151.8424</td><td>-11535031</td><td>7027265</td><td>552</td><td>12</td><td>53</td></tr>\n",
       "\t<tr><td>5086178</td><td>BOLD:AAA9429</td><td>127</td><td>Diptera</td><td>1882</td><td>Chironomidae</td><td>56413</td><td>Orthocladiinae</td><td>56414</td><td>Metriocnemus</td><td>⋯</td><td>C_LepFolR</td><td>COI-5P</td><td>DipteraChironomidaeOrthocladiinaeMetriocnemusMetriocnemus sp. 1ES</td><td>20</td><td>-151.8424</td><td>-11535031</td><td>7027265</td><td>609</td><td>40</td><td>53</td></tr>\n",
       "\t<tr><td>5086571</td><td>BOLD:AAA9429</td><td>127</td><td>Diptera</td><td>1882</td><td>Chironomidae</td><td>56413</td><td>Orthocladiinae</td><td>56414</td><td>Metriocnemus</td><td>⋯</td><td>C_LepFolR</td><td>COI-5P</td><td>DipteraChironomidaeOrthocladiinaeMetriocnemusMetriocnemus sp. 1ES</td><td>20</td><td>-151.8424</td><td>-11535031</td><td>7027265</td><td>582</td><td>40</td><td>53</td></tr>\n",
       "\t<tr><td>5086068</td><td>BOLD:AAA9429</td><td>127</td><td>Diptera</td><td>1882</td><td>Chironomidae</td><td>56413</td><td>Orthocladiinae</td><td>56414</td><td>Metriocnemus</td><td>⋯</td><td>C_LepFolR</td><td>COI-5P</td><td>DipteraChironomidaeOrthocladiinaeMetriocnemusMetriocnemus sp. 1ES</td><td>20</td><td>-151.8424</td><td>-11535031</td><td>7027265</td><td>564</td><td>40</td><td>53</td></tr>\n",
       "\t<tr><td>5086185</td><td>BOLD:AAA9429</td><td>127</td><td>Diptera</td><td>1882</td><td>Chironomidae</td><td>56413</td><td>Orthocladiinae</td><td>56414</td><td>Metriocnemus</td><td>⋯</td><td>C_LepFolR</td><td>COI-5P</td><td>DipteraChironomidaeOrthocladiinaeMetriocnemusMetriocnemus sp. 1ES</td><td>20</td><td>-151.8424</td><td>-11535031</td><td>7027265</td><td>567</td><td>40</td><td>53</td></tr>\n",
       "\t<tr><td>5086508</td><td>BOLD:AAA9429</td><td>127</td><td>Diptera</td><td>1882</td><td>Chironomidae</td><td>56413</td><td>Orthocladiinae</td><td>56414</td><td>Metriocnemus</td><td>⋯</td><td>C_LepFolR</td><td>COI-5P</td><td>DipteraChironomidaeOrthocladiinaeMetriocnemusMetriocnemus sp. 1ES</td><td>20</td><td>-151.8424</td><td>-11535031</td><td>7027265</td><td>588</td><td>40</td><td>53</td></tr>\n",
       "\t<tr><td>5086187</td><td>BOLD:AAA9429</td><td>127</td><td>Diptera</td><td>1882</td><td>Chironomidae</td><td>56413</td><td>Orthocladiinae</td><td>56414</td><td>Metriocnemus</td><td>⋯</td><td>C_LepFolR</td><td>COI-5P</td><td>DipteraChironomidaeOrthocladiinaeMetriocnemusMetriocnemus sp. 1ES</td><td>20</td><td>-151.8424</td><td>-11535031</td><td>7027265</td><td>627</td><td>40</td><td>53</td></tr>\n",
       "\t<tr><td>5086105</td><td>BOLD:AAA9429</td><td>127</td><td>Diptera</td><td>1882</td><td>Chironomidae</td><td>56413</td><td>Orthocladiinae</td><td>56414</td><td>Metriocnemus</td><td>⋯</td><td>C_LepFolR</td><td>COI-5P</td><td>DipteraChironomidaeOrthocladiinaeMetriocnemusMetriocnemus sp. 1ES</td><td>20</td><td>-151.8424</td><td>-11535031</td><td>7027265</td><td>573</td><td>40</td><td>53</td></tr>\n",
       "\t<tr><td>5085979</td><td>BOLD:AAA9429</td><td>127</td><td>Diptera</td><td>1882</td><td>Chironomidae</td><td>56413</td><td>Orthocladiinae</td><td>56414</td><td>Metriocnemus</td><td>⋯</td><td>C_LepFolR</td><td>COI-5P</td><td>DipteraChironomidaeOrthocladiinaeMetriocnemusMetriocnemus sp. 1ES</td><td>20</td><td>-151.8424</td><td>-11535031</td><td>7027265</td><td>609</td><td>40</td><td>53</td></tr>\n",
       "\t<tr><td>5086397</td><td>BOLD:AAA9429</td><td>127</td><td>Diptera</td><td>1882</td><td>Chironomidae</td><td>56413</td><td>Orthocladiinae</td><td>56414</td><td>Metriocnemus</td><td>⋯</td><td>C_LepFolR</td><td>COI-5P</td><td>DipteraChironomidaeOrthocladiinaeMetriocnemusMetriocnemus sp. 1ES</td><td>20</td><td>-151.8424</td><td>-11535031</td><td>7027265</td><td>564</td><td>40</td><td>53</td></tr>\n",
       "\t<tr><td>5086006</td><td>BOLD:AAA9429</td><td>127</td><td>Diptera</td><td>1882</td><td>Chironomidae</td><td>56413</td><td>Orthocladiinae</td><td>56414</td><td>Metriocnemus</td><td>⋯</td><td>C_LepFolR</td><td>COI-5P</td><td>DipteraChironomidaeOrthocladiinaeMetriocnemusMetriocnemus sp. 1ES</td><td>20</td><td>-151.8424</td><td>-11535031</td><td>7027265</td><td>555</td><td>40</td><td>53</td></tr>\n",
       "\t<tr><td>5086606</td><td>BOLD:AAA9429</td><td>127</td><td>Diptera</td><td>1882</td><td>Chironomidae</td><td>56413</td><td>Orthocladiinae</td><td>56414</td><td>Metriocnemus</td><td>⋯</td><td>C_LepFolR</td><td>COI-5P</td><td>DipteraChironomidaeOrthocladiinaeMetriocnemusMetriocnemus sp. 1ES</td><td>20</td><td>-151.8424</td><td>-11535031</td><td>7027265</td><td>579</td><td>40</td><td>53</td></tr>\n",
       "\t<tr><td>5086259</td><td>BOLD:AAA9429</td><td>127</td><td>Diptera</td><td>1882</td><td>Chironomidae</td><td>56413</td><td>Orthocladiinae</td><td>56414</td><td>Metriocnemus</td><td>⋯</td><td>C_LepFolR</td><td>COI-5P</td><td>DipteraChironomidaeOrthocladiinaeMetriocnemusMetriocnemus sp. 1ES</td><td>20</td><td>-151.8424</td><td>-11535031</td><td>7027265</td><td>627</td><td>40</td><td>53</td></tr>\n",
       "\t<tr><td>5086009</td><td>BOLD:AAA9429</td><td>127</td><td>Diptera</td><td>1882</td><td>Chironomidae</td><td>56413</td><td>Orthocladiinae</td><td>56414</td><td>Metriocnemus</td><td>⋯</td><td>C_LepFolR</td><td>COI-5P</td><td>DipteraChironomidaeOrthocladiinaeMetriocnemusMetriocnemus sp. 1ES</td><td>20</td><td>-151.8424</td><td>-11535031</td><td>7027265</td><td>582</td><td>40</td><td>53</td></tr>\n",
       "\t<tr><td>5086556</td><td>BOLD:AAA9429</td><td>127</td><td>Diptera</td><td>1882</td><td>Chironomidae</td><td>56413</td><td>Orthocladiinae</td><td>56414</td><td>Metriocnemus</td><td>⋯</td><td>C_LepFolR</td><td>COI-5P</td><td>DipteraChironomidaeOrthocladiinaeMetriocnemusMetriocnemus sp. 1ES</td><td>20</td><td>-151.8424</td><td>-11535031</td><td>7027265</td><td>582</td><td>40</td><td>53</td></tr>\n",
       "\t<tr><td>5086620</td><td>BOLD:AAA9429</td><td>127</td><td>Diptera</td><td>1882</td><td>Chironomidae</td><td>56413</td><td>Orthocladiinae</td><td>56414</td><td>Metriocnemus</td><td>⋯</td><td>C_LepFolR</td><td>COI-5P</td><td>DipteraChironomidaeOrthocladiinaeMetriocnemusMetriocnemus sp. 1ES</td><td>20</td><td>-151.8424</td><td>-11535031</td><td>7027265</td><td>552</td><td>40</td><td>53</td></tr>\n",
       "\t<tr><td>5086063</td><td>BOLD:AAA9429</td><td>127</td><td>Diptera</td><td>1882</td><td>Chironomidae</td><td>56413</td><td>Orthocladiinae</td><td>56414</td><td>Metriocnemus</td><td>⋯</td><td>C_LepFolR</td><td>COI-5P</td><td>DipteraChironomidaeOrthocladiinaeMetriocnemusMetriocnemus sp. 1ES</td><td>20</td><td>-151.8424</td><td>-11535031</td><td>7027265</td><td>555</td><td>40</td><td>53</td></tr>\n",
       "\t<tr><td>5086092</td><td>BOLD:AAA9429</td><td>127</td><td>Diptera</td><td>1882</td><td>Chironomidae</td><td>56413</td><td>Orthocladiinae</td><td>56414</td><td>Metriocnemus</td><td>⋯</td><td>C_LepFolR</td><td>COI-5P</td><td>DipteraChironomidaeOrthocladiinaeMetriocnemusMetriocnemus sp. 1ES</td><td>20</td><td>-151.8424</td><td>-11535031</td><td>7027265</td><td>534</td><td>40</td><td>53</td></tr>\n",
       "\t<tr><td>5086544</td><td>BOLD:AAA9429</td><td>127</td><td>Diptera</td><td>1882</td><td>Chironomidae</td><td>56413</td><td>Orthocladiinae</td><td>56414</td><td>Metriocnemus</td><td>⋯</td><td>C_LepFolR</td><td>COI-5P</td><td>DipteraChironomidaeOrthocladiinaeMetriocnemusMetriocnemus sp. 1ES</td><td>20</td><td>-151.8424</td><td>-11535031</td><td>7027265</td><td>582</td><td>40</td><td>53</td></tr>\n",
       "\t<tr><td>⋮</td><td>⋮</td><td>⋮</td><td>⋮</td><td>⋮</td><td>⋮</td><td>⋮</td><td>⋮</td><td>⋮</td><td>⋮</td><td>⋱</td><td>⋮</td><td>⋮</td><td>⋮</td><td>⋮</td><td>⋮</td><td>⋮</td><td>⋮</td><td>⋮</td><td>⋮</td><td>⋮</td></tr>\n",
       "\t<tr><td>2776586</td><td>BOLD:ACF4049</td><td>  125</td><td>Hymenoptera </td><td>  563</td><td>Ichneumonidae</td><td>65126</td><td>Ichneumoninae</td><td>306929</td><td>Aucklandella   </td><td>⋯</td><td>LepR1|LepF1                    </td><td>COI-5P|COI-5P              </td><td>NA                                                                 </td><td>4869</td><td>82.40519</td><td>16452937</td><td>-5255832</td><td>658</td><td>11</td><td>51</td></tr>\n",
       "\t<tr><td>2776581</td><td>BOLD:ACF4049</td><td>  125</td><td>Hymenoptera </td><td>  563</td><td>Ichneumonidae</td><td>65126</td><td>Ichneumoninae</td><td>306929</td><td>Aucklandella   </td><td>⋯</td><td>LepR1|LepF1                    </td><td>COI-5P|COI-5P              </td><td>NA                                                                 </td><td>4869</td><td>82.40519</td><td>16446376</td><td>-5255385</td><td>658</td><td>11</td><td>51</td></tr>\n",
       "\t<tr><td>2776590</td><td>BOLD:ACF4049</td><td>  125</td><td>Hymenoptera </td><td>  563</td><td>Ichneumonidae</td><td>65126</td><td>Ichneumoninae</td><td>306929</td><td>Aucklandella   </td><td>⋯</td><td>LepR1|LepF1                    </td><td>COI-5P|COI-5P              </td><td>NA                                                                 </td><td>4869</td><td>82.40519</td><td>16446376</td><td>-5255385</td><td>658</td><td>11</td><td>51</td></tr>\n",
       "\t<tr><td>4032817</td><td>BOLD:ACK5646</td><td>   99</td><td>Trichoptera </td><td> 1525</td><td>Hydrobiosidae</td><td>79925</td><td>Hydrobiosinae</td><td>  5254</td><td>Tiphobiosis    </td><td>⋯</td><td>M13R|M13F|C_LepFolR|MLepF1     </td><td>COI-5P|COI-5P|COI-5P|COI-5P</td><td>TrichopteraHydrobiosidaeHydrobiosinaeTiphobiosisTiphobiosis montana</td><td>4869</td><td>82.40519</td><td>16293928</td><td>-5146577</td><td>658</td><td> 5</td><td>51</td></tr>\n",
       "\t<tr><td>4032818</td><td>BOLD:ACK5646</td><td>   99</td><td>Trichoptera </td><td> 1525</td><td>Hydrobiosidae</td><td>79925</td><td>Hydrobiosinae</td><td>  5254</td><td>Tiphobiosis    </td><td>⋯</td><td>M13R|M13F|C_LepFolR|MLepF1     </td><td>COI-5P|COI-5P|COI-5P|COI-5P</td><td>TrichopteraHydrobiosidaeHydrobiosinaeTiphobiosisTiphobiosis montana</td><td>4869</td><td>82.40519</td><td>16293928</td><td>-5146577</td><td>658</td><td> 5</td><td>51</td></tr>\n",
       "\t<tr><td>4032819</td><td>BOLD:ACK5646</td><td>   99</td><td>Trichoptera </td><td> 1525</td><td>Hydrobiosidae</td><td>79925</td><td>Hydrobiosinae</td><td>  5254</td><td>Tiphobiosis    </td><td>⋯</td><td>M13R|M13F|C_LepFolR            </td><td>COI-5P|COI-5P|COI-5P       </td><td>TrichopteraHydrobiosidaeHydrobiosinaeTiphobiosisTiphobiosis montana</td><td>4869</td><td>82.40519</td><td>16260254</td><td>-5195065</td><td>613</td><td> 5</td><td>51</td></tr>\n",
       "\t<tr><td>4032820</td><td>BOLD:ACK5646</td><td>   99</td><td>Trichoptera </td><td> 1525</td><td>Hydrobiosidae</td><td>79925</td><td>Hydrobiosinae</td><td>  5254</td><td>Tiphobiosis    </td><td>⋯</td><td>M13R|M13F|C_LepFolR|MLepF1     </td><td>COI-5P|COI-5P|COI-5P|COI-5P</td><td>TrichopteraHydrobiosidaeHydrobiosinaeTiphobiosisTiphobiosis montana</td><td>4869</td><td>82.40519</td><td>16260254</td><td>-5195065</td><td>658</td><td> 5</td><td>51</td></tr>\n",
       "\t<tr><td>4032821</td><td>BOLD:ACK5646</td><td>   99</td><td>Trichoptera </td><td> 1525</td><td>Hydrobiosidae</td><td>79925</td><td>Hydrobiosinae</td><td>  5254</td><td>Tiphobiosis    </td><td>⋯</td><td>M13R|M13F|C_LepFolR|MLepF1     </td><td>COI-5P|COI-5P|COI-5P|COI-5P</td><td>TrichopteraHydrobiosidaeHydrobiosinaeTiphobiosisTiphobiosis montana</td><td>4869</td><td>82.40519</td><td>16260254</td><td>-5195065</td><td>658</td><td> 5</td><td>51</td></tr>\n",
       "\t<tr><td>8430969</td><td>BOLD:ACM4372</td><td>91399</td><td>Siphonaptera</td><td>91400</td><td>Pulicidae    </td><td>   NA</td><td>NA           </td><td>127309</td><td>Ctenocephalides</td><td>⋯</td><td>NA                             </td><td>NA                         </td><td>NA                                                                 </td><td>4869</td><td>82.40519</td><td>16446762</td><td>-5258749</td><td>601</td><td> 7</td><td>51</td></tr>\n",
       "\t<tr><td>8430967</td><td>BOLD:ACM4372</td><td>91399</td><td>Siphonaptera</td><td>91400</td><td>Pulicidae    </td><td>   NA</td><td>NA           </td><td>127309</td><td>Ctenocephalides</td><td>⋯</td><td>NA                             </td><td>NA                         </td><td>NA                                                                 </td><td>4869</td><td>82.40519</td><td>16446762</td><td>-5258749</td><td>601</td><td> 7</td><td>51</td></tr>\n",
       "\t<tr><td>8430971</td><td>BOLD:ACM4372</td><td>91399</td><td>Siphonaptera</td><td>91400</td><td>Pulicidae    </td><td>   NA</td><td>NA           </td><td>127309</td><td>Ctenocephalides</td><td>⋯</td><td>NA                             </td><td>NA                         </td><td>NA                                                                 </td><td>4869</td><td>82.40519</td><td>16249833</td><td>-5264523</td><td>601</td><td> 7</td><td>51</td></tr>\n",
       "\t<tr><td>8430966</td><td>BOLD:ACM4372</td><td>91399</td><td>Siphonaptera</td><td>91400</td><td>Pulicidae    </td><td>   NA</td><td>NA           </td><td>127309</td><td>Ctenocephalides</td><td>⋯</td><td>NA                             </td><td>NA                         </td><td>NA                                                                 </td><td>4869</td><td>82.40519</td><td>16446762</td><td>-5258749</td><td>601</td><td> 7</td><td>51</td></tr>\n",
       "\t<tr><td>8430972</td><td>BOLD:ACM4372</td><td>91399</td><td>Siphonaptera</td><td>91400</td><td>Pulicidae    </td><td>   NA</td><td>NA           </td><td>127309</td><td>Ctenocephalides</td><td>⋯</td><td>NA                             </td><td>NA                         </td><td>NA                                                                 </td><td>4869</td><td>82.40519</td><td>16249833</td><td>-5264523</td><td>601</td><td> 7</td><td>51</td></tr>\n",
       "\t<tr><td>8430968</td><td>BOLD:ACM4372</td><td>91399</td><td>Siphonaptera</td><td>91400</td><td>Pulicidae    </td><td>   NA</td><td>NA           </td><td>127309</td><td>Ctenocephalides</td><td>⋯</td><td>NA                             </td><td>NA                         </td><td>NA                                                                 </td><td>4869</td><td>82.40519</td><td>16446762</td><td>-5258749</td><td>601</td><td> 7</td><td>51</td></tr>\n",
       "\t<tr><td>8430970</td><td>BOLD:ACM4372</td><td>91399</td><td>Siphonaptera</td><td>91400</td><td>Pulicidae    </td><td>   NA</td><td>NA           </td><td>127309</td><td>Ctenocephalides</td><td>⋯</td><td>NA                             </td><td>NA                         </td><td>NA                                                                 </td><td>4869</td><td>82.40519</td><td>16249833</td><td>-5264523</td><td>601</td><td> 7</td><td>51</td></tr>\n",
       "\t<tr><td>4795576</td><td>BOLD:ACO4375</td><td>  135</td><td>Plecoptera  </td><td>   NA</td><td>NA           </td><td>   NA</td><td>NA           </td><td>    NA</td><td>NA             </td><td>⋯</td><td>C_LepFolF|M13R|C_LepFolR|MLepF1</td><td>COI-5P|COI-5P|COI-5P|COI-5P</td><td>NA                                                                 </td><td>4869</td><td>82.40519</td><td>16287752</td><td>-5184006</td><td>658</td><td> 5</td><td>51</td></tr>\n",
       "\t<tr><td>4795577</td><td>BOLD:ACO4375</td><td>  135</td><td>Plecoptera  </td><td>   NA</td><td>NA           </td><td>   NA</td><td>NA           </td><td>    NA</td><td>NA             </td><td>⋯</td><td>C_LepFolF|M13R|C_LepFolR|MLepF1</td><td>COI-5P|COI-5P|COI-5P|COI-5P</td><td>NA                                                                 </td><td>4869</td><td>82.40519</td><td>16287752</td><td>-5184006</td><td>658</td><td> 5</td><td>51</td></tr>\n",
       "\t<tr><td>4795579</td><td>BOLD:ACO4375</td><td>  135</td><td>Plecoptera  </td><td>   NA</td><td>NA           </td><td>   NA</td><td>NA           </td><td>    NA</td><td>NA             </td><td>⋯</td><td>C_LepFolF|M13R|C_LepFolR|MLepF1</td><td>COI-5P|COI-5P|COI-5P|COI-5P</td><td>NA                                                                 </td><td>4869</td><td>82.40519</td><td>16287752</td><td>-5184006</td><td>658</td><td> 5</td><td>51</td></tr>\n",
       "\t<tr><td>4795624</td><td>BOLD:ACO4375</td><td>  135</td><td>Plecoptera  </td><td>   NA</td><td>NA           </td><td>   NA</td><td>NA           </td><td>    NA</td><td>NA             </td><td>⋯</td><td>MLepF1|C_LepFolF|M13R|C_LepFolR</td><td>COI-5P|COI-5P|COI-5P|COI-5P</td><td>NA                                                                 </td><td>4869</td><td>82.40519</td><td>16412413</td><td>-5061103</td><td>658</td><td> 5</td><td>51</td></tr>\n",
       "\t<tr><td>4795625</td><td>BOLD:ACO4375</td><td>  135</td><td>Plecoptera  </td><td>   NA</td><td>NA           </td><td>   NA</td><td>NA           </td><td>    NA</td><td>NA             </td><td>⋯</td><td>C_LepFolF|M13R|C_LepFolR|MLepF1</td><td>COI-5P|COI-5P|COI-5P|COI-5P</td><td>NA                                                                 </td><td>4869</td><td>82.40519</td><td>16412413</td><td>-5061103</td><td>658</td><td> 5</td><td>51</td></tr>\n",
       "\t<tr><td>4795654</td><td>BOLD:ACO4696</td><td>  135</td><td>Plecoptera  </td><td>   NA</td><td>NA           </td><td>   NA</td><td>NA           </td><td>    NA</td><td>NA             </td><td>⋯</td><td>C_LepFolF|M13R|C_LepFolR|MLepF1</td><td>COI-5P|COI-5P|COI-5P|COI-5P</td><td>NA                                                                 </td><td>4869</td><td>82.40519</td><td>16385011</td><td>-5098016</td><td>658</td><td> 5</td><td>51</td></tr>\n",
       "\t<tr><td>4795657</td><td>BOLD:ACO4696</td><td>  135</td><td>Plecoptera  </td><td>   NA</td><td>NA           </td><td>   NA</td><td>NA           </td><td>    NA</td><td>NA             </td><td>⋯</td><td>C_LepFolF|M13R|C_LepFolR|MLepF1</td><td>COI-5P|COI-5P|COI-5P|COI-5P</td><td>NA                                                                 </td><td>4869</td><td>82.40519</td><td>16381248</td><td>-5108793</td><td>658</td><td> 5</td><td>51</td></tr>\n",
       "\t<tr><td>4795659</td><td>BOLD:ACO4696</td><td>  135</td><td>Plecoptera  </td><td>   NA</td><td>NA           </td><td>   NA</td><td>NA           </td><td>    NA</td><td>NA             </td><td>⋯</td><td>MLepF1|C_LepFolF|M13R|C_LepFolR</td><td>COI-5P|COI-5P|COI-5P|COI-5P</td><td>NA                                                                 </td><td>4869</td><td>82.40519</td><td>16385011</td><td>-5098016</td><td>658</td><td> 5</td><td>51</td></tr>\n",
       "\t<tr><td>4795653</td><td>BOLD:ACO4696</td><td>  135</td><td>Plecoptera  </td><td>   NA</td><td>NA           </td><td>   NA</td><td>NA           </td><td>    NA</td><td>NA             </td><td>⋯</td><td>C_LepFolF|M13R|C_LepFolR|MLepF1</td><td>COI-5P|COI-5P|COI-5P|COI-5P</td><td>NA                                                                 </td><td>4869</td><td>82.40519</td><td>16385011</td><td>-5098016</td><td>658</td><td> 5</td><td>51</td></tr>\n",
       "\t<tr><td>4795658</td><td>BOLD:ACO4696</td><td>  135</td><td>Plecoptera  </td><td>   NA</td><td>NA           </td><td>   NA</td><td>NA           </td><td>    NA</td><td>NA             </td><td>⋯</td><td>C_LepFolF|M13R|C_LepFolR|MLepF1</td><td>COI-5P|COI-5P|COI-5P|COI-5P</td><td>NA                                                                 </td><td>4869</td><td>82.40519</td><td>16385011</td><td>-5098016</td><td>658</td><td> 5</td><td>51</td></tr>\n",
       "\t<tr><td>2467667</td><td>BOLD:ADO0389</td><td>  125</td><td>Hymenoptera </td><td>  563</td><td>Ichneumonidae</td><td>65126</td><td>Ichneumoninae</td><td>306929</td><td>Aucklandella   </td><td>⋯</td><td>LepF1|LepR1                    </td><td>COI-5P|COI-5P              </td><td>NA                                                                 </td><td>4869</td><td>82.40519</td><td>16452937</td><td>-5255832</td><td>658</td><td> 5</td><td>51</td></tr>\n",
       "\t<tr><td>2483882</td><td>BOLD:ADO0389</td><td>  125</td><td>Hymenoptera </td><td>  563</td><td>Ichneumonidae</td><td>65126</td><td>Ichneumoninae</td><td>313888</td><td>Degithina      </td><td>⋯</td><td>LepF1|LepR1                    </td><td>COI-5P|COI-5P              </td><td>NA                                                                 </td><td>4869</td><td>82.40519</td><td>16452937</td><td>-5255832</td><td>588</td><td> 5</td><td>51</td></tr>\n",
       "\t<tr><td>2483884</td><td>BOLD:ADO0389</td><td>  125</td><td>Hymenoptera </td><td>  563</td><td>Ichneumonidae</td><td>65126</td><td>Ichneumoninae</td><td>306929</td><td>Aucklandella   </td><td>⋯</td><td>LepF1|LepR1                    </td><td>COI-5P|COI-5P              </td><td>NA                                                                 </td><td>4869</td><td>82.40519</td><td>16452937</td><td>-5255832</td><td>663</td><td> 5</td><td>51</td></tr>\n",
       "\t<tr><td>2483898</td><td>BOLD:ADO0389</td><td>  125</td><td>Hymenoptera </td><td>  563</td><td>Ichneumonidae</td><td>65126</td><td>Ichneumoninae</td><td>313888</td><td>Degithina      </td><td>⋯</td><td>LepF1|LepR1                    </td><td>COI-5P|COI-5P              </td><td>NA                                                                 </td><td>4869</td><td>82.40519</td><td>16452937</td><td>-5255832</td><td>657</td><td> 5</td><td>51</td></tr>\n",
       "\t<tr><td>2483897</td><td>BOLD:ADO0389</td><td>  125</td><td>Hymenoptera </td><td>  563</td><td>Ichneumonidae</td><td>65126</td><td>Ichneumoninae</td><td>313888</td><td>Degithina      </td><td>⋯</td><td>LepF1|LepR1                    </td><td>COI-5P|COI-5P              </td><td>NA                                                                 </td><td>4869</td><td>82.40519</td><td>16452937</td><td>-5255832</td><td>657</td><td> 5</td><td>51</td></tr>\n",
       "</tbody>\n",
       "</table>\n"
      ],
      "text/latex": [
       "A data.table: 2382264 × 35\n",
       "\\begin{tabular}{lllllllllllllllllllll}\n",
       " recordID & bin\\_uri & order\\_taxID & order\\_name & family\\_taxID & family\\_name & subfamily\\_taxID & subfamily\\_name & genus\\_taxID & genus\\_name & ⋯ & seq\\_primers & marker\\_codes & full\\_name & cells & chelsa\\_300km.1 & longitude & latitude & n\\_nucs\\_all\\_trim & numseqs & numotus\\\\\n",
       " <int> & <chr> & <int> & <chr> & <int> & <chr> & <int> & <chr> & <int> & <chr> & ⋯ & <chr> & <chr> & <chr> & <fct> & <dbl> & <dbl> & <dbl> & <int> & <int> & <int>\\\\\n",
       "\\hline\n",
       "\t 5086047 & BOLD:AAA3750 & 127 & Diptera & 1730 & Culicidae    &  2142 & Culicinae      &  6438 & Aedes        & ⋯ & C\\_LepFolR & COI-5P & NA                                                                & 20 & -151.8424 & -11535031 & 7027265 & 534 & 12 & 53\\\\\n",
       "\t 5085883 & BOLD:AAA3750 & 127 & Diptera & 1730 & Culicidae    &  2142 & Culicinae      &  6438 & Aedes        & ⋯ & C\\_LepFolR & COI-5P & NA                                                                & 20 & -151.8424 & -11535031 & 7027265 & 588 & 12 & 53\\\\\n",
       "\t 5085882 & BOLD:AAA3750 & 127 & Diptera & 1730 & Culicidae    &  2142 & Culicinae      &  6438 & Aedes        & ⋯ & C\\_LepFolR & COI-5P & NA                                                                & 20 & -151.8424 & -11535031 & 7027265 & 588 & 12 & 53\\\\\n",
       "\t 5086188 & BOLD:AAA3750 & 127 & Diptera & 1730 & Culicidae    &  2142 & Culicinae      &  6438 & Aedes        & ⋯ & C\\_LepFolR & COI-5P & NA                                                                & 20 & -151.8424 & -11535031 & 7027265 & 633 & 12 & 53\\\\\n",
       "\t 5086575 & BOLD:AAA3750 & 127 & Diptera & 1730 & Culicidae    &  2142 & Culicinae      &  6438 & Aedes        & ⋯ & C\\_LepFolR & COI-5P & NA                                                                & 20 & -151.8424 & -11535031 & 7027265 & 588 & 12 & 53\\\\\n",
       "\t 5086076 & BOLD:AAA3750 & 127 & Diptera & 1730 & Culicidae    &  2142 & Culicinae      &  6438 & Aedes        & ⋯ & C\\_LepFolR & COI-5P & NA                                                                & 20 & -151.8424 & -11535031 & 7027265 & 602 & 12 & 53\\\\\n",
       "\t 5085950 & BOLD:AAA3750 & 127 & Diptera & 1730 & Culicidae    &  2142 & Culicinae      &  6438 & Aedes        & ⋯ & C\\_LepFolR & COI-5P & NA                                                                & 20 & -151.8424 & -11535031 & 7027265 & 564 & 12 & 53\\\\\n",
       "\t 5086034 & BOLD:AAA3750 & 127 & Diptera & 1730 & Culicidae    &  2142 & Culicinae      &  6438 & Aedes        & ⋯ & C\\_LepFolR & COI-5P & NA                                                                & 20 & -151.8424 & -11535031 & 7027265 & 552 & 12 & 53\\\\\n",
       "\t 5085924 & BOLD:AAA3750 & 127 & Diptera & 1730 & Culicidae    &  2142 & Culicinae      &  6438 & Aedes        & ⋯ & C\\_LepFolR & COI-5P & NA                                                                & 20 & -151.8424 & -11535031 & 7027265 & 633 & 12 & 53\\\\\n",
       "\t 5085972 & BOLD:AAA3750 & 127 & Diptera & 1730 & Culicidae    &  2142 & Culicinae      &  6438 & Aedes        & ⋯ & C\\_LepFolR & COI-5P & NA                                                                & 20 & -151.8424 & -11535031 & 7027265 & 618 & 12 & 53\\\\\n",
       "\t 5104147 & BOLD:AAA3750 & 127 & Diptera & 1730 & Culicidae    &  2142 & Culicinae      &  6438 & Aedes        & ⋯ & C\\_LepFolR & COI-5P & NA                                                                & 20 & -151.8424 & -11535031 & 7027265 & 609 & 12 & 53\\\\\n",
       "\t 5086246 & BOLD:AAA3750 & 127 & Diptera & 1730 & Culicidae    &  2142 & Culicinae      &  6438 & Aedes        & ⋯ & C\\_LepFolR & COI-5P & NA                                                                & 20 & -151.8424 & -11535031 & 7027265 & 552 & 12 & 53\\\\\n",
       "\t 5086178 & BOLD:AAA9429 & 127 & Diptera & 1882 & Chironomidae & 56413 & Orthocladiinae & 56414 & Metriocnemus & ⋯ & C\\_LepFolR & COI-5P & DipteraChironomidaeOrthocladiinaeMetriocnemusMetriocnemus sp. 1ES & 20 & -151.8424 & -11535031 & 7027265 & 609 & 40 & 53\\\\\n",
       "\t 5086571 & BOLD:AAA9429 & 127 & Diptera & 1882 & Chironomidae & 56413 & Orthocladiinae & 56414 & Metriocnemus & ⋯ & C\\_LepFolR & COI-5P & DipteraChironomidaeOrthocladiinaeMetriocnemusMetriocnemus sp. 1ES & 20 & -151.8424 & -11535031 & 7027265 & 582 & 40 & 53\\\\\n",
       "\t 5086068 & BOLD:AAA9429 & 127 & Diptera & 1882 & Chironomidae & 56413 & Orthocladiinae & 56414 & Metriocnemus & ⋯ & C\\_LepFolR & COI-5P & DipteraChironomidaeOrthocladiinaeMetriocnemusMetriocnemus sp. 1ES & 20 & -151.8424 & -11535031 & 7027265 & 564 & 40 & 53\\\\\n",
       "\t 5086185 & BOLD:AAA9429 & 127 & Diptera & 1882 & Chironomidae & 56413 & Orthocladiinae & 56414 & Metriocnemus & ⋯ & C\\_LepFolR & COI-5P & DipteraChironomidaeOrthocladiinaeMetriocnemusMetriocnemus sp. 1ES & 20 & -151.8424 & -11535031 & 7027265 & 567 & 40 & 53\\\\\n",
       "\t 5086508 & BOLD:AAA9429 & 127 & Diptera & 1882 & Chironomidae & 56413 & Orthocladiinae & 56414 & Metriocnemus & ⋯ & C\\_LepFolR & COI-5P & DipteraChironomidaeOrthocladiinaeMetriocnemusMetriocnemus sp. 1ES & 20 & -151.8424 & -11535031 & 7027265 & 588 & 40 & 53\\\\\n",
       "\t 5086187 & BOLD:AAA9429 & 127 & Diptera & 1882 & Chironomidae & 56413 & Orthocladiinae & 56414 & Metriocnemus & ⋯ & C\\_LepFolR & COI-5P & DipteraChironomidaeOrthocladiinaeMetriocnemusMetriocnemus sp. 1ES & 20 & -151.8424 & -11535031 & 7027265 & 627 & 40 & 53\\\\\n",
       "\t 5086105 & BOLD:AAA9429 & 127 & Diptera & 1882 & Chironomidae & 56413 & Orthocladiinae & 56414 & Metriocnemus & ⋯ & C\\_LepFolR & COI-5P & DipteraChironomidaeOrthocladiinaeMetriocnemusMetriocnemus sp. 1ES & 20 & -151.8424 & -11535031 & 7027265 & 573 & 40 & 53\\\\\n",
       "\t 5085979 & BOLD:AAA9429 & 127 & Diptera & 1882 & Chironomidae & 56413 & Orthocladiinae & 56414 & Metriocnemus & ⋯ & C\\_LepFolR & COI-5P & DipteraChironomidaeOrthocladiinaeMetriocnemusMetriocnemus sp. 1ES & 20 & -151.8424 & -11535031 & 7027265 & 609 & 40 & 53\\\\\n",
       "\t 5086397 & BOLD:AAA9429 & 127 & Diptera & 1882 & Chironomidae & 56413 & Orthocladiinae & 56414 & Metriocnemus & ⋯ & C\\_LepFolR & COI-5P & DipteraChironomidaeOrthocladiinaeMetriocnemusMetriocnemus sp. 1ES & 20 & -151.8424 & -11535031 & 7027265 & 564 & 40 & 53\\\\\n",
       "\t 5086006 & BOLD:AAA9429 & 127 & Diptera & 1882 & Chironomidae & 56413 & Orthocladiinae & 56414 & Metriocnemus & ⋯ & C\\_LepFolR & COI-5P & DipteraChironomidaeOrthocladiinaeMetriocnemusMetriocnemus sp. 1ES & 20 & -151.8424 & -11535031 & 7027265 & 555 & 40 & 53\\\\\n",
       "\t 5086606 & BOLD:AAA9429 & 127 & Diptera & 1882 & Chironomidae & 56413 & Orthocladiinae & 56414 & Metriocnemus & ⋯ & C\\_LepFolR & COI-5P & DipteraChironomidaeOrthocladiinaeMetriocnemusMetriocnemus sp. 1ES & 20 & -151.8424 & -11535031 & 7027265 & 579 & 40 & 53\\\\\n",
       "\t 5086259 & BOLD:AAA9429 & 127 & Diptera & 1882 & Chironomidae & 56413 & Orthocladiinae & 56414 & Metriocnemus & ⋯ & C\\_LepFolR & COI-5P & DipteraChironomidaeOrthocladiinaeMetriocnemusMetriocnemus sp. 1ES & 20 & -151.8424 & -11535031 & 7027265 & 627 & 40 & 53\\\\\n",
       "\t 5086009 & BOLD:AAA9429 & 127 & Diptera & 1882 & Chironomidae & 56413 & Orthocladiinae & 56414 & Metriocnemus & ⋯ & C\\_LepFolR & COI-5P & DipteraChironomidaeOrthocladiinaeMetriocnemusMetriocnemus sp. 1ES & 20 & -151.8424 & -11535031 & 7027265 & 582 & 40 & 53\\\\\n",
       "\t 5086556 & BOLD:AAA9429 & 127 & Diptera & 1882 & Chironomidae & 56413 & Orthocladiinae & 56414 & Metriocnemus & ⋯ & C\\_LepFolR & COI-5P & DipteraChironomidaeOrthocladiinaeMetriocnemusMetriocnemus sp. 1ES & 20 & -151.8424 & -11535031 & 7027265 & 582 & 40 & 53\\\\\n",
       "\t 5086620 & BOLD:AAA9429 & 127 & Diptera & 1882 & Chironomidae & 56413 & Orthocladiinae & 56414 & Metriocnemus & ⋯ & C\\_LepFolR & COI-5P & DipteraChironomidaeOrthocladiinaeMetriocnemusMetriocnemus sp. 1ES & 20 & -151.8424 & -11535031 & 7027265 & 552 & 40 & 53\\\\\n",
       "\t 5086063 & BOLD:AAA9429 & 127 & Diptera & 1882 & Chironomidae & 56413 & Orthocladiinae & 56414 & Metriocnemus & ⋯ & C\\_LepFolR & COI-5P & DipteraChironomidaeOrthocladiinaeMetriocnemusMetriocnemus sp. 1ES & 20 & -151.8424 & -11535031 & 7027265 & 555 & 40 & 53\\\\\n",
       "\t 5086092 & BOLD:AAA9429 & 127 & Diptera & 1882 & Chironomidae & 56413 & Orthocladiinae & 56414 & Metriocnemus & ⋯ & C\\_LepFolR & COI-5P & DipteraChironomidaeOrthocladiinaeMetriocnemusMetriocnemus sp. 1ES & 20 & -151.8424 & -11535031 & 7027265 & 534 & 40 & 53\\\\\n",
       "\t 5086544 & BOLD:AAA9429 & 127 & Diptera & 1882 & Chironomidae & 56413 & Orthocladiinae & 56414 & Metriocnemus & ⋯ & C\\_LepFolR & COI-5P & DipteraChironomidaeOrthocladiinaeMetriocnemusMetriocnemus sp. 1ES & 20 & -151.8424 & -11535031 & 7027265 & 582 & 40 & 53\\\\\n",
       "\t ⋮ & ⋮ & ⋮ & ⋮ & ⋮ & ⋮ & ⋮ & ⋮ & ⋮ & ⋮ & ⋱ & ⋮ & ⋮ & ⋮ & ⋮ & ⋮ & ⋮ & ⋮ & ⋮ & ⋮ & ⋮\\\\\n",
       "\t 2776586 & BOLD:ACF4049 &   125 & Hymenoptera  &   563 & Ichneumonidae & 65126 & Ichneumoninae & 306929 & Aucklandella    & ⋯ & LepR1\\textbar{}LepF1                     & COI-5P\\textbar{}COI-5P               & NA                                                                  & 4869 & 82.40519 & 16452937 & -5255832 & 658 & 11 & 51\\\\\n",
       "\t 2776581 & BOLD:ACF4049 &   125 & Hymenoptera  &   563 & Ichneumonidae & 65126 & Ichneumoninae & 306929 & Aucklandella    & ⋯ & LepR1\\textbar{}LepF1                     & COI-5P\\textbar{}COI-5P               & NA                                                                  & 4869 & 82.40519 & 16446376 & -5255385 & 658 & 11 & 51\\\\\n",
       "\t 2776590 & BOLD:ACF4049 &   125 & Hymenoptera  &   563 & Ichneumonidae & 65126 & Ichneumoninae & 306929 & Aucklandella    & ⋯ & LepR1\\textbar{}LepF1                     & COI-5P\\textbar{}COI-5P               & NA                                                                  & 4869 & 82.40519 & 16446376 & -5255385 & 658 & 11 & 51\\\\\n",
       "\t 4032817 & BOLD:ACK5646 &    99 & Trichoptera  &  1525 & Hydrobiosidae & 79925 & Hydrobiosinae &   5254 & Tiphobiosis     & ⋯ & M13R\\textbar{}M13F\\textbar{}C\\_LepFolR\\textbar{}MLepF1      & COI-5P\\textbar{}COI-5P\\textbar{}COI-5P\\textbar{}COI-5P & TrichopteraHydrobiosidaeHydrobiosinaeTiphobiosisTiphobiosis montana & 4869 & 82.40519 & 16293928 & -5146577 & 658 &  5 & 51\\\\\n",
       "\t 4032818 & BOLD:ACK5646 &    99 & Trichoptera  &  1525 & Hydrobiosidae & 79925 & Hydrobiosinae &   5254 & Tiphobiosis     & ⋯ & M13R\\textbar{}M13F\\textbar{}C\\_LepFolR\\textbar{}MLepF1      & COI-5P\\textbar{}COI-5P\\textbar{}COI-5P\\textbar{}COI-5P & TrichopteraHydrobiosidaeHydrobiosinaeTiphobiosisTiphobiosis montana & 4869 & 82.40519 & 16293928 & -5146577 & 658 &  5 & 51\\\\\n",
       "\t 4032819 & BOLD:ACK5646 &    99 & Trichoptera  &  1525 & Hydrobiosidae & 79925 & Hydrobiosinae &   5254 & Tiphobiosis     & ⋯ & M13R\\textbar{}M13F\\textbar{}C\\_LepFolR             & COI-5P\\textbar{}COI-5P\\textbar{}COI-5P        & TrichopteraHydrobiosidaeHydrobiosinaeTiphobiosisTiphobiosis montana & 4869 & 82.40519 & 16260254 & -5195065 & 613 &  5 & 51\\\\\n",
       "\t 4032820 & BOLD:ACK5646 &    99 & Trichoptera  &  1525 & Hydrobiosidae & 79925 & Hydrobiosinae &   5254 & Tiphobiosis     & ⋯ & M13R\\textbar{}M13F\\textbar{}C\\_LepFolR\\textbar{}MLepF1      & COI-5P\\textbar{}COI-5P\\textbar{}COI-5P\\textbar{}COI-5P & TrichopteraHydrobiosidaeHydrobiosinaeTiphobiosisTiphobiosis montana & 4869 & 82.40519 & 16260254 & -5195065 & 658 &  5 & 51\\\\\n",
       "\t 4032821 & BOLD:ACK5646 &    99 & Trichoptera  &  1525 & Hydrobiosidae & 79925 & Hydrobiosinae &   5254 & Tiphobiosis     & ⋯ & M13R\\textbar{}M13F\\textbar{}C\\_LepFolR\\textbar{}MLepF1      & COI-5P\\textbar{}COI-5P\\textbar{}COI-5P\\textbar{}COI-5P & TrichopteraHydrobiosidaeHydrobiosinaeTiphobiosisTiphobiosis montana & 4869 & 82.40519 & 16260254 & -5195065 & 658 &  5 & 51\\\\\n",
       "\t 8430969 & BOLD:ACM4372 & 91399 & Siphonaptera & 91400 & Pulicidae     &    NA & NA            & 127309 & Ctenocephalides & ⋯ & NA                              & NA                          & NA                                                                  & 4869 & 82.40519 & 16446762 & -5258749 & 601 &  7 & 51\\\\\n",
       "\t 8430967 & BOLD:ACM4372 & 91399 & Siphonaptera & 91400 & Pulicidae     &    NA & NA            & 127309 & Ctenocephalides & ⋯ & NA                              & NA                          & NA                                                                  & 4869 & 82.40519 & 16446762 & -5258749 & 601 &  7 & 51\\\\\n",
       "\t 8430971 & BOLD:ACM4372 & 91399 & Siphonaptera & 91400 & Pulicidae     &    NA & NA            & 127309 & Ctenocephalides & ⋯ & NA                              & NA                          & NA                                                                  & 4869 & 82.40519 & 16249833 & -5264523 & 601 &  7 & 51\\\\\n",
       "\t 8430966 & BOLD:ACM4372 & 91399 & Siphonaptera & 91400 & Pulicidae     &    NA & NA            & 127309 & Ctenocephalides & ⋯ & NA                              & NA                          & NA                                                                  & 4869 & 82.40519 & 16446762 & -5258749 & 601 &  7 & 51\\\\\n",
       "\t 8430972 & BOLD:ACM4372 & 91399 & Siphonaptera & 91400 & Pulicidae     &    NA & NA            & 127309 & Ctenocephalides & ⋯ & NA                              & NA                          & NA                                                                  & 4869 & 82.40519 & 16249833 & -5264523 & 601 &  7 & 51\\\\\n",
       "\t 8430968 & BOLD:ACM4372 & 91399 & Siphonaptera & 91400 & Pulicidae     &    NA & NA            & 127309 & Ctenocephalides & ⋯ & NA                              & NA                          & NA                                                                  & 4869 & 82.40519 & 16446762 & -5258749 & 601 &  7 & 51\\\\\n",
       "\t 8430970 & BOLD:ACM4372 & 91399 & Siphonaptera & 91400 & Pulicidae     &    NA & NA            & 127309 & Ctenocephalides & ⋯ & NA                              & NA                          & NA                                                                  & 4869 & 82.40519 & 16249833 & -5264523 & 601 &  7 & 51\\\\\n",
       "\t 4795576 & BOLD:ACO4375 &   135 & Plecoptera   &    NA & NA            &    NA & NA            &     NA & NA              & ⋯ & C\\_LepFolF\\textbar{}M13R\\textbar{}C\\_LepFolR\\textbar{}MLepF1 & COI-5P\\textbar{}COI-5P\\textbar{}COI-5P\\textbar{}COI-5P & NA                                                                  & 4869 & 82.40519 & 16287752 & -5184006 & 658 &  5 & 51\\\\\n",
       "\t 4795577 & BOLD:ACO4375 &   135 & Plecoptera   &    NA & NA            &    NA & NA            &     NA & NA              & ⋯ & C\\_LepFolF\\textbar{}M13R\\textbar{}C\\_LepFolR\\textbar{}MLepF1 & COI-5P\\textbar{}COI-5P\\textbar{}COI-5P\\textbar{}COI-5P & NA                                                                  & 4869 & 82.40519 & 16287752 & -5184006 & 658 &  5 & 51\\\\\n",
       "\t 4795579 & BOLD:ACO4375 &   135 & Plecoptera   &    NA & NA            &    NA & NA            &     NA & NA              & ⋯ & C\\_LepFolF\\textbar{}M13R\\textbar{}C\\_LepFolR\\textbar{}MLepF1 & COI-5P\\textbar{}COI-5P\\textbar{}COI-5P\\textbar{}COI-5P & NA                                                                  & 4869 & 82.40519 & 16287752 & -5184006 & 658 &  5 & 51\\\\\n",
       "\t 4795624 & BOLD:ACO4375 &   135 & Plecoptera   &    NA & NA            &    NA & NA            &     NA & NA              & ⋯ & MLepF1\\textbar{}C\\_LepFolF\\textbar{}M13R\\textbar{}C\\_LepFolR & COI-5P\\textbar{}COI-5P\\textbar{}COI-5P\\textbar{}COI-5P & NA                                                                  & 4869 & 82.40519 & 16412413 & -5061103 & 658 &  5 & 51\\\\\n",
       "\t 4795625 & BOLD:ACO4375 &   135 & Plecoptera   &    NA & NA            &    NA & NA            &     NA & NA              & ⋯ & C\\_LepFolF\\textbar{}M13R\\textbar{}C\\_LepFolR\\textbar{}MLepF1 & COI-5P\\textbar{}COI-5P\\textbar{}COI-5P\\textbar{}COI-5P & NA                                                                  & 4869 & 82.40519 & 16412413 & -5061103 & 658 &  5 & 51\\\\\n",
       "\t 4795654 & BOLD:ACO4696 &   135 & Plecoptera   &    NA & NA            &    NA & NA            &     NA & NA              & ⋯ & C\\_LepFolF\\textbar{}M13R\\textbar{}C\\_LepFolR\\textbar{}MLepF1 & COI-5P\\textbar{}COI-5P\\textbar{}COI-5P\\textbar{}COI-5P & NA                                                                  & 4869 & 82.40519 & 16385011 & -5098016 & 658 &  5 & 51\\\\\n",
       "\t 4795657 & BOLD:ACO4696 &   135 & Plecoptera   &    NA & NA            &    NA & NA            &     NA & NA              & ⋯ & C\\_LepFolF\\textbar{}M13R\\textbar{}C\\_LepFolR\\textbar{}MLepF1 & COI-5P\\textbar{}COI-5P\\textbar{}COI-5P\\textbar{}COI-5P & NA                                                                  & 4869 & 82.40519 & 16381248 & -5108793 & 658 &  5 & 51\\\\\n",
       "\t 4795659 & BOLD:ACO4696 &   135 & Plecoptera   &    NA & NA            &    NA & NA            &     NA & NA              & ⋯ & MLepF1\\textbar{}C\\_LepFolF\\textbar{}M13R\\textbar{}C\\_LepFolR & COI-5P\\textbar{}COI-5P\\textbar{}COI-5P\\textbar{}COI-5P & NA                                                                  & 4869 & 82.40519 & 16385011 & -5098016 & 658 &  5 & 51\\\\\n",
       "\t 4795653 & BOLD:ACO4696 &   135 & Plecoptera   &    NA & NA            &    NA & NA            &     NA & NA              & ⋯ & C\\_LepFolF\\textbar{}M13R\\textbar{}C\\_LepFolR\\textbar{}MLepF1 & COI-5P\\textbar{}COI-5P\\textbar{}COI-5P\\textbar{}COI-5P & NA                                                                  & 4869 & 82.40519 & 16385011 & -5098016 & 658 &  5 & 51\\\\\n",
       "\t 4795658 & BOLD:ACO4696 &   135 & Plecoptera   &    NA & NA            &    NA & NA            &     NA & NA              & ⋯ & C\\_LepFolF\\textbar{}M13R\\textbar{}C\\_LepFolR\\textbar{}MLepF1 & COI-5P\\textbar{}COI-5P\\textbar{}COI-5P\\textbar{}COI-5P & NA                                                                  & 4869 & 82.40519 & 16385011 & -5098016 & 658 &  5 & 51\\\\\n",
       "\t 2467667 & BOLD:ADO0389 &   125 & Hymenoptera  &   563 & Ichneumonidae & 65126 & Ichneumoninae & 306929 & Aucklandella    & ⋯ & LepF1\\textbar{}LepR1                     & COI-5P\\textbar{}COI-5P               & NA                                                                  & 4869 & 82.40519 & 16452937 & -5255832 & 658 &  5 & 51\\\\\n",
       "\t 2483882 & BOLD:ADO0389 &   125 & Hymenoptera  &   563 & Ichneumonidae & 65126 & Ichneumoninae & 313888 & Degithina       & ⋯ & LepF1\\textbar{}LepR1                     & COI-5P\\textbar{}COI-5P               & NA                                                                  & 4869 & 82.40519 & 16452937 & -5255832 & 588 &  5 & 51\\\\\n",
       "\t 2483884 & BOLD:ADO0389 &   125 & Hymenoptera  &   563 & Ichneumonidae & 65126 & Ichneumoninae & 306929 & Aucklandella    & ⋯ & LepF1\\textbar{}LepR1                     & COI-5P\\textbar{}COI-5P               & NA                                                                  & 4869 & 82.40519 & 16452937 & -5255832 & 663 &  5 & 51\\\\\n",
       "\t 2483898 & BOLD:ADO0389 &   125 & Hymenoptera  &   563 & Ichneumonidae & 65126 & Ichneumoninae & 313888 & Degithina       & ⋯ & LepF1\\textbar{}LepR1                     & COI-5P\\textbar{}COI-5P               & NA                                                                  & 4869 & 82.40519 & 16452937 & -5255832 & 657 &  5 & 51\\\\\n",
       "\t 2483897 & BOLD:ADO0389 &   125 & Hymenoptera  &   563 & Ichneumonidae & 65126 & Ichneumoninae & 313888 & Degithina       & ⋯ & LepF1\\textbar{}LepR1                     & COI-5P\\textbar{}COI-5P               & NA                                                                  & 4869 & 82.40519 & 16452937 & -5255832 & 657 &  5 & 51\\\\\n",
       "\\end{tabular}\n"
      ],
      "text/markdown": [
       "\n",
       "A data.table: 2382264 × 35\n",
       "\n",
       "| recordID &lt;int&gt; | bin_uri &lt;chr&gt; | order_taxID &lt;int&gt; | order_name &lt;chr&gt; | family_taxID &lt;int&gt; | family_name &lt;chr&gt; | subfamily_taxID &lt;int&gt; | subfamily_name &lt;chr&gt; | genus_taxID &lt;int&gt; | genus_name &lt;chr&gt; | ⋯ ⋯ | seq_primers &lt;chr&gt; | marker_codes &lt;chr&gt; | full_name &lt;chr&gt; | cells &lt;fct&gt; | chelsa_300km.1 &lt;dbl&gt; | longitude &lt;dbl&gt; | latitude &lt;dbl&gt; | n_nucs_all_trim &lt;int&gt; | numseqs &lt;int&gt; | numotus &lt;int&gt; |\n",
       "|---|---|---|---|---|---|---|---|---|---|---|---|---|---|---|---|---|---|---|---|---|\n",
       "| 5086047 | BOLD:AAA3750 | 127 | Diptera | 1730 | Culicidae    |  2142 | Culicinae      |  6438 | Aedes        | ⋯ | C_LepFolR | COI-5P | NA                                                                | 20 | -151.8424 | -11535031 | 7027265 | 534 | 12 | 53 |\n",
       "| 5085883 | BOLD:AAA3750 | 127 | Diptera | 1730 | Culicidae    |  2142 | Culicinae      |  6438 | Aedes        | ⋯ | C_LepFolR | COI-5P | NA                                                                | 20 | -151.8424 | -11535031 | 7027265 | 588 | 12 | 53 |\n",
       "| 5085882 | BOLD:AAA3750 | 127 | Diptera | 1730 | Culicidae    |  2142 | Culicinae      |  6438 | Aedes        | ⋯ | C_LepFolR | COI-5P | NA                                                                | 20 | -151.8424 | -11535031 | 7027265 | 588 | 12 | 53 |\n",
       "| 5086188 | BOLD:AAA3750 | 127 | Diptera | 1730 | Culicidae    |  2142 | Culicinae      |  6438 | Aedes        | ⋯ | C_LepFolR | COI-5P | NA                                                                | 20 | -151.8424 | -11535031 | 7027265 | 633 | 12 | 53 |\n",
       "| 5086575 | BOLD:AAA3750 | 127 | Diptera | 1730 | Culicidae    |  2142 | Culicinae      |  6438 | Aedes        | ⋯ | C_LepFolR | COI-5P | NA                                                                | 20 | -151.8424 | -11535031 | 7027265 | 588 | 12 | 53 |\n",
       "| 5086076 | BOLD:AAA3750 | 127 | Diptera | 1730 | Culicidae    |  2142 | Culicinae      |  6438 | Aedes        | ⋯ | C_LepFolR | COI-5P | NA                                                                | 20 | -151.8424 | -11535031 | 7027265 | 602 | 12 | 53 |\n",
       "| 5085950 | BOLD:AAA3750 | 127 | Diptera | 1730 | Culicidae    |  2142 | Culicinae      |  6438 | Aedes        | ⋯ | C_LepFolR | COI-5P | NA                                                                | 20 | -151.8424 | -11535031 | 7027265 | 564 | 12 | 53 |\n",
       "| 5086034 | BOLD:AAA3750 | 127 | Diptera | 1730 | Culicidae    |  2142 | Culicinae      |  6438 | Aedes        | ⋯ | C_LepFolR | COI-5P | NA                                                                | 20 | -151.8424 | -11535031 | 7027265 | 552 | 12 | 53 |\n",
       "| 5085924 | BOLD:AAA3750 | 127 | Diptera | 1730 | Culicidae    |  2142 | Culicinae      |  6438 | Aedes        | ⋯ | C_LepFolR | COI-5P | NA                                                                | 20 | -151.8424 | -11535031 | 7027265 | 633 | 12 | 53 |\n",
       "| 5085972 | BOLD:AAA3750 | 127 | Diptera | 1730 | Culicidae    |  2142 | Culicinae      |  6438 | Aedes        | ⋯ | C_LepFolR | COI-5P | NA                                                                | 20 | -151.8424 | -11535031 | 7027265 | 618 | 12 | 53 |\n",
       "| 5104147 | BOLD:AAA3750 | 127 | Diptera | 1730 | Culicidae    |  2142 | Culicinae      |  6438 | Aedes        | ⋯ | C_LepFolR | COI-5P | NA                                                                | 20 | -151.8424 | -11535031 | 7027265 | 609 | 12 | 53 |\n",
       "| 5086246 | BOLD:AAA3750 | 127 | Diptera | 1730 | Culicidae    |  2142 | Culicinae      |  6438 | Aedes        | ⋯ | C_LepFolR | COI-5P | NA                                                                | 20 | -151.8424 | -11535031 | 7027265 | 552 | 12 | 53 |\n",
       "| 5086178 | BOLD:AAA9429 | 127 | Diptera | 1882 | Chironomidae | 56413 | Orthocladiinae | 56414 | Metriocnemus | ⋯ | C_LepFolR | COI-5P | DipteraChironomidaeOrthocladiinaeMetriocnemusMetriocnemus sp. 1ES | 20 | -151.8424 | -11535031 | 7027265 | 609 | 40 | 53 |\n",
       "| 5086571 | BOLD:AAA9429 | 127 | Diptera | 1882 | Chironomidae | 56413 | Orthocladiinae | 56414 | Metriocnemus | ⋯ | C_LepFolR | COI-5P | DipteraChironomidaeOrthocladiinaeMetriocnemusMetriocnemus sp. 1ES | 20 | -151.8424 | -11535031 | 7027265 | 582 | 40 | 53 |\n",
       "| 5086068 | BOLD:AAA9429 | 127 | Diptera | 1882 | Chironomidae | 56413 | Orthocladiinae | 56414 | Metriocnemus | ⋯ | C_LepFolR | COI-5P | DipteraChironomidaeOrthocladiinaeMetriocnemusMetriocnemus sp. 1ES | 20 | -151.8424 | -11535031 | 7027265 | 564 | 40 | 53 |\n",
       "| 5086185 | BOLD:AAA9429 | 127 | Diptera | 1882 | Chironomidae | 56413 | Orthocladiinae | 56414 | Metriocnemus | ⋯ | C_LepFolR | COI-5P | DipteraChironomidaeOrthocladiinaeMetriocnemusMetriocnemus sp. 1ES | 20 | -151.8424 | -11535031 | 7027265 | 567 | 40 | 53 |\n",
       "| 5086508 | BOLD:AAA9429 | 127 | Diptera | 1882 | Chironomidae | 56413 | Orthocladiinae | 56414 | Metriocnemus | ⋯ | C_LepFolR | COI-5P | DipteraChironomidaeOrthocladiinaeMetriocnemusMetriocnemus sp. 1ES | 20 | -151.8424 | -11535031 | 7027265 | 588 | 40 | 53 |\n",
       "| 5086187 | BOLD:AAA9429 | 127 | Diptera | 1882 | Chironomidae | 56413 | Orthocladiinae | 56414 | Metriocnemus | ⋯ | C_LepFolR | COI-5P | DipteraChironomidaeOrthocladiinaeMetriocnemusMetriocnemus sp. 1ES | 20 | -151.8424 | -11535031 | 7027265 | 627 | 40 | 53 |\n",
       "| 5086105 | BOLD:AAA9429 | 127 | Diptera | 1882 | Chironomidae | 56413 | Orthocladiinae | 56414 | Metriocnemus | ⋯ | C_LepFolR | COI-5P | DipteraChironomidaeOrthocladiinaeMetriocnemusMetriocnemus sp. 1ES | 20 | -151.8424 | -11535031 | 7027265 | 573 | 40 | 53 |\n",
       "| 5085979 | BOLD:AAA9429 | 127 | Diptera | 1882 | Chironomidae | 56413 | Orthocladiinae | 56414 | Metriocnemus | ⋯ | C_LepFolR | COI-5P | DipteraChironomidaeOrthocladiinaeMetriocnemusMetriocnemus sp. 1ES | 20 | -151.8424 | -11535031 | 7027265 | 609 | 40 | 53 |\n",
       "| 5086397 | BOLD:AAA9429 | 127 | Diptera | 1882 | Chironomidae | 56413 | Orthocladiinae | 56414 | Metriocnemus | ⋯ | C_LepFolR | COI-5P | DipteraChironomidaeOrthocladiinaeMetriocnemusMetriocnemus sp. 1ES | 20 | -151.8424 | -11535031 | 7027265 | 564 | 40 | 53 |\n",
       "| 5086006 | BOLD:AAA9429 | 127 | Diptera | 1882 | Chironomidae | 56413 | Orthocladiinae | 56414 | Metriocnemus | ⋯ | C_LepFolR | COI-5P | DipteraChironomidaeOrthocladiinaeMetriocnemusMetriocnemus sp. 1ES | 20 | -151.8424 | -11535031 | 7027265 | 555 | 40 | 53 |\n",
       "| 5086606 | BOLD:AAA9429 | 127 | Diptera | 1882 | Chironomidae | 56413 | Orthocladiinae | 56414 | Metriocnemus | ⋯ | C_LepFolR | COI-5P | DipteraChironomidaeOrthocladiinaeMetriocnemusMetriocnemus sp. 1ES | 20 | -151.8424 | -11535031 | 7027265 | 579 | 40 | 53 |\n",
       "| 5086259 | BOLD:AAA9429 | 127 | Diptera | 1882 | Chironomidae | 56413 | Orthocladiinae | 56414 | Metriocnemus | ⋯ | C_LepFolR | COI-5P | DipteraChironomidaeOrthocladiinaeMetriocnemusMetriocnemus sp. 1ES | 20 | -151.8424 | -11535031 | 7027265 | 627 | 40 | 53 |\n",
       "| 5086009 | BOLD:AAA9429 | 127 | Diptera | 1882 | Chironomidae | 56413 | Orthocladiinae | 56414 | Metriocnemus | ⋯ | C_LepFolR | COI-5P | DipteraChironomidaeOrthocladiinaeMetriocnemusMetriocnemus sp. 1ES | 20 | -151.8424 | -11535031 | 7027265 | 582 | 40 | 53 |\n",
       "| 5086556 | BOLD:AAA9429 | 127 | Diptera | 1882 | Chironomidae | 56413 | Orthocladiinae | 56414 | Metriocnemus | ⋯ | C_LepFolR | COI-5P | DipteraChironomidaeOrthocladiinaeMetriocnemusMetriocnemus sp. 1ES | 20 | -151.8424 | -11535031 | 7027265 | 582 | 40 | 53 |\n",
       "| 5086620 | BOLD:AAA9429 | 127 | Diptera | 1882 | Chironomidae | 56413 | Orthocladiinae | 56414 | Metriocnemus | ⋯ | C_LepFolR | COI-5P | DipteraChironomidaeOrthocladiinaeMetriocnemusMetriocnemus sp. 1ES | 20 | -151.8424 | -11535031 | 7027265 | 552 | 40 | 53 |\n",
       "| 5086063 | BOLD:AAA9429 | 127 | Diptera | 1882 | Chironomidae | 56413 | Orthocladiinae | 56414 | Metriocnemus | ⋯ | C_LepFolR | COI-5P | DipteraChironomidaeOrthocladiinaeMetriocnemusMetriocnemus sp. 1ES | 20 | -151.8424 | -11535031 | 7027265 | 555 | 40 | 53 |\n",
       "| 5086092 | BOLD:AAA9429 | 127 | Diptera | 1882 | Chironomidae | 56413 | Orthocladiinae | 56414 | Metriocnemus | ⋯ | C_LepFolR | COI-5P | DipteraChironomidaeOrthocladiinaeMetriocnemusMetriocnemus sp. 1ES | 20 | -151.8424 | -11535031 | 7027265 | 534 | 40 | 53 |\n",
       "| 5086544 | BOLD:AAA9429 | 127 | Diptera | 1882 | Chironomidae | 56413 | Orthocladiinae | 56414 | Metriocnemus | ⋯ | C_LepFolR | COI-5P | DipteraChironomidaeOrthocladiinaeMetriocnemusMetriocnemus sp. 1ES | 20 | -151.8424 | -11535031 | 7027265 | 582 | 40 | 53 |\n",
       "| ⋮ | ⋮ | ⋮ | ⋮ | ⋮ | ⋮ | ⋮ | ⋮ | ⋮ | ⋮ | ⋱ | ⋮ | ⋮ | ⋮ | ⋮ | ⋮ | ⋮ | ⋮ | ⋮ | ⋮ | ⋮ |\n",
       "| 2776586 | BOLD:ACF4049 |   125 | Hymenoptera  |   563 | Ichneumonidae | 65126 | Ichneumoninae | 306929 | Aucklandella    | ⋯ | LepR1|LepF1                     | COI-5P|COI-5P               | NA                                                                  | 4869 | 82.40519 | 16452937 | -5255832 | 658 | 11 | 51 |\n",
       "| 2776581 | BOLD:ACF4049 |   125 | Hymenoptera  |   563 | Ichneumonidae | 65126 | Ichneumoninae | 306929 | Aucklandella    | ⋯ | LepR1|LepF1                     | COI-5P|COI-5P               | NA                                                                  | 4869 | 82.40519 | 16446376 | -5255385 | 658 | 11 | 51 |\n",
       "| 2776590 | BOLD:ACF4049 |   125 | Hymenoptera  |   563 | Ichneumonidae | 65126 | Ichneumoninae | 306929 | Aucklandella    | ⋯ | LepR1|LepF1                     | COI-5P|COI-5P               | NA                                                                  | 4869 | 82.40519 | 16446376 | -5255385 | 658 | 11 | 51 |\n",
       "| 4032817 | BOLD:ACK5646 |    99 | Trichoptera  |  1525 | Hydrobiosidae | 79925 | Hydrobiosinae |   5254 | Tiphobiosis     | ⋯ | M13R|M13F|C_LepFolR|MLepF1      | COI-5P|COI-5P|COI-5P|COI-5P | TrichopteraHydrobiosidaeHydrobiosinaeTiphobiosisTiphobiosis montana | 4869 | 82.40519 | 16293928 | -5146577 | 658 |  5 | 51 |\n",
       "| 4032818 | BOLD:ACK5646 |    99 | Trichoptera  |  1525 | Hydrobiosidae | 79925 | Hydrobiosinae |   5254 | Tiphobiosis     | ⋯ | M13R|M13F|C_LepFolR|MLepF1      | COI-5P|COI-5P|COI-5P|COI-5P | TrichopteraHydrobiosidaeHydrobiosinaeTiphobiosisTiphobiosis montana | 4869 | 82.40519 | 16293928 | -5146577 | 658 |  5 | 51 |\n",
       "| 4032819 | BOLD:ACK5646 |    99 | Trichoptera  |  1525 | Hydrobiosidae | 79925 | Hydrobiosinae |   5254 | Tiphobiosis     | ⋯ | M13R|M13F|C_LepFolR             | COI-5P|COI-5P|COI-5P        | TrichopteraHydrobiosidaeHydrobiosinaeTiphobiosisTiphobiosis montana | 4869 | 82.40519 | 16260254 | -5195065 | 613 |  5 | 51 |\n",
       "| 4032820 | BOLD:ACK5646 |    99 | Trichoptera  |  1525 | Hydrobiosidae | 79925 | Hydrobiosinae |   5254 | Tiphobiosis     | ⋯ | M13R|M13F|C_LepFolR|MLepF1      | COI-5P|COI-5P|COI-5P|COI-5P | TrichopteraHydrobiosidaeHydrobiosinaeTiphobiosisTiphobiosis montana | 4869 | 82.40519 | 16260254 | -5195065 | 658 |  5 | 51 |\n",
       "| 4032821 | BOLD:ACK5646 |    99 | Trichoptera  |  1525 | Hydrobiosidae | 79925 | Hydrobiosinae |   5254 | Tiphobiosis     | ⋯ | M13R|M13F|C_LepFolR|MLepF1      | COI-5P|COI-5P|COI-5P|COI-5P | TrichopteraHydrobiosidaeHydrobiosinaeTiphobiosisTiphobiosis montana | 4869 | 82.40519 | 16260254 | -5195065 | 658 |  5 | 51 |\n",
       "| 8430969 | BOLD:ACM4372 | 91399 | Siphonaptera | 91400 | Pulicidae     |    NA | NA            | 127309 | Ctenocephalides | ⋯ | NA                              | NA                          | NA                                                                  | 4869 | 82.40519 | 16446762 | -5258749 | 601 |  7 | 51 |\n",
       "| 8430967 | BOLD:ACM4372 | 91399 | Siphonaptera | 91400 | Pulicidae     |    NA | NA            | 127309 | Ctenocephalides | ⋯ | NA                              | NA                          | NA                                                                  | 4869 | 82.40519 | 16446762 | -5258749 | 601 |  7 | 51 |\n",
       "| 8430971 | BOLD:ACM4372 | 91399 | Siphonaptera | 91400 | Pulicidae     |    NA | NA            | 127309 | Ctenocephalides | ⋯ | NA                              | NA                          | NA                                                                  | 4869 | 82.40519 | 16249833 | -5264523 | 601 |  7 | 51 |\n",
       "| 8430966 | BOLD:ACM4372 | 91399 | Siphonaptera | 91400 | Pulicidae     |    NA | NA            | 127309 | Ctenocephalides | ⋯ | NA                              | NA                          | NA                                                                  | 4869 | 82.40519 | 16446762 | -5258749 | 601 |  7 | 51 |\n",
       "| 8430972 | BOLD:ACM4372 | 91399 | Siphonaptera | 91400 | Pulicidae     |    NA | NA            | 127309 | Ctenocephalides | ⋯ | NA                              | NA                          | NA                                                                  | 4869 | 82.40519 | 16249833 | -5264523 | 601 |  7 | 51 |\n",
       "| 8430968 | BOLD:ACM4372 | 91399 | Siphonaptera | 91400 | Pulicidae     |    NA | NA            | 127309 | Ctenocephalides | ⋯ | NA                              | NA                          | NA                                                                  | 4869 | 82.40519 | 16446762 | -5258749 | 601 |  7 | 51 |\n",
       "| 8430970 | BOLD:ACM4372 | 91399 | Siphonaptera | 91400 | Pulicidae     |    NA | NA            | 127309 | Ctenocephalides | ⋯ | NA                              | NA                          | NA                                                                  | 4869 | 82.40519 | 16249833 | -5264523 | 601 |  7 | 51 |\n",
       "| 4795576 | BOLD:ACO4375 |   135 | Plecoptera   |    NA | NA            |    NA | NA            |     NA | NA              | ⋯ | C_LepFolF|M13R|C_LepFolR|MLepF1 | COI-5P|COI-5P|COI-5P|COI-5P | NA                                                                  | 4869 | 82.40519 | 16287752 | -5184006 | 658 |  5 | 51 |\n",
       "| 4795577 | BOLD:ACO4375 |   135 | Plecoptera   |    NA | NA            |    NA | NA            |     NA | NA              | ⋯ | C_LepFolF|M13R|C_LepFolR|MLepF1 | COI-5P|COI-5P|COI-5P|COI-5P | NA                                                                  | 4869 | 82.40519 | 16287752 | -5184006 | 658 |  5 | 51 |\n",
       "| 4795579 | BOLD:ACO4375 |   135 | Plecoptera   |    NA | NA            |    NA | NA            |     NA | NA              | ⋯ | C_LepFolF|M13R|C_LepFolR|MLepF1 | COI-5P|COI-5P|COI-5P|COI-5P | NA                                                                  | 4869 | 82.40519 | 16287752 | -5184006 | 658 |  5 | 51 |\n",
       "| 4795624 | BOLD:ACO4375 |   135 | Plecoptera   |    NA | NA            |    NA | NA            |     NA | NA              | ⋯ | MLepF1|C_LepFolF|M13R|C_LepFolR | COI-5P|COI-5P|COI-5P|COI-5P | NA                                                                  | 4869 | 82.40519 | 16412413 | -5061103 | 658 |  5 | 51 |\n",
       "| 4795625 | BOLD:ACO4375 |   135 | Plecoptera   |    NA | NA            |    NA | NA            |     NA | NA              | ⋯ | C_LepFolF|M13R|C_LepFolR|MLepF1 | COI-5P|COI-5P|COI-5P|COI-5P | NA                                                                  | 4869 | 82.40519 | 16412413 | -5061103 | 658 |  5 | 51 |\n",
       "| 4795654 | BOLD:ACO4696 |   135 | Plecoptera   |    NA | NA            |    NA | NA            |     NA | NA              | ⋯ | C_LepFolF|M13R|C_LepFolR|MLepF1 | COI-5P|COI-5P|COI-5P|COI-5P | NA                                                                  | 4869 | 82.40519 | 16385011 | -5098016 | 658 |  5 | 51 |\n",
       "| 4795657 | BOLD:ACO4696 |   135 | Plecoptera   |    NA | NA            |    NA | NA            |     NA | NA              | ⋯ | C_LepFolF|M13R|C_LepFolR|MLepF1 | COI-5P|COI-5P|COI-5P|COI-5P | NA                                                                  | 4869 | 82.40519 | 16381248 | -5108793 | 658 |  5 | 51 |\n",
       "| 4795659 | BOLD:ACO4696 |   135 | Plecoptera   |    NA | NA            |    NA | NA            |     NA | NA              | ⋯ | MLepF1|C_LepFolF|M13R|C_LepFolR | COI-5P|COI-5P|COI-5P|COI-5P | NA                                                                  | 4869 | 82.40519 | 16385011 | -5098016 | 658 |  5 | 51 |\n",
       "| 4795653 | BOLD:ACO4696 |   135 | Plecoptera   |    NA | NA            |    NA | NA            |     NA | NA              | ⋯ | C_LepFolF|M13R|C_LepFolR|MLepF1 | COI-5P|COI-5P|COI-5P|COI-5P | NA                                                                  | 4869 | 82.40519 | 16385011 | -5098016 | 658 |  5 | 51 |\n",
       "| 4795658 | BOLD:ACO4696 |   135 | Plecoptera   |    NA | NA            |    NA | NA            |     NA | NA              | ⋯ | C_LepFolF|M13R|C_LepFolR|MLepF1 | COI-5P|COI-5P|COI-5P|COI-5P | NA                                                                  | 4869 | 82.40519 | 16385011 | -5098016 | 658 |  5 | 51 |\n",
       "| 2467667 | BOLD:ADO0389 |   125 | Hymenoptera  |   563 | Ichneumonidae | 65126 | Ichneumoninae | 306929 | Aucklandella    | ⋯ | LepF1|LepR1                     | COI-5P|COI-5P               | NA                                                                  | 4869 | 82.40519 | 16452937 | -5255832 | 658 |  5 | 51 |\n",
       "| 2483882 | BOLD:ADO0389 |   125 | Hymenoptera  |   563 | Ichneumonidae | 65126 | Ichneumoninae | 313888 | Degithina       | ⋯ | LepF1|LepR1                     | COI-5P|COI-5P               | NA                                                                  | 4869 | 82.40519 | 16452937 | -5255832 | 588 |  5 | 51 |\n",
       "| 2483884 | BOLD:ADO0389 |   125 | Hymenoptera  |   563 | Ichneumonidae | 65126 | Ichneumoninae | 306929 | Aucklandella    | ⋯ | LepF1|LepR1                     | COI-5P|COI-5P               | NA                                                                  | 4869 | 82.40519 | 16452937 | -5255832 | 663 |  5 | 51 |\n",
       "| 2483898 | BOLD:ADO0389 |   125 | Hymenoptera  |   563 | Ichneumonidae | 65126 | Ichneumoninae | 313888 | Degithina       | ⋯ | LepF1|LepR1                     | COI-5P|COI-5P               | NA                                                                  | 4869 | 82.40519 | 16452937 | -5255832 | 657 |  5 | 51 |\n",
       "| 2483897 | BOLD:ADO0389 |   125 | Hymenoptera  |   563 | Ichneumonidae | 65126 | Ichneumoninae | 313888 | Degithina       | ⋯ | LepF1|LepR1                     | COI-5P|COI-5P               | NA                                                                  | 4869 | 82.40519 | 16452937 | -5255832 | 657 |  5 | 51 |\n",
       "\n"
      ],
      "text/plain": [
       "        recordID bin_uri      order_taxID order_name   family_taxID\n",
       "1       5086047  BOLD:AAA3750 127         Diptera      1730        \n",
       "2       5085883  BOLD:AAA3750 127         Diptera      1730        \n",
       "3       5085882  BOLD:AAA3750 127         Diptera      1730        \n",
       "4       5086188  BOLD:AAA3750 127         Diptera      1730        \n",
       "5       5086575  BOLD:AAA3750 127         Diptera      1730        \n",
       "6       5086076  BOLD:AAA3750 127         Diptera      1730        \n",
       "7       5085950  BOLD:AAA3750 127         Diptera      1730        \n",
       "8       5086034  BOLD:AAA3750 127         Diptera      1730        \n",
       "9       5085924  BOLD:AAA3750 127         Diptera      1730        \n",
       "10      5085972  BOLD:AAA3750 127         Diptera      1730        \n",
       "11      5104147  BOLD:AAA3750 127         Diptera      1730        \n",
       "12      5086246  BOLD:AAA3750 127         Diptera      1730        \n",
       "13      5086178  BOLD:AAA9429 127         Diptera      1882        \n",
       "14      5086571  BOLD:AAA9429 127         Diptera      1882        \n",
       "15      5086068  BOLD:AAA9429 127         Diptera      1882        \n",
       "16      5086185  BOLD:AAA9429 127         Diptera      1882        \n",
       "17      5086508  BOLD:AAA9429 127         Diptera      1882        \n",
       "18      5086187  BOLD:AAA9429 127         Diptera      1882        \n",
       "19      5086105  BOLD:AAA9429 127         Diptera      1882        \n",
       "20      5085979  BOLD:AAA9429 127         Diptera      1882        \n",
       "21      5086397  BOLD:AAA9429 127         Diptera      1882        \n",
       "22      5086006  BOLD:AAA9429 127         Diptera      1882        \n",
       "23      5086606  BOLD:AAA9429 127         Diptera      1882        \n",
       "24      5086259  BOLD:AAA9429 127         Diptera      1882        \n",
       "25      5086009  BOLD:AAA9429 127         Diptera      1882        \n",
       "26      5086556  BOLD:AAA9429 127         Diptera      1882        \n",
       "27      5086620  BOLD:AAA9429 127         Diptera      1882        \n",
       "28      5086063  BOLD:AAA9429 127         Diptera      1882        \n",
       "29      5086092  BOLD:AAA9429 127         Diptera      1882        \n",
       "30      5086544  BOLD:AAA9429 127         Diptera      1882        \n",
       "⋮       ⋮        ⋮            ⋮           ⋮            ⋮           \n",
       "2382235 2776586  BOLD:ACF4049   125       Hymenoptera    563       \n",
       "2382236 2776581  BOLD:ACF4049   125       Hymenoptera    563       \n",
       "2382237 2776590  BOLD:ACF4049   125       Hymenoptera    563       \n",
       "2382238 4032817  BOLD:ACK5646    99       Trichoptera   1525       \n",
       "2382239 4032818  BOLD:ACK5646    99       Trichoptera   1525       \n",
       "2382240 4032819  BOLD:ACK5646    99       Trichoptera   1525       \n",
       "2382241 4032820  BOLD:ACK5646    99       Trichoptera   1525       \n",
       "2382242 4032821  BOLD:ACK5646    99       Trichoptera   1525       \n",
       "2382243 8430969  BOLD:ACM4372 91399       Siphonaptera 91400       \n",
       "2382244 8430967  BOLD:ACM4372 91399       Siphonaptera 91400       \n",
       "2382245 8430971  BOLD:ACM4372 91399       Siphonaptera 91400       \n",
       "2382246 8430966  BOLD:ACM4372 91399       Siphonaptera 91400       \n",
       "2382247 8430972  BOLD:ACM4372 91399       Siphonaptera 91400       \n",
       "2382248 8430968  BOLD:ACM4372 91399       Siphonaptera 91400       \n",
       "2382249 8430970  BOLD:ACM4372 91399       Siphonaptera 91400       \n",
       "2382250 4795576  BOLD:ACO4375   135       Plecoptera      NA       \n",
       "2382251 4795577  BOLD:ACO4375   135       Plecoptera      NA       \n",
       "2382252 4795579  BOLD:ACO4375   135       Plecoptera      NA       \n",
       "2382253 4795624  BOLD:ACO4375   135       Plecoptera      NA       \n",
       "2382254 4795625  BOLD:ACO4375   135       Plecoptera      NA       \n",
       "2382255 4795654  BOLD:ACO4696   135       Plecoptera      NA       \n",
       "2382256 4795657  BOLD:ACO4696   135       Plecoptera      NA       \n",
       "2382257 4795659  BOLD:ACO4696   135       Plecoptera      NA       \n",
       "2382258 4795653  BOLD:ACO4696   135       Plecoptera      NA       \n",
       "2382259 4795658  BOLD:ACO4696   135       Plecoptera      NA       \n",
       "2382260 2467667  BOLD:ADO0389   125       Hymenoptera    563       \n",
       "2382261 2483882  BOLD:ADO0389   125       Hymenoptera    563       \n",
       "2382262 2483884  BOLD:ADO0389   125       Hymenoptera    563       \n",
       "2382263 2483898  BOLD:ADO0389   125       Hymenoptera    563       \n",
       "2382264 2483897  BOLD:ADO0389   125       Hymenoptera    563       \n",
       "        family_name   subfamily_taxID subfamily_name genus_taxID\n",
       "1       Culicidae      2142           Culicinae       6438      \n",
       "2       Culicidae      2142           Culicinae       6438      \n",
       "3       Culicidae      2142           Culicinae       6438      \n",
       "4       Culicidae      2142           Culicinae       6438      \n",
       "5       Culicidae      2142           Culicinae       6438      \n",
       "6       Culicidae      2142           Culicinae       6438      \n",
       "7       Culicidae      2142           Culicinae       6438      \n",
       "8       Culicidae      2142           Culicinae       6438      \n",
       "9       Culicidae      2142           Culicinae       6438      \n",
       "10      Culicidae      2142           Culicinae       6438      \n",
       "11      Culicidae      2142           Culicinae       6438      \n",
       "12      Culicidae      2142           Culicinae       6438      \n",
       "13      Chironomidae  56413           Orthocladiinae 56414      \n",
       "14      Chironomidae  56413           Orthocladiinae 56414      \n",
       "15      Chironomidae  56413           Orthocladiinae 56414      \n",
       "16      Chironomidae  56413           Orthocladiinae 56414      \n",
       "17      Chironomidae  56413           Orthocladiinae 56414      \n",
       "18      Chironomidae  56413           Orthocladiinae 56414      \n",
       "19      Chironomidae  56413           Orthocladiinae 56414      \n",
       "20      Chironomidae  56413           Orthocladiinae 56414      \n",
       "21      Chironomidae  56413           Orthocladiinae 56414      \n",
       "22      Chironomidae  56413           Orthocladiinae 56414      \n",
       "23      Chironomidae  56413           Orthocladiinae 56414      \n",
       "24      Chironomidae  56413           Orthocladiinae 56414      \n",
       "25      Chironomidae  56413           Orthocladiinae 56414      \n",
       "26      Chironomidae  56413           Orthocladiinae 56414      \n",
       "27      Chironomidae  56413           Orthocladiinae 56414      \n",
       "28      Chironomidae  56413           Orthocladiinae 56414      \n",
       "29      Chironomidae  56413           Orthocladiinae 56414      \n",
       "30      Chironomidae  56413           Orthocladiinae 56414      \n",
       "⋮       ⋮             ⋮               ⋮              ⋮          \n",
       "2382235 Ichneumonidae 65126           Ichneumoninae  306929     \n",
       "2382236 Ichneumonidae 65126           Ichneumoninae  306929     \n",
       "2382237 Ichneumonidae 65126           Ichneumoninae  306929     \n",
       "2382238 Hydrobiosidae 79925           Hydrobiosinae    5254     \n",
       "2382239 Hydrobiosidae 79925           Hydrobiosinae    5254     \n",
       "2382240 Hydrobiosidae 79925           Hydrobiosinae    5254     \n",
       "2382241 Hydrobiosidae 79925           Hydrobiosinae    5254     \n",
       "2382242 Hydrobiosidae 79925           Hydrobiosinae    5254     \n",
       "2382243 Pulicidae        NA           NA             127309     \n",
       "2382244 Pulicidae        NA           NA             127309     \n",
       "2382245 Pulicidae        NA           NA             127309     \n",
       "2382246 Pulicidae        NA           NA             127309     \n",
       "2382247 Pulicidae        NA           NA             127309     \n",
       "2382248 Pulicidae        NA           NA             127309     \n",
       "2382249 Pulicidae        NA           NA             127309     \n",
       "2382250 NA               NA           NA                 NA     \n",
       "2382251 NA               NA           NA                 NA     \n",
       "2382252 NA               NA           NA                 NA     \n",
       "2382253 NA               NA           NA                 NA     \n",
       "2382254 NA               NA           NA                 NA     \n",
       "2382255 NA               NA           NA                 NA     \n",
       "2382256 NA               NA           NA                 NA     \n",
       "2382257 NA               NA           NA                 NA     \n",
       "2382258 NA               NA           NA                 NA     \n",
       "2382259 NA               NA           NA                 NA     \n",
       "2382260 Ichneumonidae 65126           Ichneumoninae  306929     \n",
       "2382261 Ichneumonidae 65126           Ichneumoninae  313888     \n",
       "2382262 Ichneumonidae 65126           Ichneumoninae  306929     \n",
       "2382263 Ichneumonidae 65126           Ichneumoninae  313888     \n",
       "2382264 Ichneumonidae 65126           Ichneumoninae  313888     \n",
       "        genus_name      ⋯ seq_primers                    \n",
       "1       Aedes           ⋯ C_LepFolR                      \n",
       "2       Aedes           ⋯ C_LepFolR                      \n",
       "3       Aedes           ⋯ C_LepFolR                      \n",
       "4       Aedes           ⋯ C_LepFolR                      \n",
       "5       Aedes           ⋯ C_LepFolR                      \n",
       "6       Aedes           ⋯ C_LepFolR                      \n",
       "7       Aedes           ⋯ C_LepFolR                      \n",
       "8       Aedes           ⋯ C_LepFolR                      \n",
       "9       Aedes           ⋯ C_LepFolR                      \n",
       "10      Aedes           ⋯ C_LepFolR                      \n",
       "11      Aedes           ⋯ C_LepFolR                      \n",
       "12      Aedes           ⋯ C_LepFolR                      \n",
       "13      Metriocnemus    ⋯ C_LepFolR                      \n",
       "14      Metriocnemus    ⋯ C_LepFolR                      \n",
       "15      Metriocnemus    ⋯ C_LepFolR                      \n",
       "16      Metriocnemus    ⋯ C_LepFolR                      \n",
       "17      Metriocnemus    ⋯ C_LepFolR                      \n",
       "18      Metriocnemus    ⋯ C_LepFolR                      \n",
       "19      Metriocnemus    ⋯ C_LepFolR                      \n",
       "20      Metriocnemus    ⋯ C_LepFolR                      \n",
       "21      Metriocnemus    ⋯ C_LepFolR                      \n",
       "22      Metriocnemus    ⋯ C_LepFolR                      \n",
       "23      Metriocnemus    ⋯ C_LepFolR                      \n",
       "24      Metriocnemus    ⋯ C_LepFolR                      \n",
       "25      Metriocnemus    ⋯ C_LepFolR                      \n",
       "26      Metriocnemus    ⋯ C_LepFolR                      \n",
       "27      Metriocnemus    ⋯ C_LepFolR                      \n",
       "28      Metriocnemus    ⋯ C_LepFolR                      \n",
       "29      Metriocnemus    ⋯ C_LepFolR                      \n",
       "30      Metriocnemus    ⋯ C_LepFolR                      \n",
       "⋮       ⋮               ⋱ ⋮                              \n",
       "2382235 Aucklandella    ⋯ LepR1|LepF1                    \n",
       "2382236 Aucklandella    ⋯ LepR1|LepF1                    \n",
       "2382237 Aucklandella    ⋯ LepR1|LepF1                    \n",
       "2382238 Tiphobiosis     ⋯ M13R|M13F|C_LepFolR|MLepF1     \n",
       "2382239 Tiphobiosis     ⋯ M13R|M13F|C_LepFolR|MLepF1     \n",
       "2382240 Tiphobiosis     ⋯ M13R|M13F|C_LepFolR            \n",
       "2382241 Tiphobiosis     ⋯ M13R|M13F|C_LepFolR|MLepF1     \n",
       "2382242 Tiphobiosis     ⋯ M13R|M13F|C_LepFolR|MLepF1     \n",
       "2382243 Ctenocephalides ⋯ NA                             \n",
       "2382244 Ctenocephalides ⋯ NA                             \n",
       "2382245 Ctenocephalides ⋯ NA                             \n",
       "2382246 Ctenocephalides ⋯ NA                             \n",
       "2382247 Ctenocephalides ⋯ NA                             \n",
       "2382248 Ctenocephalides ⋯ NA                             \n",
       "2382249 Ctenocephalides ⋯ NA                             \n",
       "2382250 NA              ⋯ C_LepFolF|M13R|C_LepFolR|MLepF1\n",
       "2382251 NA              ⋯ C_LepFolF|M13R|C_LepFolR|MLepF1\n",
       "2382252 NA              ⋯ C_LepFolF|M13R|C_LepFolR|MLepF1\n",
       "2382253 NA              ⋯ MLepF1|C_LepFolF|M13R|C_LepFolR\n",
       "2382254 NA              ⋯ C_LepFolF|M13R|C_LepFolR|MLepF1\n",
       "2382255 NA              ⋯ C_LepFolF|M13R|C_LepFolR|MLepF1\n",
       "2382256 NA              ⋯ C_LepFolF|M13R|C_LepFolR|MLepF1\n",
       "2382257 NA              ⋯ MLepF1|C_LepFolF|M13R|C_LepFolR\n",
       "2382258 NA              ⋯ C_LepFolF|M13R|C_LepFolR|MLepF1\n",
       "2382259 NA              ⋯ C_LepFolF|M13R|C_LepFolR|MLepF1\n",
       "2382260 Aucklandella    ⋯ LepF1|LepR1                    \n",
       "2382261 Degithina       ⋯ LepF1|LepR1                    \n",
       "2382262 Aucklandella    ⋯ LepF1|LepR1                    \n",
       "2382263 Degithina       ⋯ LepF1|LepR1                    \n",
       "2382264 Degithina       ⋯ LepF1|LepR1                    \n",
       "        marker_codes               \n",
       "1       COI-5P                     \n",
       "2       COI-5P                     \n",
       "3       COI-5P                     \n",
       "4       COI-5P                     \n",
       "5       COI-5P                     \n",
       "6       COI-5P                     \n",
       "7       COI-5P                     \n",
       "8       COI-5P                     \n",
       "9       COI-5P                     \n",
       "10      COI-5P                     \n",
       "11      COI-5P                     \n",
       "12      COI-5P                     \n",
       "13      COI-5P                     \n",
       "14      COI-5P                     \n",
       "15      COI-5P                     \n",
       "16      COI-5P                     \n",
       "17      COI-5P                     \n",
       "18      COI-5P                     \n",
       "19      COI-5P                     \n",
       "20      COI-5P                     \n",
       "21      COI-5P                     \n",
       "22      COI-5P                     \n",
       "23      COI-5P                     \n",
       "24      COI-5P                     \n",
       "25      COI-5P                     \n",
       "26      COI-5P                     \n",
       "27      COI-5P                     \n",
       "28      COI-5P                     \n",
       "29      COI-5P                     \n",
       "30      COI-5P                     \n",
       "⋮       ⋮                          \n",
       "2382235 COI-5P|COI-5P              \n",
       "2382236 COI-5P|COI-5P              \n",
       "2382237 COI-5P|COI-5P              \n",
       "2382238 COI-5P|COI-5P|COI-5P|COI-5P\n",
       "2382239 COI-5P|COI-5P|COI-5P|COI-5P\n",
       "2382240 COI-5P|COI-5P|COI-5P       \n",
       "2382241 COI-5P|COI-5P|COI-5P|COI-5P\n",
       "2382242 COI-5P|COI-5P|COI-5P|COI-5P\n",
       "2382243 NA                         \n",
       "2382244 NA                         \n",
       "2382245 NA                         \n",
       "2382246 NA                         \n",
       "2382247 NA                         \n",
       "2382248 NA                         \n",
       "2382249 NA                         \n",
       "2382250 COI-5P|COI-5P|COI-5P|COI-5P\n",
       "2382251 COI-5P|COI-5P|COI-5P|COI-5P\n",
       "2382252 COI-5P|COI-5P|COI-5P|COI-5P\n",
       "2382253 COI-5P|COI-5P|COI-5P|COI-5P\n",
       "2382254 COI-5P|COI-5P|COI-5P|COI-5P\n",
       "2382255 COI-5P|COI-5P|COI-5P|COI-5P\n",
       "2382256 COI-5P|COI-5P|COI-5P|COI-5P\n",
       "2382257 COI-5P|COI-5P|COI-5P|COI-5P\n",
       "2382258 COI-5P|COI-5P|COI-5P|COI-5P\n",
       "2382259 COI-5P|COI-5P|COI-5P|COI-5P\n",
       "2382260 COI-5P|COI-5P              \n",
       "2382261 COI-5P|COI-5P              \n",
       "2382262 COI-5P|COI-5P              \n",
       "2382263 COI-5P|COI-5P              \n",
       "2382264 COI-5P|COI-5P              \n",
       "        full_name                                                          \n",
       "1       NA                                                                 \n",
       "2       NA                                                                 \n",
       "3       NA                                                                 \n",
       "4       NA                                                                 \n",
       "5       NA                                                                 \n",
       "6       NA                                                                 \n",
       "7       NA                                                                 \n",
       "8       NA                                                                 \n",
       "9       NA                                                                 \n",
       "10      NA                                                                 \n",
       "11      NA                                                                 \n",
       "12      NA                                                                 \n",
       "13      DipteraChironomidaeOrthocladiinaeMetriocnemusMetriocnemus sp. 1ES  \n",
       "14      DipteraChironomidaeOrthocladiinaeMetriocnemusMetriocnemus sp. 1ES  \n",
       "15      DipteraChironomidaeOrthocladiinaeMetriocnemusMetriocnemus sp. 1ES  \n",
       "16      DipteraChironomidaeOrthocladiinaeMetriocnemusMetriocnemus sp. 1ES  \n",
       "17      DipteraChironomidaeOrthocladiinaeMetriocnemusMetriocnemus sp. 1ES  \n",
       "18      DipteraChironomidaeOrthocladiinaeMetriocnemusMetriocnemus sp. 1ES  \n",
       "19      DipteraChironomidaeOrthocladiinaeMetriocnemusMetriocnemus sp. 1ES  \n",
       "20      DipteraChironomidaeOrthocladiinaeMetriocnemusMetriocnemus sp. 1ES  \n",
       "21      DipteraChironomidaeOrthocladiinaeMetriocnemusMetriocnemus sp. 1ES  \n",
       "22      DipteraChironomidaeOrthocladiinaeMetriocnemusMetriocnemus sp. 1ES  \n",
       "23      DipteraChironomidaeOrthocladiinaeMetriocnemusMetriocnemus sp. 1ES  \n",
       "24      DipteraChironomidaeOrthocladiinaeMetriocnemusMetriocnemus sp. 1ES  \n",
       "25      DipteraChironomidaeOrthocladiinaeMetriocnemusMetriocnemus sp. 1ES  \n",
       "26      DipteraChironomidaeOrthocladiinaeMetriocnemusMetriocnemus sp. 1ES  \n",
       "27      DipteraChironomidaeOrthocladiinaeMetriocnemusMetriocnemus sp. 1ES  \n",
       "28      DipteraChironomidaeOrthocladiinaeMetriocnemusMetriocnemus sp. 1ES  \n",
       "29      DipteraChironomidaeOrthocladiinaeMetriocnemusMetriocnemus sp. 1ES  \n",
       "30      DipteraChironomidaeOrthocladiinaeMetriocnemusMetriocnemus sp. 1ES  \n",
       "⋮       ⋮                                                                  \n",
       "2382235 NA                                                                 \n",
       "2382236 NA                                                                 \n",
       "2382237 NA                                                                 \n",
       "2382238 TrichopteraHydrobiosidaeHydrobiosinaeTiphobiosisTiphobiosis montana\n",
       "2382239 TrichopteraHydrobiosidaeHydrobiosinaeTiphobiosisTiphobiosis montana\n",
       "2382240 TrichopteraHydrobiosidaeHydrobiosinaeTiphobiosisTiphobiosis montana\n",
       "2382241 TrichopteraHydrobiosidaeHydrobiosinaeTiphobiosisTiphobiosis montana\n",
       "2382242 TrichopteraHydrobiosidaeHydrobiosinaeTiphobiosisTiphobiosis montana\n",
       "2382243 NA                                                                 \n",
       "2382244 NA                                                                 \n",
       "2382245 NA                                                                 \n",
       "2382246 NA                                                                 \n",
       "2382247 NA                                                                 \n",
       "2382248 NA                                                                 \n",
       "2382249 NA                                                                 \n",
       "2382250 NA                                                                 \n",
       "2382251 NA                                                                 \n",
       "2382252 NA                                                                 \n",
       "2382253 NA                                                                 \n",
       "2382254 NA                                                                 \n",
       "2382255 NA                                                                 \n",
       "2382256 NA                                                                 \n",
       "2382257 NA                                                                 \n",
       "2382258 NA                                                                 \n",
       "2382259 NA                                                                 \n",
       "2382260 NA                                                                 \n",
       "2382261 NA                                                                 \n",
       "2382262 NA                                                                 \n",
       "2382263 NA                                                                 \n",
       "2382264 NA                                                                 \n",
       "        cells chelsa_300km.1 longitude latitude n_nucs_all_trim numseqs numotus\n",
       "1       20    -151.8424      -11535031 7027265  534             12      53     \n",
       "2       20    -151.8424      -11535031 7027265  588             12      53     \n",
       "3       20    -151.8424      -11535031 7027265  588             12      53     \n",
       "4       20    -151.8424      -11535031 7027265  633             12      53     \n",
       "5       20    -151.8424      -11535031 7027265  588             12      53     \n",
       "6       20    -151.8424      -11535031 7027265  602             12      53     \n",
       "7       20    -151.8424      -11535031 7027265  564             12      53     \n",
       "8       20    -151.8424      -11535031 7027265  552             12      53     \n",
       "9       20    -151.8424      -11535031 7027265  633             12      53     \n",
       "10      20    -151.8424      -11535031 7027265  618             12      53     \n",
       "11      20    -151.8424      -11535031 7027265  609             12      53     \n",
       "12      20    -151.8424      -11535031 7027265  552             12      53     \n",
       "13      20    -151.8424      -11535031 7027265  609             40      53     \n",
       "14      20    -151.8424      -11535031 7027265  582             40      53     \n",
       "15      20    -151.8424      -11535031 7027265  564             40      53     \n",
       "16      20    -151.8424      -11535031 7027265  567             40      53     \n",
       "17      20    -151.8424      -11535031 7027265  588             40      53     \n",
       "18      20    -151.8424      -11535031 7027265  627             40      53     \n",
       "19      20    -151.8424      -11535031 7027265  573             40      53     \n",
       "20      20    -151.8424      -11535031 7027265  609             40      53     \n",
       "21      20    -151.8424      -11535031 7027265  564             40      53     \n",
       "22      20    -151.8424      -11535031 7027265  555             40      53     \n",
       "23      20    -151.8424      -11535031 7027265  579             40      53     \n",
       "24      20    -151.8424      -11535031 7027265  627             40      53     \n",
       "25      20    -151.8424      -11535031 7027265  582             40      53     \n",
       "26      20    -151.8424      -11535031 7027265  582             40      53     \n",
       "27      20    -151.8424      -11535031 7027265  552             40      53     \n",
       "28      20    -151.8424      -11535031 7027265  555             40      53     \n",
       "29      20    -151.8424      -11535031 7027265  534             40      53     \n",
       "30      20    -151.8424      -11535031 7027265  582             40      53     \n",
       "⋮       ⋮     ⋮              ⋮         ⋮        ⋮               ⋮       ⋮      \n",
       "2382235 4869  82.40519       16452937  -5255832 658             11      51     \n",
       "2382236 4869  82.40519       16446376  -5255385 658             11      51     \n",
       "2382237 4869  82.40519       16446376  -5255385 658             11      51     \n",
       "2382238 4869  82.40519       16293928  -5146577 658              5      51     \n",
       "2382239 4869  82.40519       16293928  -5146577 658              5      51     \n",
       "2382240 4869  82.40519       16260254  -5195065 613              5      51     \n",
       "2382241 4869  82.40519       16260254  -5195065 658              5      51     \n",
       "2382242 4869  82.40519       16260254  -5195065 658              5      51     \n",
       "2382243 4869  82.40519       16446762  -5258749 601              7      51     \n",
       "2382244 4869  82.40519       16446762  -5258749 601              7      51     \n",
       "2382245 4869  82.40519       16249833  -5264523 601              7      51     \n",
       "2382246 4869  82.40519       16446762  -5258749 601              7      51     \n",
       "2382247 4869  82.40519       16249833  -5264523 601              7      51     \n",
       "2382248 4869  82.40519       16446762  -5258749 601              7      51     \n",
       "2382249 4869  82.40519       16249833  -5264523 601              7      51     \n",
       "2382250 4869  82.40519       16287752  -5184006 658              5      51     \n",
       "2382251 4869  82.40519       16287752  -5184006 658              5      51     \n",
       "2382252 4869  82.40519       16287752  -5184006 658              5      51     \n",
       "2382253 4869  82.40519       16412413  -5061103 658              5      51     \n",
       "2382254 4869  82.40519       16412413  -5061103 658              5      51     \n",
       "2382255 4869  82.40519       16385011  -5098016 658              5      51     \n",
       "2382256 4869  82.40519       16381248  -5108793 658              5      51     \n",
       "2382257 4869  82.40519       16385011  -5098016 658              5      51     \n",
       "2382258 4869  82.40519       16385011  -5098016 658              5      51     \n",
       "2382259 4869  82.40519       16385011  -5098016 658              5      51     \n",
       "2382260 4869  82.40519       16452937  -5255832 658              5      51     \n",
       "2382261 4869  82.40519       16452937  -5255832 588              5      51     \n",
       "2382262 4869  82.40519       16452937  -5255832 663              5      51     \n",
       "2382263 4869  82.40519       16452937  -5255832 657              5      51     \n",
       "2382264 4869  82.40519       16452937  -5255832 657              5      51     "
      ]
     },
     "metadata": {},
     "output_type": "display_data"
    }
   ],
   "source": [
    "# add in the relevant columns from the bold_seq_filtered data set and remove any non-matches\n",
    "pts_ext_seqfilter <- pts_ext[bold_seq_filtered[,.(recordID, n_nucs_all_trim)], on = \"recordID\", nomatch = 0]\n",
    "\n",
    "# get the number of sequences per OTU per cell\n",
    "pts_ext_numseqs <- pts_ext_seqfilter[, cells := as.factor(cells)][,keyby = .(bin_uri, cells), .(numseqs = .N)]\n",
    "\n",
    "# combine with the original data set. \n",
    "pts_ext_full <- pts_ext_seqfilter[pts_ext_numseqs, on = .(bin_uri, cells)]\n",
    "\n",
    "# filter for greater than or equal to 5 sequences per bin_uri per cell\n",
    "pts_ext_filtered <- pts_ext_full[numseqs >= 5]\n",
    "\n",
    "# get the number of OTUs per cell\n",
    "pts_ext_otus <- pts_ext_filtered[,keyby = \"cells\", .(numotus = uniqueN(bin_uri))]\n",
    "\n",
    "# combine with filtered data set\n",
    "pts_ext_filtered <- pts_ext_filtered[pts_ext_otus, on = \"cells\", nomatch = 0]\n",
    "\n",
    "# filter for 10 or more OTUs per cell\n",
    "pts_ext_filtered <- pts_ext_filtered[numotus >= 10]\n",
    "\n",
    "\n",
    "pts_ext_filtered"
   ]
  },
  {
   "cell_type": "code",
   "execution_count": 375,
   "metadata": {},
   "outputs": [
    {
     "data": {
      "text/html": [
       "'Number of cells retained: 481'"
      ],
      "text/latex": [
       "'Number of cells retained: 481'"
      ],
      "text/markdown": [
       "'Number of cells retained: 481'"
      ],
      "text/plain": [
       "[1] \"Number of cells retained: 481\""
      ]
     },
     "metadata": {},
     "output_type": "display_data"
    }
   ],
   "source": [
    "paste0(\"Number of cells retained: \", uniqueN(pts_ext_filtered$cells))"
   ]
  },
  {
   "cell_type": "markdown",
   "metadata": {},
   "source": [
    "This is an updated species list with the filtered individuals. We're matching this against invasive species databases to see if we need to worry about having too many of them in our data set. The idea is that species invasive to an area will have lower genetic diversity than native species because of a founder effect. This can bias our calculations away from getting the \"natural\" variation in genetic diversity."
   ]
  },
  {
   "cell_type": "code",
   "execution_count": 376,
   "metadata": {},
   "outputs": [
    {
     "data": {
      "text/html": [
       "'Number of unique named species: 23890'"
      ],
      "text/latex": [
       "'Number of unique named species: 23890'"
      ],
      "text/markdown": [
       "'Number of unique named species: 23890'"
      ],
      "text/plain": [
       "[1] \"Number of unique named species: 23890\""
      ]
     },
     "metadata": {},
     "output_type": "display_data"
    },
    {
     "data": {
      "text/html": [
       "<table>\n",
       "<caption>A data.table: 6 × 6</caption>\n",
       "<thead>\n",
       "\t<tr><th scope=col>order_name</th><th scope=col>family_name</th><th scope=col>subfamily_name</th><th scope=col>genus_name</th><th scope=col>species_name</th><th scope=col>sp_suffix</th></tr>\n",
       "\t<tr><th scope=col>&lt;chr&gt;</th><th scope=col>&lt;chr&gt;</th><th scope=col>&lt;chr&gt;</th><th scope=col>&lt;chr&gt;</th><th scope=col>&lt;chr&gt;</th><th scope=col>&lt;chr&gt;</th></tr>\n",
       "</thead>\n",
       "<tbody>\n",
       "\t<tr><td>Lepidoptera</td><td>Geometridae    </td><td>Ennominae     </td><td>Paralaea   </td><td>Paralaea porphyrinaria</td><td>porphyrinaria</td></tr>\n",
       "\t<tr><td>Hemiptera  </td><td>Nepidae        </td><td>Ranatrinae    </td><td>Ranatra    </td><td>Ranatra linearis      </td><td>linearis     </td></tr>\n",
       "\t<tr><td>Lepidoptera</td><td>Noctuidae      </td><td>Condicinae    </td><td>Condica    </td><td>Condica abida         </td><td>abida        </td></tr>\n",
       "\t<tr><td>Diptera    </td><td>Sphaeroceridae </td><td>Limosininae   </td><td>Spelobia   </td><td>Spelobia semioculata  </td><td>semioculata  </td></tr>\n",
       "\t<tr><td>Diptera    </td><td>Mycetophilidae </td><td>Mycetophilinae</td><td>Mycetophila</td><td>Mycetophila perpallida</td><td>perpallida   </td></tr>\n",
       "\t<tr><td>Diptera    </td><td>Ceratopogonidae</td><td>Forcipomyiinae</td><td>Forcipomyia</td><td>Forcipomyia titillans </td><td>titillans    </td></tr>\n",
       "</tbody>\n",
       "</table>\n"
      ],
      "text/latex": [
       "A data.table: 6 × 6\n",
       "\\begin{tabular}{llllll}\n",
       " order\\_name & family\\_name & subfamily\\_name & genus\\_name & species\\_name & sp\\_suffix\\\\\n",
       " <chr> & <chr> & <chr> & <chr> & <chr> & <chr>\\\\\n",
       "\\hline\n",
       "\t Lepidoptera & Geometridae     & Ennominae      & Paralaea    & Paralaea porphyrinaria & porphyrinaria\\\\\n",
       "\t Hemiptera   & Nepidae         & Ranatrinae     & Ranatra     & Ranatra linearis       & linearis     \\\\\n",
       "\t Lepidoptera & Noctuidae       & Condicinae     & Condica     & Condica abida          & abida        \\\\\n",
       "\t Diptera     & Sphaeroceridae  & Limosininae    & Spelobia    & Spelobia semioculata   & semioculata  \\\\\n",
       "\t Diptera     & Mycetophilidae  & Mycetophilinae & Mycetophila & Mycetophila perpallida & perpallida   \\\\\n",
       "\t Diptera     & Ceratopogonidae & Forcipomyiinae & Forcipomyia & Forcipomyia titillans  & titillans    \\\\\n",
       "\\end{tabular}\n"
      ],
      "text/markdown": [
       "\n",
       "A data.table: 6 × 6\n",
       "\n",
       "| order_name &lt;chr&gt; | family_name &lt;chr&gt; | subfamily_name &lt;chr&gt; | genus_name &lt;chr&gt; | species_name &lt;chr&gt; | sp_suffix &lt;chr&gt; |\n",
       "|---|---|---|---|---|---|\n",
       "| Lepidoptera | Geometridae     | Ennominae      | Paralaea    | Paralaea porphyrinaria | porphyrinaria |\n",
       "| Hemiptera   | Nepidae         | Ranatrinae     | Ranatra     | Ranatra linearis       | linearis      |\n",
       "| Lepidoptera | Noctuidae       | Condicinae     | Condica     | Condica abida          | abida         |\n",
       "| Diptera     | Sphaeroceridae  | Limosininae    | Spelobia    | Spelobia semioculata   | semioculata   |\n",
       "| Diptera     | Mycetophilidae  | Mycetophilinae | Mycetophila | Mycetophila perpallida | perpallida    |\n",
       "| Diptera     | Ceratopogonidae | Forcipomyiinae | Forcipomyia | Forcipomyia titillans  | titillans     |\n",
       "\n"
      ],
      "text/plain": [
       "  order_name  family_name     subfamily_name genus_name  species_name          \n",
       "1 Lepidoptera Geometridae     Ennominae      Paralaea    Paralaea porphyrinaria\n",
       "2 Hemiptera   Nepidae         Ranatrinae     Ranatra     Ranatra linearis      \n",
       "3 Lepidoptera Noctuidae       Condicinae     Condica     Condica abida         \n",
       "4 Diptera     Sphaeroceridae  Limosininae    Spelobia    Spelobia semioculata  \n",
       "5 Diptera     Mycetophilidae  Mycetophilinae Mycetophila Mycetophila perpallida\n",
       "6 Diptera     Ceratopogonidae Forcipomyiinae Forcipomyia Forcipomyia titillans \n",
       "  sp_suffix    \n",
       "1 porphyrinaria\n",
       "2 linearis     \n",
       "3 abida        \n",
       "4 semioculata  \n",
       "5 perpallida   \n",
       "6 titillans    "
      ]
     },
     "metadata": {},
     "output_type": "display_data"
    }
   ],
   "source": [
    "bold_meta_filtered_unique <- unique(pts_ext_filtered, by = c(\"full_name\"))\n",
    "\n",
    "# select taxon columns, remove any \"sp.\" Some species names omit the \"sp.\" and just give someone's name (always capitalized) \n",
    "# or numeric identifier\n",
    "bold_meta_filtered_taxa  <- bold_meta_filtered_unique[, .(order_name, family_name, subfamily_name, genus_name, species_name)][\n",
    "    !str_detect(species_name, \"sp.\")][,\n",
    "    sp_suffix := str_split_fixed(species_name, \" \", n = 2)[,2]][\n",
    "    !str_detect(sp_suffix, \"[[:upper:]]\") &\n",
    "    !str_detect(sp_suffix, \"[0-9]\")] \n",
    "\n",
    "paste(\"Number of unique named species:\", nrow(bold_meta_filtered_taxa))\n",
    "head(bold_meta_taxa)\n",
    "\n",
    "fwrite(bold_meta_filtered_taxa, here(\"output\", \"spreadsheets\", paste0(\"bold_taxa_list_filtered_\", res, \".csv\")))"
   ]
  },
  {
   "cell_type": "markdown",
   "metadata": {},
   "source": [
    "There are many cells with especially few or especially many nucleotides (<<500 or >>650). I'm seeing if these may impact alignments by calculating the standard deviation and range in sequence length per OTU per cell. Although there are some OTUs with a relatively wide range in sequence lengths, there are none where sequence overlap is less than 50% (using Miraldo et al.'s guideline). So, it seems like I'm good to go with the sequences obtained so far."
   ]
  },
  {
   "cell_type": "code",
   "execution_count": 377,
   "metadata": {},
   "outputs": [
    {
     "data": {
      "text/plain": [
       "   Min. 1st Qu.  Median    Mean 3rd Qu.    Max. \n",
       "  0.000   5.093  19.010  21.660  33.673 140.217 "
      ]
     },
     "metadata": {},
     "output_type": "display_data"
    },
    {
     "data": {
      "text/plain": [
       "   Min. 1st Qu.  Median    Mean 3rd Qu.    Max. \n",
       "   0.00   15.00   60.00   66.45  105.00  278.00 "
      ]
     },
     "metadata": {},
     "output_type": "display_data"
    },
    {
     "data": {
      "text/plain": [
       "   Min. 1st Qu.  Median    Mean 3rd Qu.    Max. \n",
       " 0.5968  0.8389  0.9036  0.8969  0.9757  1.0000 "
      ]
     },
     "metadata": {},
     "output_type": "display_data"
    },
    {
     "data": {
      "text/html": [
       "'The number of OTUs before filtering for sequence overlap &gt; 0.50: 108795'"
      ],
      "text/latex": [
       "'The number of OTUs before filtering for sequence overlap > 0.50: 108795'"
      ],
      "text/markdown": [
       "'The number of OTUs before filtering for sequence overlap &gt; 0.50: 108795'"
      ],
      "text/plain": [
       "[1] \"The number of OTUs before filtering for sequence overlap > 0.50: 108795\""
      ]
     },
     "metadata": {},
     "output_type": "display_data"
    },
    {
     "data": {
      "text/html": [
       "'The number of OTUs after filtering for sequence overlap &gt; 0.50: 108795'"
      ],
      "text/latex": [
       "'The number of OTUs after filtering for sequence overlap > 0.50: 108795'"
      ],
      "text/markdown": [
       "'The number of OTUs after filtering for sequence overlap &gt; 0.50: 108795'"
      ],
      "text/plain": [
       "[1] \"The number of OTUs after filtering for sequence overlap > 0.50: 108795\""
      ]
     },
     "metadata": {},
     "output_type": "display_data"
    }
   ],
   "source": [
    "pts_var <- pts_ext_filtered[,keyby= .(bin_uri, cells), .(nuc_sd = sd(n_nucs_all_trim), \n",
    "                                                         nuc_range = max(n_nucs_all_trim) - min(n_nucs_all_trim),\n",
    "                                                         nuc_min = min(n_nucs_all_trim),\n",
    "                                                         nuc_max = max(n_nucs_all_trim))\n",
    "                           ][,prop_overlap := nuc_min / nuc_max]\n",
    "\n",
    "summary(pts_var$nuc_sd)\n",
    "summary(pts_var$nuc_range)\n",
    "summary(pts_var$prop_overlap)\n",
    "paste0(\"The number of OTUs before filtering for sequence overlap > 0.50: \", nrow(pts_var))\n",
    "paste0(\"The number of OTUs after filtering for sequence overlap > 0.50: \", nrow(pts_var[prop_overlap >= 0.5]))"
   ]
  },
  {
   "cell_type": "markdown",
   "metadata": {},
   "source": [
    "See which OTUs are present in multiple continents. "
   ]
  },
  {
   "cell_type": "code",
   "execution_count": 378,
   "metadata": {},
   "outputs": [],
   "source": [
    "world_map <- rnaturalearth::ne_countries(returnclass = \"sf\") %>% \n",
    "    st_transform(crs = behrmann_crs)\n",
    "\n",
    "pts_ext_sf <- st_as_sf(pts_ext_filtered, crs = behrmann_crs, coords = c(\"longitude\", \"latitude\"))\n",
    "\n",
    "# Find country of each coordinate:\n",
    "map_inter <- sf::st_intersects(pts_ext_sf, world_map)\n",
    "\n",
    "# have to replace zero-length st_intersects values with NA before subsetting. unlist() removes the empty cells\n",
    "pts_ext_sf$continents <- world_map$continent[map_dbl(map_inter, function(x) if(length(x) < 1) NA else x)]\n",
    "\n",
    "\n"
   ]
  },
  {
   "cell_type": "code",
   "execution_count": 379,
   "metadata": {},
   "outputs": [],
   "source": [
    "fwrite(pts_ext_sf, here(\"output\", \"spreadsheets\", paste0(\"filtered_with_continents_\", res, \".csv\")))"
   ]
  },
  {
   "cell_type": "markdown",
   "metadata": {},
   "source": [
    "Get the number of continents each OTU belongs to, filter for OTUs that belong to more than one continent, and remove unknown species (\"sp.\", \"cf.\", \"nr.\", \"s.l.\", \"pr.\" \"group\", \"complex\") and arbitrary labels not mapping to species (determined by the species name beginning with a capital letter). In addition, there are some records with the prefix \"jft\" that escape my other filters that I have to filter out. There are still duplicates, where the species name is followed by some identifier, but I would rather keep these duplicates than risk removing real species names. Of note: you may notice that some of the species say that there are records in more than one continent, but there is only one continent listed for the species. This is because the counts are based on OTU. The OTU associated with the species is in multiple continents, but for some reason, people submitting the other specimens didn't list a species name with the OTU (probably because they couldn't identify the specimen to species level via other methods)."
   ]
  },
  {
   "cell_type": "code",
   "execution_count": 380,
   "metadata": {},
   "outputs": [
    {
     "data": {
      "text/html": [
       "'Number of observations: 4638'"
      ],
      "text/latex": [
       "'Number of observations: 4638'"
      ],
      "text/markdown": [
       "'Number of observations: 4638'"
      ],
      "text/plain": [
       "[1] \"Number of observations: 4638\""
      ]
     },
     "metadata": {},
     "output_type": "display_data"
    },
    {
     "data": {
      "text/html": [
       "<table>\n",
       "<caption>A data.table: 6 × 8</caption>\n",
       "<thead>\n",
       "\t<tr><th scope=col>bin_uri</th><th scope=col>order_name</th><th scope=col>family_name</th><th scope=col>subfamily_name</th><th scope=col>genus_name</th><th scope=col>num_continents</th><th scope=col>species_name</th><th scope=col>sp_suffix</th></tr>\n",
       "\t<tr><th scope=col>&lt;chr&gt;</th><th scope=col>&lt;chr&gt;</th><th scope=col>&lt;chr&gt;</th><th scope=col>&lt;chr&gt;</th><th scope=col>&lt;chr&gt;</th><th scope=col>&lt;int&gt;</th><th scope=col>&lt;chr&gt;</th><th scope=col>&lt;chr&gt;</th></tr>\n",
       "</thead>\n",
       "<tbody>\n",
       "\t<tr><td>BOLD:AAA0257</td><td>Lepidoptera</td><td>Crambidae</td><td>Spilomelinae</td><td>Maruca        </td><td>2</td><td>Maruca testulalis      </td><td>testulalis   </td></tr>\n",
       "\t<tr><td>BOLD:AAA0257</td><td>Lepidoptera</td><td>Crambidae</td><td>Spilomelinae</td><td>Maruca        </td><td>2</td><td>Maruca vitrata         </td><td>vitrata      </td></tr>\n",
       "\t<tr><td>BOLD:AAA0317</td><td>Lepidoptera</td><td>Erebidae </td><td>Arctiinae   </td><td>Phoenicoprocta</td><td>2</td><td>Phoenicoprocta lydia   </td><td>lydia        </td></tr>\n",
       "\t<tr><td>BOLD:AAA0321</td><td>Lepidoptera</td><td>Crambidae</td><td>Pyraustinae </td><td>Hyalorista    </td><td>2</td><td>Hyalorista exuvialis   </td><td>exuvialis    </td></tr>\n",
       "\t<tr><td>BOLD:AAA0406</td><td>Lepidoptera</td><td>Crambidae</td><td>Spilomelinae</td><td>Asturodes     </td><td>2</td><td>Asturodes fimbriauralis</td><td>fimbriauralis</td></tr>\n",
       "\t<tr><td>BOLD:AAA0408</td><td>Lepidoptera</td><td>Crambidae</td><td>Spilomelinae</td><td>Desmia        </td><td>4</td><td>Desmia bajulalis       </td><td>bajulalis    </td></tr>\n",
       "</tbody>\n",
       "</table>\n"
      ],
      "text/latex": [
       "A data.table: 6 × 8\n",
       "\\begin{tabular}{llllllll}\n",
       " bin\\_uri & order\\_name & family\\_name & subfamily\\_name & genus\\_name & num\\_continents & species\\_name & sp\\_suffix\\\\\n",
       " <chr> & <chr> & <chr> & <chr> & <chr> & <int> & <chr> & <chr>\\\\\n",
       "\\hline\n",
       "\t BOLD:AAA0257 & Lepidoptera & Crambidae & Spilomelinae & Maruca         & 2 & Maruca testulalis       & testulalis   \\\\\n",
       "\t BOLD:AAA0257 & Lepidoptera & Crambidae & Spilomelinae & Maruca         & 2 & Maruca vitrata          & vitrata      \\\\\n",
       "\t BOLD:AAA0317 & Lepidoptera & Erebidae  & Arctiinae    & Phoenicoprocta & 2 & Phoenicoprocta lydia    & lydia        \\\\\n",
       "\t BOLD:AAA0321 & Lepidoptera & Crambidae & Pyraustinae  & Hyalorista     & 2 & Hyalorista exuvialis    & exuvialis    \\\\\n",
       "\t BOLD:AAA0406 & Lepidoptera & Crambidae & Spilomelinae & Asturodes      & 2 & Asturodes fimbriauralis & fimbriauralis\\\\\n",
       "\t BOLD:AAA0408 & Lepidoptera & Crambidae & Spilomelinae & Desmia         & 4 & Desmia bajulalis        & bajulalis    \\\\\n",
       "\\end{tabular}\n"
      ],
      "text/markdown": [
       "\n",
       "A data.table: 6 × 8\n",
       "\n",
       "| bin_uri &lt;chr&gt; | order_name &lt;chr&gt; | family_name &lt;chr&gt; | subfamily_name &lt;chr&gt; | genus_name &lt;chr&gt; | num_continents &lt;int&gt; | species_name &lt;chr&gt; | sp_suffix &lt;chr&gt; |\n",
       "|---|---|---|---|---|---|---|---|\n",
       "| BOLD:AAA0257 | Lepidoptera | Crambidae | Spilomelinae | Maruca         | 2 | Maruca testulalis       | testulalis    |\n",
       "| BOLD:AAA0257 | Lepidoptera | Crambidae | Spilomelinae | Maruca         | 2 | Maruca vitrata          | vitrata       |\n",
       "| BOLD:AAA0317 | Lepidoptera | Erebidae  | Arctiinae    | Phoenicoprocta | 2 | Phoenicoprocta lydia    | lydia         |\n",
       "| BOLD:AAA0321 | Lepidoptera | Crambidae | Pyraustinae  | Hyalorista     | 2 | Hyalorista exuvialis    | exuvialis     |\n",
       "| BOLD:AAA0406 | Lepidoptera | Crambidae | Spilomelinae | Asturodes      | 2 | Asturodes fimbriauralis | fimbriauralis |\n",
       "| BOLD:AAA0408 | Lepidoptera | Crambidae | Spilomelinae | Desmia         | 4 | Desmia bajulalis        | bajulalis     |\n",
       "\n"
      ],
      "text/plain": [
       "  bin_uri      order_name  family_name subfamily_name genus_name    \n",
       "1 BOLD:AAA0257 Lepidoptera Crambidae   Spilomelinae   Maruca        \n",
       "2 BOLD:AAA0257 Lepidoptera Crambidae   Spilomelinae   Maruca        \n",
       "3 BOLD:AAA0317 Lepidoptera Erebidae    Arctiinae      Phoenicoprocta\n",
       "4 BOLD:AAA0321 Lepidoptera Crambidae   Pyraustinae    Hyalorista    \n",
       "5 BOLD:AAA0406 Lepidoptera Crambidae   Spilomelinae   Asturodes     \n",
       "6 BOLD:AAA0408 Lepidoptera Crambidae   Spilomelinae   Desmia        \n",
       "  num_continents species_name            sp_suffix    \n",
       "1 2              Maruca testulalis       testulalis   \n",
       "2 2              Maruca vitrata          vitrata      \n",
       "3 2              Phoenicoprocta lydia    lydia        \n",
       "4 2              Hyalorista exuvialis    exuvialis    \n",
       "5 2              Asturodes fimbriauralis fimbriauralis\n",
       "6 4              Desmia bajulalis        bajulalis    "
      ]
     },
     "metadata": {},
     "output_type": "display_data"
    }
   ],
   "source": [
    "# convert back to data.table\n",
    "setDT(pts_ext_sf)\n",
    "\n",
    "continent_counts <- pts_ext_sf[, num_continents := uniqueN(continents), keyby = \"bin_uri\"]\n",
    "\n",
    "multi_continents <- continent_counts[num_continents > 1]\n",
    "\n",
    "# A long chain of filters, but I think it's more readable than splitting up. I could collapse the str_detect() calls, but whatever. It's still readable.\n",
    "multi_continents <- multi_continents[, unique(species_name), \n",
    "                                     keyby = .(bin_uri, \n",
    "                                               order_name, \n",
    "                                               family_name, \n",
    "                                               subfamily_name, \n",
    "                                               genus_name, \n",
    "                                               num_continents)\n",
    "                                    ][, species_name := V1\n",
    "                                    ][!is.na(species_name)\n",
    "                                    ][,V1 := NULL\n",
    "                                    ][!str_detect(species_name, \"sp.|cf.|nr.|complex|group\")\n",
    "                                    # removing edge cases. tedious, but necessary\n",
    "                                    ][,species_name := str_remove(species_name, \"var. | 1| s.str.\")\n",
    "                                    ][,species_name := str_replace(species_name, \"quenseli quenseli\", \"quenseli\")\n",
    "                                    ][,species_name := str_replace(species_name, \"melanarius melanarius\", \"melanurius\")\n",
    "                                    ][,species_name := str_replace(species_name, \"fuscipes fuscipes\", \"fuscipes\")\n",
    "                                    ][,species_name := str_remove(species_name, \"Ch$|_A$|-B$|-A$|Pe$\")\n",
    "                                    ][,species_name := str_remove(species_name, \"_(.*)\")\n",
    "                                    ][,sp_suffix := str_split_fixed(species_name, \" \", 2)[,2]\n",
    "                                    ][!str_detect(sp_suffix, \"^[A-Z]\")\n",
    "                                    ][,species_name := str_remove(species_name, \"[A-Z]+[0-9]+\") %>% str_trim()\n",
    "                                    ][,sp_suffix := str_remove(sp_suffix, \"[A-Z]+[0-9]+\") %>% str_trim()\n",
    "                                    ][!str_starts(sp_suffix, \"jft| s.l.| sl|pr. \")\n",
    "                                    ][,species_name := str_remove(species_name, \"[0-9][0-9]\")\n",
    "                                    ][,sp_suffix := str_remove(sp_suffix, \"[0-9][0-9]\")\n",
    "                                    ][!duplicated(species_name)]\n",
    "\n",
    "paste0(\"Number of observations: \", nrow(multi_continents))\n",
    "head(multi_continents)\n"
   ]
  },
  {
   "cell_type": "markdown",
   "metadata": {},
   "source": [
    "For 100 km aggregation:\n",
    "There are 2426 unique OTUs within 3015 unique species that are present on multiple continents. If I don't filter for records with species names, there are 4281 OTUs present on multiple continents. This makes up 0.19% of the total number of OTUs in the dataset."
   ]
  },
  {
   "cell_type": "code",
   "execution_count": 381,
   "metadata": {},
   "outputs": [
    {
     "data": {
      "text/html": [
       "'There are 3576 unique OTUs associated with species names present in multiple continents.'"
      ],
      "text/latex": [
       "'There are 3576 unique OTUs associated with species names present in multiple continents.'"
      ],
      "text/markdown": [
       "'There are 3576 unique OTUs associated with species names present in multiple continents.'"
      ],
      "text/plain": [
       "[1] \"There are 3576 unique OTUs associated with species names present in multiple continents.\""
      ]
     },
     "metadata": {},
     "output_type": "display_data"
    },
    {
     "data": {
      "text/html": [
       "'There are 4638 unique species present in multiple continents.'"
      ],
      "text/latex": [
       "'There are 4638 unique species present in multiple continents.'"
      ],
      "text/markdown": [
       "'There are 4638 unique species present in multiple continents.'"
      ],
      "text/plain": [
       "[1] \"There are 4638 unique species present in multiple continents.\""
      ]
     },
     "metadata": {},
     "output_type": "display_data"
    },
    {
     "data": {
      "text/html": [
       "'There are 5856 total OTUs present in multiple continents.'"
      ],
      "text/latex": [
       "'There are 5856 total OTUs present in multiple continents.'"
      ],
      "text/markdown": [
       "'There are 5856 total OTUs present in multiple continents.'"
      ],
      "text/plain": [
       "[1] \"There are 5856 total OTUs present in multiple continents.\""
      ]
     },
     "metadata": {},
     "output_type": "display_data"
    },
    {
     "data": {
      "text/html": [
       "'This is 0.25% of the total number of OTUs in the dataset.'"
      ],
      "text/latex": [
       "'This is 0.25\\% of the total number of OTUs in the dataset.'"
      ],
      "text/markdown": [
       "'This is 0.25% of the total number of OTUs in the dataset.'"
      ],
      "text/plain": [
       "[1] \"This is 0.25% of the total number of OTUs in the dataset.\""
      ]
     },
     "metadata": {},
     "output_type": "display_data"
    }
   ],
   "source": [
    "paste0(\"There are \", multi_continents %>% summarize(n = uniqueN(bin_uri)) %>% pull(n), \" unique OTUs associated with species names present in multiple continents.\")\n",
    "\n",
    "paste0(\"There are \", multi_continents %>% summarize(n = uniqueN(species_name)) %>% pull(n), \" unique species present in multiple continents.\")\n",
    "\n",
    "paste0(\"There are \", nrow(continent_counts[num_continents > 1][!duplicated(bin_uri)]), \" total OTUs present in multiple continents.\")\n",
    "\n",
    "paste0(\"This is \", round(nrow(continent_counts[num_continents > 1][!duplicated(bin_uri)]) / nrow(continent_counts) * 100, 2), \"% of the total number of OTUs in the dataset.\")\n"
   ]
  },
  {
   "cell_type": "markdown",
   "metadata": {},
   "source": [
    "Now I'm going to match this specimen list to a few invasive species databases. The first is the Global Invasive Species Database, which is run by the Invasive Species Specialist Group. I searched for all animals under the class Insecta and downloaded the resulting CSV. Downloaded: 4-23-20."
   ]
  },
  {
   "cell_type": "code",
   "execution_count": 382,
   "metadata": {},
   "outputs": [
    {
     "name": "stderr",
     "output_type": "stream",
     "text": [
      "Using ',' as decimal and '.' as grouping mark. Use read_delim() for more control.\n",
      "\n",
      "Warning message:\n",
      "“Missing column names filled in: 'X8' [8]”\n",
      "Parsed with column specification:\n",
      "cols(\n",
      "  Species = \u001b[31mcol_character()\u001b[39m,\n",
      "  Kingdom = \u001b[31mcol_character()\u001b[39m,\n",
      "  Phylum = \u001b[31mcol_character()\u001b[39m,\n",
      "  Class = \u001b[31mcol_character()\u001b[39m,\n",
      "  Order = \u001b[31mcol_character()\u001b[39m,\n",
      "  Family = \u001b[31mcol_character()\u001b[39m,\n",
      "  System = \u001b[31mcol_character()\u001b[39m,\n",
      "  X8 = \u001b[33mcol_logical()\u001b[39m\n",
      ")\n",
      "\n"
     ]
    },
    {
     "data": {
      "text/html": [
       "<table>\n",
       "<caption>A tibble: 6 × 3</caption>\n",
       "<thead>\n",
       "\t<tr><th scope=col>species_name</th><th scope=col>source</th><th scope=col>source_id</th></tr>\n",
       "\t<tr><th scope=col>&lt;chr&gt;</th><th scope=col>&lt;chr&gt;</th><th scope=col>&lt;chr&gt;</th></tr>\n",
       "</thead>\n",
       "<tbody>\n",
       "\t<tr><td>Acnemia bifida         </td><td>http://www.iucngisd.org/gisd/search.php</td><td>gisd</td></tr>\n",
       "\t<tr><td>Acromyrmex octospinosus</td><td>http://www.iucngisd.org/gisd/search.php</td><td>gisd</td></tr>\n",
       "\t<tr><td>Adelges piceae         </td><td>http://www.iucngisd.org/gisd/search.php</td><td>gisd</td></tr>\n",
       "\t<tr><td>Adelges tsugae         </td><td>http://www.iucngisd.org/gisd/search.php</td><td>gisd</td></tr>\n",
       "\t<tr><td>Aedes aegypti          </td><td>http://www.iucngisd.org/gisd/search.php</td><td>gisd</td></tr>\n",
       "\t<tr><td>Aedes albopictus       </td><td>http://www.iucngisd.org/gisd/search.php</td><td>gisd</td></tr>\n",
       "</tbody>\n",
       "</table>\n"
      ],
      "text/latex": [
       "A tibble: 6 × 3\n",
       "\\begin{tabular}{lll}\n",
       " species\\_name & source & source\\_id\\\\\n",
       " <chr> & <chr> & <chr>\\\\\n",
       "\\hline\n",
       "\t Acnemia bifida          & http://www.iucngisd.org/gisd/search.php & gisd\\\\\n",
       "\t Acromyrmex octospinosus & http://www.iucngisd.org/gisd/search.php & gisd\\\\\n",
       "\t Adelges piceae          & http://www.iucngisd.org/gisd/search.php & gisd\\\\\n",
       "\t Adelges tsugae          & http://www.iucngisd.org/gisd/search.php & gisd\\\\\n",
       "\t Aedes aegypti           & http://www.iucngisd.org/gisd/search.php & gisd\\\\\n",
       "\t Aedes albopictus        & http://www.iucngisd.org/gisd/search.php & gisd\\\\\n",
       "\\end{tabular}\n"
      ],
      "text/markdown": [
       "\n",
       "A tibble: 6 × 3\n",
       "\n",
       "| species_name &lt;chr&gt; | source &lt;chr&gt; | source_id &lt;chr&gt; |\n",
       "|---|---|---|\n",
       "| Acnemia bifida          | http://www.iucngisd.org/gisd/search.php | gisd |\n",
       "| Acromyrmex octospinosus | http://www.iucngisd.org/gisd/search.php | gisd |\n",
       "| Adelges piceae          | http://www.iucngisd.org/gisd/search.php | gisd |\n",
       "| Adelges tsugae          | http://www.iucngisd.org/gisd/search.php | gisd |\n",
       "| Aedes aegypti           | http://www.iucngisd.org/gisd/search.php | gisd |\n",
       "| Aedes albopictus        | http://www.iucngisd.org/gisd/search.php | gisd |\n",
       "\n"
      ],
      "text/plain": [
       "  species_name            source                                  source_id\n",
       "1 Acnemia bifida          http://www.iucngisd.org/gisd/search.php gisd     \n",
       "2 Acromyrmex octospinosus http://www.iucngisd.org/gisd/search.php gisd     \n",
       "3 Adelges piceae          http://www.iucngisd.org/gisd/search.php gisd     \n",
       "4 Adelges tsugae          http://www.iucngisd.org/gisd/search.php gisd     \n",
       "5 Aedes aegypti           http://www.iucngisd.org/gisd/search.php gisd     \n",
       "6 Aedes albopictus        http://www.iucngisd.org/gisd/search.php gisd     "
      ]
     },
     "metadata": {},
     "output_type": "display_data"
    }
   ],
   "source": [
    "invasive_gisd <- read_csv2(here(\"data\", \"invasive\", \"export_gisd.csv\")) %>% \n",
    "    select(-X8) %>% \n",
    "    rename_all(list(~tolower(.) %>% str_c(\"_name\"))) %>% \n",
    "    mutate(source = \"http://www.iucngisd.org/gisd/search.php\",\n",
    "           source_id = \"gisd\") %>% \n",
    "    select(species_name, source, source_id)\n",
    "\n",
    "head(invasive_gisd)"
   ]
  },
  {
   "cell_type": "markdown",
   "metadata": {},
   "source": [
    "The next is the [Invasive Species Compendium](https://www.cabi.org/isc/), a database compiled by the Centre for Agriculture and Bioscience International. I used the search term \"insecta\" and refined the results by the class Insecta. Downloaded: 4-24-20. "
   ]
  },
  {
   "cell_type": "code",
   "execution_count": 383,
   "metadata": {},
   "outputs": [
    {
     "name": "stderr",
     "output_type": "stream",
     "text": [
      "Warning message:\n",
      "“Missing column names filled in: 'X5' [5]”\n",
      "Parsed with column specification:\n",
      "cols(\n",
      "  `Scientific name` = \u001b[31mcol_character()\u001b[39m,\n",
      "  `Common name` = \u001b[31mcol_character()\u001b[39m,\n",
      "  Coverage = \u001b[31mcol_character()\u001b[39m,\n",
      "  URL = \u001b[31mcol_character()\u001b[39m,\n",
      "  X5 = \u001b[33mcol_logical()\u001b[39m\n",
      ")\n",
      "\n"
     ]
    },
    {
     "data": {
      "text/html": [
       "<table>\n",
       "<caption>A tibble: 6 × 3</caption>\n",
       "<thead>\n",
       "\t<tr><th scope=col>species_name</th><th scope=col>source</th><th scope=col>source_id</th></tr>\n",
       "\t<tr><th scope=col>&lt;chr&gt;</th><th scope=col>&lt;chr&gt;</th><th scope=col>&lt;chr&gt;</th></tr>\n",
       "</thead>\n",
       "<tbody>\n",
       "\t<tr><td>Contarinia jongi           </td><td>https://www.cabi.org/isc/datasheet/96735061</td><td>icf</td></tr>\n",
       "\t<tr><td>Vespa mandarinia           </td><td>https://www.cabi.org/isc/datasheet/35294260</td><td>icf</td></tr>\n",
       "\t<tr><td>Aleurodicus rugioperculatus</td><td>https://www.cabi.org/isc/datasheet/122299  </td><td>icf</td></tr>\n",
       "\t<tr><td>Bactrocera carambolae      </td><td>https://www.cabi.org/isc/datasheet/8700    </td><td>icf</td></tr>\n",
       "\t<tr><td>Paracoccus marginatus      </td><td>https://www.cabi.org/isc/datasheet/39201   </td><td>icf</td></tr>\n",
       "\t<tr><td>Bactrocera oleae           </td><td>https://www.cabi.org/isc/datasheet/17689   </td><td>icf</td></tr>\n",
       "</tbody>\n",
       "</table>\n"
      ],
      "text/latex": [
       "A tibble: 6 × 3\n",
       "\\begin{tabular}{lll}\n",
       " species\\_name & source & source\\_id\\\\\n",
       " <chr> & <chr> & <chr>\\\\\n",
       "\\hline\n",
       "\t Contarinia jongi            & https://www.cabi.org/isc/datasheet/96735061 & icf\\\\\n",
       "\t Vespa mandarinia            & https://www.cabi.org/isc/datasheet/35294260 & icf\\\\\n",
       "\t Aleurodicus rugioperculatus & https://www.cabi.org/isc/datasheet/122299   & icf\\\\\n",
       "\t Bactrocera carambolae       & https://www.cabi.org/isc/datasheet/8700     & icf\\\\\n",
       "\t Paracoccus marginatus       & https://www.cabi.org/isc/datasheet/39201    & icf\\\\\n",
       "\t Bactrocera oleae            & https://www.cabi.org/isc/datasheet/17689    & icf\\\\\n",
       "\\end{tabular}\n"
      ],
      "text/markdown": [
       "\n",
       "A tibble: 6 × 3\n",
       "\n",
       "| species_name &lt;chr&gt; | source &lt;chr&gt; | source_id &lt;chr&gt; |\n",
       "|---|---|---|\n",
       "| Contarinia jongi            | https://www.cabi.org/isc/datasheet/96735061 | icf |\n",
       "| Vespa mandarinia            | https://www.cabi.org/isc/datasheet/35294260 | icf |\n",
       "| Aleurodicus rugioperculatus | https://www.cabi.org/isc/datasheet/122299   | icf |\n",
       "| Bactrocera carambolae       | https://www.cabi.org/isc/datasheet/8700     | icf |\n",
       "| Paracoccus marginatus       | https://www.cabi.org/isc/datasheet/39201    | icf |\n",
       "| Bactrocera oleae            | https://www.cabi.org/isc/datasheet/17689    | icf |\n",
       "\n"
      ],
      "text/plain": [
       "  species_name                source                                     \n",
       "1 Contarinia jongi            https://www.cabi.org/isc/datasheet/96735061\n",
       "2 Vespa mandarinia            https://www.cabi.org/isc/datasheet/35294260\n",
       "3 Aleurodicus rugioperculatus https://www.cabi.org/isc/datasheet/122299  \n",
       "4 Bactrocera carambolae       https://www.cabi.org/isc/datasheet/8700    \n",
       "5 Paracoccus marginatus       https://www.cabi.org/isc/datasheet/39201   \n",
       "6 Bactrocera oleae            https://www.cabi.org/isc/datasheet/17689   \n",
       "  source_id\n",
       "1 icf      \n",
       "2 icf      \n",
       "3 icf      \n",
       "4 icf      \n",
       "5 icf      \n",
       "6 icf      "
      ]
     },
     "metadata": {},
     "output_type": "display_data"
    }
   ],
   "source": [
    "invasive_icf <- read_csv(here(\"data\", \"invasive\", \"isc_cabi.csv\")) %>% \n",
    "    select(-c(`Common name`, Coverage, X5)) %>% \n",
    "    rename(species_name = `Scientific name`, source = URL) %>% \n",
    "    mutate(source_id = \"icf\")\n",
    "\n",
    "head(invasive_icf)"
   ]
  },
  {
   "cell_type": "markdown",
   "metadata": {},
   "source": [
    "The Center for Invasive Species and Ecosystem Health has a list of invasive insect species in North America. They don't have an easy way to download their data, so I'm going to scrape it. After trial and error with some web scraping tools, the way the webpage has the table formatted makes it difficult to scrape. So, I used the [datapasta](https://github.com/MilesMcBain/datapasta) RStudio addin to copy-paste the table as a dataframe. It worked nicely! Scraped: 4-24-2020."
   ]
  },
  {
   "cell_type": "code",
   "execution_count": 384,
   "metadata": {},
   "outputs": [],
   "source": [
    "# make a tibble of the table\n",
    "invasive_na <- tibble::tribble(\n",
    "                                            ~Subject.Name,                          ~Scientific.Name,           ~Family,         ~Order,\n",
    "                                       \"Chinese rose beetle\",                        \"Adoretus sinicus\",    \"Scarabaeidae\",   \"Coleoptera\",\n",
    "                                 \"coconut rhinoceros beetle\",                      \"Oryctes rhinoceros\",    \"Scarabaeidae\",   \"Coleoptera\",\n",
    "                                              \"ash whitefly\",                   \"Siphoninus phillyreae\",     \"Aleyrodidae\",    \"Hemiptera\",\n",
    "                                    \"yellow-horned horntail\",              \"Urocerus gigas flavicornis\",       \"Siricidae\",  \"Hymenoptera\",\n",
    "                                      \"southern pine beetle\",                  \"Dendroctonus frontalis\",   \"Curculionidae\",   \"Coleoptera\",\n",
    "                                      \"mountain pine beetle\",                 \"Dendroctonus ponderosae\",   \"Curculionidae\",   \"Coleoptera\",\n",
    "                                             \"spruce beetle\",                 \"Dendroctonus rufipennis\",   \"Curculionidae\",   \"Coleoptera\",\n",
    "                          \"smaller European elm bark beetle\",                  \"Scolytus multistriatus\",   \"Curculionidae\",   \"Coleoptera\",\n",
    "                                        \"pine false webworm\",              \"Acantholyda erythrocephala\",    \"Pamphiliidae\",  \"Hymenoptera\",\n",
    "                                    \"introduced pine sawfly\",                         \"Diprion similis\",     \"Diprionidae\",  \"Hymenoptera\",\n",
    "                                            \"browntail moth\",                  \"Euproctis chrysorrhoea\",    \"Lymantriidae\",  \"Lepidoptera\",\n",
    "                                          \"white satin moth\",                         \"Leucoma salicis\",    \"Lymantriidae\",  \"Lepidoptera\",\n",
    "                                         \"aspen blotchminer\",                \"Phyllonorycter apparella\",  \"Gracillariidae\",  \"Lepidoptera\",\n",
    "                                                \"gypsy moth\",                        \"Lymantria dispar\",    \"Lymantriidae\",  \"Lepidoptera\",\n",
    "                                   \"forest tent caterpillar\",                     \"Malacosoma disstria\",   \"Lasiocampidae\",  \"Lepidoptera\",\n",
    "                                          \"citrus leafminer\",                  \"Phyllocnistis citrella\",  \"Gracillariidae\",  \"Lepidoptera\",\n",
    "                                           \"Japanese beetle\",                       \"Popillia japonica\",    \"Scarabaeidae\",   \"Coleoptera\",\n",
    "                                           \"elm leaf beetle\",                  \"Xanthogaleruca luteola\",   \"Chrysomelidae\",   \"Coleoptera\",\n",
    "                                      \"whitefringed beetles\",                          \"Naupactus spp.\",   \"Curculionidae\",   \"Coleoptera\",\n",
    "                                         \"black vine weevil\",                   \"Otiorhynchus sulcatus\",   \"Curculionidae\",   \"Coleoptera\",\n",
    "                                     \"balsam woolly adelgid\",                          \"Adelges piceae\",       \"Adelgidae\",    \"Hemiptera\",\n",
    "                                    \"hemlock woolly adelgid\",                          \"Adelges tsugae\",       \"Adelgidae\",    \"Hemiptera\",\n",
    "                                               \"beech scale\",                   \"Cryptococcus fagisuga\",    \"Eriococcidae\",    \"Hemiptera\",\n",
    "                                    \"elongate hemlock scale\",                        \"Fiorinia externa\",     \"Diaspididae\",    \"Hemiptera\",\n",
    "                                         \"coconut red scale\",                      \"Furcaspis oceanica\",     \"Diaspididae\",    \"Hemiptera\",\n",
    "                                     \"Egyptian fluted scale\",                       \"Icerya aegyptiaca\",   \"Monophlebidae\",    \"Hemiptera\",\n",
    "                                         \"oystershell scale\",                       \"Lepidosaphes ulmi\",     \"Diaspididae\",    \"Hemiptera\",\n",
    "                                         \"pine bark adelgid\",                           \"Pineus strobi\",       \"Adelgidae\",    \"Hemiptera\",\n",
    "                                               \"pear thrips\",               \"Taeniothrips inconsequens\",       \"Thripidae\", \"Thysanoptera\",\n",
    "                                   \"poplar-and-willow borer\",                  \"Cryptorhynchus lapathi\",   \"Curculionidae\",   \"Coleoptera\",\n",
    "                                             \"pinhole borer\",                           \"Platypus spp.\",   \"Curculionidae\",   \"Coleoptera\",\n",
    "                               \"New Guinea sugarcane weevil\",                   \"Rhabdoscelus obscurus\",   \"Curculionidae\",   \"Coleoptera\",\n",
    "                                  \"European pine shoot moth\",                     \"Rhyacionia buoliana\",     \"Tortricidae\",  \"Lepidoptera\",\n",
    "                                          \"black twig borer\",                   \"Xylosandrus compactus\",   \"Curculionidae\",   \"Coleoptera\",\n",
    "                                        \"citrus flower moth\",                             \"Prays citri\",   \"Yponomeutidae\",  \"Lepidoptera\",\n",
    "                                  \"goldenhaired bark beetle\",                     \"Hylurgus ligniperda\",   \"Curculionidae\",   \"Coleoptera\",\n",
    "                                \"six-spined engraver beetle\",                         \"Ips sexdentatus\",   \"Curculionidae\",   \"Coleoptera\",\n",
    "                               \"European spruce bark beetle\",                         \"Ips typographus\",   \"Curculionidae\",   \"Coleoptera\",\n",
    "                                                \"seed worms\",                              \"Cydia spp.\",     \"Tortricidae\",  \"Lepidoptera\",\n",
    "                                  \"larger pine shoot beetle\",                       \"Tomicus piniperda\",   \"Curculionidae\",   \"Coleoptera\",\n",
    "                                       \"spruce zebra beetle\",                   \"Xylotrechus undulatus\",    \"Cerambycidae\",   \"Coleoptera\",\n",
    "                            \"multicolored Asian lady beetle\",                       \"Harmonia axyridis\",   \"Coccinellidae\",   \"Coleoptera\",\n",
    "                                           \"European mantid\",                        \"Mantis religiosa\",        \"Mantidae\",     \"Mantodea\",\n",
    "                                        \"Asiatic oak weevil\",                 \"Cyrtepistomus castaneus\",   \"Curculionidae\",   \"Coleoptera\",\n",
    "                                   \"Asian longhorned beetle\",                \"Anoplophora glabripennis\",    \"Cerambycidae\",   \"Coleoptera\",\n",
    "                                          \"May-June beetles\",                        \"Phyllophaga spp.\",    \"Scarabaeidae\",   \"Coleoptera\",\n",
    "                            \"Japanese cedar longhorn beetle\",                  \"Callidiellum rufipenne\",    \"Cerambycidae\",   \"Coleoptera\",\n",
    "                                       \"European corn borer\",                      \"Ostrinia nubilalis\",       \"Crambidae\",  \"Lepidoptera\",\n",
    "                                 \"granulate ambrosia beetle\",               \"Xylosandrus crassiusculus\",   \"Curculionidae\",   \"Coleoptera\",\n",
    "                                               \"boll weevil\",              \"Anthonomus grandis grandis\",   \"Curculionidae\",   \"Coleoptera\",\n",
    "                                             \"plum curculio\",                  \"Conotrachelus nenuphar\",   \"Curculionidae\",   \"Coleoptera\",\n",
    "                                        \"tawny mole cricket\",                    \"Scapteriscus vicinus\",  \"Gryllotalpidae\",   \"Orthoptera\",\n",
    "                                              \"Corn earworm\",                         \"Helicoverpa zea\",       \"Noctuidae\",  \"Lepidoptera\",\n",
    "                                    \"Colorado potato beetle\",               \"Leptinotarsa decemlineata\",   \"Chrysomelidae\",   \"Coleoptera\",\n",
    "                                             \"beet armyworm\",                       \"Spodoptera exigua\",       \"Noctuidae\",  \"Lepidoptera\",\n",
    "                                     \"western flower thrips\",              \"Frankliniella occidentalis\",       \"Thripidae\", \"Thysanoptera\",\n",
    "                                    \"yellowstriped armyworm\",                 \"Spodoptera ornithogalli\",       \"Noctuidae\",  \"Lepidoptera\",\n",
    "                                           \"dusky clearwing\",                \"Paranthrene tabaniformis\",        \"Sesiidae\",  \"Lepidoptera\",\n",
    "                                   \"spotted cucumber beetle\",      \"Diabrotica undecimpunctata howardi\",   \"Chrysomelidae\",   \"Coleoptera\",\n",
    "                                             \"cabbage white\",                            \"Pieris rapae\",        \"Pieridae\",  \"Lepidoptera\",\n",
    "                                       \"Mexican bean beetle\",                    \"Epilachna varivestis\",   \"Coccinellidae\",   \"Coleoptera\",\n",
    "                                      \"sweetpotato whitefly\",                          \"Bemisia tabaci\",     \"Aleyrodidae\",    \"Hemiptera\",\n",
    "                                                   \"weevils\",                      \"Conotrachelus spp.\",   \"Curculionidae\",   \"Coleoptera\",\n",
    "                                            \"alfalfa weevil\",                          \"Hypera postica\",   \"Curculionidae\",   \"Coleoptera\",\n",
    "                                           \"European hornet\",                            \"Vespa crabro\",        \"Vespidae\",  \"Hymenoptera\",\n",
    "                                             \"cypress aphid\",                         \"Cinara cupressi\",       \"Aphididae\",    \"Hemiptera\",\n",
    "                                              \"Quetta Borer\",                        \"Trirachys sartus\",    \"Cerambycidae\",   \"Coleoptera\",\n",
    "                                  \"citrus longhorned beetle\",                   \"Anoplophora chinensis\",    \"Cerambycidae\",   \"Coleoptera\",\n",
    "                                             \"pine flat bug\",                      \"Aradus cinnamomeus\",        \"Aradidae\",    \"Hemiptera\",\n",
    "                                                \"white grub\",                  \"Brachysternus prasinus\",    \"Scarabaeidae\",   \"Coleoptera\",\n",
    "                                     \"flat headed woodborer\",                 \"Buprestis novemmaculata\",     \"Buprestidae\",   \"Coleoptera\",\n",
    "                                        \"long-horned beetle\",                          \"Eryphus laetus\",    \"Cerambycidae\",   \"Coleoptera\",\n",
    "                               \"brown fir longhorned beetle\",                 \"Callidiellum villosulum\",    \"Cerambycidae\",   \"Coleoptera\",\n",
    "                                    \"branch borer of coigue\",                   \"Callisphyris leptopus\",    \"Cerambycidae\",   \"Coleoptera\",\n",
    "               \"bark boring beetle of dead and dying coigue\",                   \"Calydon submetallicum\",    \"Cerambycidae\",   \"Coleoptera\",\n",
    "                                      \"wood borer of coigue\",                    \"Cheloderus childreni\",    \"Cerambycidae\",   \"Coleoptera\",\n",
    "                                            \"carpenter worm\",                 \"Chilecomadia valdiviana\",        \"Cossidae\",  \"Lepidoptera\",\n",
    "                                        \"long-horned beetle\",                \"Neocolobura alboplagiata\",    \"Cerambycidae\",   \"Coleoptera\",\n",
    "                    \"west indian powderpost drywood termite\",                     \"Cryptotermes brevis\",  \"Kalotermitidae\",     \"Isoptera\",\n",
    "                                           \"drywood termite\",                       \"Cryptotermes spp.\",  \"Kalotermitidae\",     \"Isoptera\",\n",
    "                                  \"great spruce bark beetle\",                     \"Dendroctonus micans\",   \"Curculionidae\",   \"Coleoptera\",\n",
    "                                         \"pine bark anobiid\",                         \"Ernobius mollis\",       \"Anobiidae\",   \"Coleoptera\",\n",
    "                                    \"flower longhorn beetle\",                 \"Proholopterus chilensis\",    \"Cerambycidae\",   \"Coleoptera\",\n",
    "                                          \"wheat white grub\",                      \"Hylamorpha elegans\",    \"Scarabaeidae\",   \"Coleoptera\",\n",
    "                                    \"black pine bark beetle\",                           \"Hylastes ater\",   \"Curculionidae\",   \"Coleoptera\",\n",
    "                                                  \"nun moth\",                       \"Lymantria monacha\",    \"Lymantriidae\",  \"Lepidoptera\",\n",
    "                                      \"Japanese pine sawyer\",                   \"Monochamus saltuarius\",    \"Cerambycidae\",   \"Coleoptera\",\n",
    "                                          \"dampwood termite\",                     \"Neotermes chilensis\",  \"Kalotermitidae\",     \"Isoptera\",\n",
    "                                   \"cambium miner of coigue\",                     \"Notiopostega atrata\",     \"Opostegidae\",  \"Lepidoptera\",\n",
    "                                         \"spiny caterpillar\",                   \"Ormiscodes cinnamomea\",     \"Saturniidae\",  \"Lepidoptera\",\n",
    "                        \"Mediterranean pine engraver beetle\",                     \"Orthotomicus erosus\",   \"Curculionidae\",   \"Coleoptera\",\n",
    "                                         \"damp wood termite\",                     \"Porotermes adamsoni\",     \"Termopsidae\",     \"Isoptera\",\n",
    "                                         \"damp wood termite\",                 \"Porotermes quadricollis\",     \"Termopsidae\",     \"Isoptera\",\n",
    "                                                   \"katydid\",                    \"Pterophylla beltrani\",   \"Tettigoniidae\",   \"Orthoptera\",\n",
    "                                               \"bark weevil\",                         \"Rhyephenes gayi\",   \"Curculionidae\",   \"Coleoptera\",\n",
    "                                \"Chilean pine spider weevil\",                    \"Rhyephenes humeralis\",   \"Curculionidae\",   \"Coleoptera\",\n",
    "                                       \"spotted tree weevil\",                    \"Rhyephenes lateralis\",   \"Curculionidae\",   \"Coleoptera\",\n",
    "                                         \"black tree weevil\",                      \"Rhyephenes maillei\",   \"Curculionidae\",   \"Coleoptera\",\n",
    "                                               \"purple moth\",                      \"Sarsina violascens\",    \"Lymantriidae\",  \"Lepidoptera\",\n",
    "                                  \"European oak bark beetle\",                     \"Scolytus intricatus\",   \"Curculionidae\",   \"Coleoptera\",\n",
    "                                                \"white grub\",                     \"Sericoides germaini\",    \"Scarabaeidae\",   \"Coleoptera\",\n",
    "                                        \"long-horned beetle\",                        \"Zehra coemeterii\",    \"Cerambycidae\",   \"Coleoptera\",\n",
    "                                                \"vine borer\",                     \"Sinoxylon perforans\",    \"Bostrichidae\",   \"Coleoptera\",\n",
    "                                            \"Sirex woodwasp\",                          \"Sirex noctilio\",       \"Siricidae\",  \"Hymenoptera\",\n",
    "                                       \"bagworm, basket bug\",                 \"Thanatopsyche chilensis\",       \"Psychidae\",  \"Lepidoptera\",\n",
    "                               \"Altai larch longhorn beetle\",                    \"Xylotrechus altaicus\",    \"Cerambycidae\",   \"Coleoptera\",\n",
    "                                      \"oak splendour beetle\",                      \"Agrilus biguttatus\",     \"Buprestidae\",   \"Coleoptera\",\n",
    "                 \"small white-marmorated long-horned beetle\",                        \"Monochamus sutor\",    \"Cerambycidae\",   \"Coleoptera\",\n",
    "                                              \"poplar borer\",                      \"Saperda carcharias\",    \"Cerambycidae\",   \"Coleoptera\",\n",
    "                                        \"small poplar borer\",                        \"Saperda populnea\",    \"Cerambycidae\",   \"Coleoptera\",\n",
    "                                       \"black spruce beetle\",                     \"Tetropium castaneum\",    \"Cerambycidae\",   \"Coleoptera\",\n",
    "                              \"brown spruce longhorn beetle\",                        \"Tetropium fuscum\",    \"Cerambycidae\",   \"Coleoptera\",\n",
    "                                  \"large brown trunk beetle\",                        \"Hylobius abietis\",   \"Curculionidae\",   \"Coleoptera\",\n",
    "                                  \"small banded pine weevil\",                      \"Pissodes castaneus\",   \"Curculionidae\",   \"Coleoptera\",\n",
    "                                           \"engraver beetle\",                          \"Ips acuminatus\",   \"Curculionidae\",   \"Coleoptera\",\n",
    "                                     \"larch engraver beetle\",                        \"Ips subelongatus\",   \"Curculionidae\",   \"Coleoptera\",\n",
    "                            \"six-toothed spruce bark beetle\",                \"Pityogenes chalcographus\",   \"Curculionidae\",   \"Coleoptera\",\n",
    "                                          \"large elm beetle\",                       \"Scolytus scolytus\",   \"Curculionidae\",   \"Coleoptera\",\n",
    "                                  \"lesser pine shoot beetle\",                           \"Tomicus minor\",   \"Curculionidae\",   \"Coleoptera\",\n",
    "                         \"European hardwood ambrosia beetle\",                 \"Trypodendron domesticum\",   \"Curculionidae\",   \"Coleoptera\",\n",
    "                                          \"black stem borer\",                    \"Xylosandrus germanus\",   \"Curculionidae\",   \"Coleoptera\",\n",
    "                                         \"Siricid woodwasps\",                          \"Sirex juvencus\",       \"Siricidae\",  \"Hymenoptera\",\n",
    "                                          \"ambrosia beetles\",                          \"Xyleborus spp.\",   \"Curculionidae\",   \"Coleoptera\",\n",
    "                             \"formosan subterranean termite\",                  \"Coptotermes formosanus\", \"Rhinotermitidae\",     \"Isoptera\",\n",
    "                                   \"pine processionary moth\",                 \"Thaumetopoea pityocampa\",    \"Notodontidae\",  \"Lepidoptera\",\n",
    "                                      \"Japanese pine sawyer\",                   \"Monochamus alternatus\",    \"Cerambycidae\",   \"Coleoptera\",\n",
    "                                   \"Masson pine caterpillar\",                   \"Dendrolimus punctatus\",   \"Lasiocampidae\",  \"Lepidoptera\",\n",
    "                                           \"rosy gypsy moth\",                       \"Lymantria mathura\",    \"Lymantriidae\",  \"Lepidoptera\",\n",
    "                           \"Mediterranean fruit fly, Medfly\",                      \"Ceratitis capitata\",     \"Tephritidae\",      \"Diptera\",\n",
    "                                     \"red imported fire ant\",                      \"Solenopsis invicta\",      \"Formicidae\",  \"Hymenoptera\",\n",
    "                                   \"black imported fire ant\",                     \"Solenopsis richteri\",      \"Formicidae\",  \"Hymenoptera\",\n",
    "                                        \"oriental fruit fly\",                     \"Bactrocera dorsalis\",     \"Tephritidae\",      \"Diptera\",\n",
    "                                        \"Asiatic rice borer\",                      \"Chilo suppressalis\",       \"Crambidae\",  \"Lepidoptera\",\n",
    "                                               \"green scale\",                          \"Coccus viridis\",        \"Coccidae\",    \"Hemiptera\",\n",
    "                                                 \"melon fly\",                   \"Zeugodacus cucurbitae\",     \"Tephritidae\",      \"Diptera\",\n",
    "                                         \"mango seed weevil\",                 \"Sternochetus mangiferae\",   \"Curculionidae\",   \"Coleoptera\",\n",
    "                           \"West Indian sweet potato weevil\",                  \"Euscepes postfasciatus\",   \"Curculionidae\",   \"Coleoptera\",\n",
    "                                    \"sweetpotato vine borer\",                   \"Omphisa anastomosalis\",       \"Crambidae\",  \"Lepidoptera\",\n",
    "                                            \"scarab beetles\",                           \"Adoretus spp.\",    \"Scarabaeidae\",   \"Coleoptera\",\n",
    "                                             \"chafer beetle\",                       \"Anomala sulcatula\",    \"Scarabaeidae\",   \"Coleoptera\",\n",
    "                                                \"white grub\",                  \"Holotrichia mindanaona\",    \"Scarabaeidae\",   \"Coleoptera\",\n",
    "                                                 \"paddy bug\",                       \"Leptocorisa acuta\",        \"Alydidae\",    \"Hemiptera\",\n",
    "                               \"sugarcane spotted aleyrodid\",                     \"Neomaskellia bergii\",     \"Aleyrodidae\",    \"Hemiptera\",\n",
    "                                          \"legume pod borer\",                          \"Maruca vitrata\",       \"Crambidae\",  \"Lepidoptera\",\n",
    "                                     \"orange spiny whitefly\",                \"Aleurocanthus spiniferus\",     \"Aleyrodidae\",    \"Hemiptera\",\n",
    "                                          \"spotted bollworm\",                          \"Earias vittela\",       \"Noctuidae\",  \"Lepidoptera\",\n",
    "                                            \"Bean butterfly\",                       \"Lampides boeticus\",      \"Lycaenidae\",  \"Lepidoptera\",\n",
    "                                     \"pink-spotted bollworm\",                  \"Pectinophora scutigera\",     \"Gelechiidae\",  \"Lepidoptera\",\n",
    "                                   \"citrus pock caterpillar\",                         \"Prays endocarpa\",   \"Yponomeutidae\",  \"Lepidoptera\",\n",
    "                                               \"banana moth\",                        \"Opogona sacchari\",        \"Tineidae\",  \"Lepidoptera\",\n",
    "                                         \"bromeliad weevils\",                         \"Metamasius spp.\",   \"Curculionidae\",   \"Coleoptera\",\n",
    "                                          \"cassava mealybug\",                    \"Phenococcus manihoti\",  \"Pseudococcidae\",    \"Hemiptera\",\n",
    "                                       \"avocado seed weevil\",                          \"Heilipus lauri\",   \"Curculionidae\",   \"Coleoptera\",\n",
    "                                           \"cocoa pod borer\",                 \"Conopomorpha cramerella\",  \"Gracillariidae\",  \"Lepidoptera\",\n",
    "                                  \"Asian chestnut gall wasp\",                   \"Dryocosmus kuriphilus\",       \"Cynipidae\",  \"Hymenoptera\",\n",
    "                                      \"onion carpenter worm\",                          \"Dyspessa ulula\",        \"Cossidae\",  \"Lepidoptera\",\n",
    "                                       \"chestnut leafroller\",                        \"Pammene fasciana\",     \"Tortricidae\",  \"Lepidoptera\",\n",
    "                                  \"European chestnut weevil\",                        \"Curculio elephas\",   \"Curculionidae\",   \"Coleoptera\",\n",
    "                                                \"nut weevil\",                          \"Curculio nucum\",   \"Curculionidae\",   \"Coleoptera\",\n",
    "                                          \"nut fruit tortix\",                         \"Cydia splendana\",     \"Tortricidae\",  \"Lepidoptera\",\n",
    "                                          \"sapote fruit fly\",                   \"Anastrepha serpentina\",     \"Tephritidae\",      \"Diptera\",\n",
    "                                         \"Mexican fruit fly\",                       \"Anastrepha ludens\",     \"Tephritidae\",      \"Diptera\",\n",
    "                                               \"leaf beetle\",                      \"Exosoma lusitanica\",   \"Chrysomelidae\",   \"Coleoptera\",\n",
    "                                             \"pink bollworm\",                \"Pectinophora gossypiella\",     \"Gelechiidae\",  \"Lepidoptera\",\n",
    "                                           \"plum fruit moth\",                    \"Grapholita funebrana\",     \"Tortricidae\",  \"Lepidoptera\",\n",
    "                                    \"pear leaf blister moth\",                 \"Leucoptera malifoliella\",     \"Lyonetiidae\",  \"Lepidoptera\",\n",
    "                                 \"summer fruit tortrix moth\",                        \"Adoxophyes orana\",     \"Tortricidae\",  \"Lepidoptera\",\n",
    "                                   \"polyphagous leaf roller\",                  \"Argyrotaenia ljungiana\",     \"Tortricidae\",  \"Lepidoptera\",\n",
    "                                                    \"thrips\",                   \"Haplothrips chinensis\", \"Phlaeothripidae\", \"Thysanoptera\",\n",
    "                               \"South American cucurbit fly\",                      \"Anastrepha grandis\",     \"Tephritidae\",      \"Diptera\",\n",
    "                                          \"peach fruit moth\",                    \"Carposina niponensis\",    \"Carposinidae\",  \"Lepidoptera\",\n",
    "                                         \"Yellow peach moth\",               \"Dichocrocis punctiferalis\",       \"Crambidae\",  \"Lepidoptera\",\n",
    "                                             \"khapra beetle\",                    \"Trogoderma granarium\",     \"Dermestidae\",   \"Coleoptera\",\n",
    "                                          \"papaya fruit fly\",                  \"Toxotrypana curvicauda\",     \"Tephritidae\",      \"Diptera\",\n",
    "                                              \"Lucerne flea\",                      \"Sminthurus viridis\",    \"Sminthuridae\",   \"Collembola\",\n",
    "                                    \"light brown apple moth\",                    \"Epiphyas postvittana\",     \"Tortricidae\",  \"Lepidoptera\",\n",
    "                                              \"click beetle\",                    \"Conoderes rufangulus\",      \"Elateridae\",   \"Coleoptera\",\n",
    "                             \"brown Chilean leaf-footed bug\",                  \"Leptoglossus chilensis\",        \"Coreidae\",    \"Hemiptera\",\n",
    "                                  \"Chilean vegetable weevil\",                  \"Listroderes subcinctus\",   \"Curculionidae\",   \"Coleoptera\",\n",
    "                                      \"tuberous pine weevil\",                  \"Geniocremnus chilensis\",   \"Curculionidae\",   \"Coleoptera\",\n",
    "                                         \"fruit tree weevil\",                 \"Naupactus xanthographus\",   \"Curculionidae\",   \"Coleoptera\",\n",
    "                                           \"Tortricid moths\",                           \"Proeulia spp.\",     \"Tortricidae\",  \"Lepidoptera\",\n",
    "                                      \"Fijian ginger weevil\",               \"Elytroteinus subtruncatus\",   \"Curculionidae\",   \"Coleoptera\",\n",
    "                                                \"leafroller\",                           \"Capua tortrix\",     \"Tortricidae\",  \"Lepidoptera\",\n",
    "                                      \"Queensland fruit fly\",                       \"Bactrocera tryoni\",     \"Tephritidae\",      \"Diptera\",\n",
    "                                                 \"leek moth\",                \"Acrolepiopsis assectella\",    \"Acrolepiidae\",  \"Lepidoptera\",\n",
    "                                              \"lily weevils\",                        \"Brachycerus spp.\",   \"Brachyceridae\",   \"Coleoptera\",\n",
    "                                     \"west indian fruit fly\",                      \"Anastrepha obliqua\",     \"Tephritidae\",      \"Diptera\",\n",
    "                                  \"South American fruit fly\",                  \"Anastrepha fraterculus\",     \"Tephritidae\",      \"Diptera\",\n",
    "                                          \"grape berry moth\",                         \"Lobesia botrana\",     \"Tortricidae\",  \"Lepidoptera\",\n",
    "                                               \"fruit flies\",                         \"Pterandrus spp.\",     \"Tephritidae\",      \"Diptera\",\n",
    "                                     \"old world fruit flies\",                          \"Ceratitis spp.\",     \"Tephritidae\",      \"Diptera\",\n",
    "                                        \"false codling moth\",                \"Thaumatotibia leucotreta\",     \"Tortricidae\",  \"Lepidoptera\",\n",
    "                                 \"small avocado seed weevil\",                 \"Conotrachelus aguacatae\",   \"Curculionidae\",   \"Coleoptera\",\n",
    "                                           \"guava fruit fly\",                      \"Anastrepha striata\",     \"Tephritidae\",      \"Diptera\",\n",
    "                                       \"avocado stem weevil\",                      \"Copturus aguacatae\",   \"Curculionidae\",   \"Coleoptera\",\n",
    "                                         \"avocado seed moth\",                       \"Stenoma catenifer\",    \"Elachistidae\",  \"Lepidoptera\",\n",
    "                                              \"cuckoo wasps\",                            \"Chrysis spp.\",     \"Chrysididae\",  \"Hymenoptera\",\n",
    "                                              \"cuckcoo bees\",                          \"Coelioxys spp.\",    \"Megachilidae\",  \"Hymenoptera\",\n",
    "                                     \"Africanized honey bee\",          \"Apis mellifera spp. scutellata\",          \"Apidae\",  \"Hymenoptera\",\n",
    "                                            \"Cape honey bee\",            \"Apis mellifera spp. capensis\",          \"Apidae\",  \"Hymenoptera\",\n",
    "                                        \"coffee berry borer\",                     \"Hypothenemus hampei\",   \"Curculionidae\",   \"Coleoptera\",\n",
    "                                       \"Egyptian cottonworm\",                   \"Spodoptera littoralis\",       \"Noctuidae\",  \"Lepidoptera\",\n",
    "                                                 \"sunn pest\",                  \"Eurygaster integriceps\",   \"Scutelleridae\",    \"Hemiptera\",\n",
    "                                              \"cabbage moth\",                      \"Mamestra brassicae\",       \"Noctuidae\",  \"Lepidoptera\",\n",
    "                                         \"potato tuber moth\",                 \"Phthorimaea operculella\",     \"Gelechiidae\",  \"Lepidoptera\",\n",
    "                                          \"Pine-tree lappet\",                        \"Dendrolimus pini\",   \"Lasiocampidae\",  \"Lepidoptera\",\n",
    "                                            \"conifer sawfly\",                            \"Diprion pini\",     \"Diprionidae\",  \"Hymenoptera\",\n",
    "                                         \"emerald ash borer\",                     \"Agrilus planipennis\",     \"Buprestidae\",   \"Coleoptera\",\n",
    "                                           \"Asian cockroach\",                      \"Blattella asahinai\",    \"Blattellidae\",    \"Blattodea\",\n",
    "                                          \"German cockroach\",                     \"Blattella germanica\",    \"Blattellidae\",    \"Blattodea\",\n",
    "                                        \"oriental cockroach\",                       \"Blatta orientalis\",       \"Blattidae\",    \"Blattodea\",\n",
    "                                              \"bamboo borer\",                  \"Chlorophorus annularis\",    \"Cerambycidae\",   \"Coleoptera\",\n",
    "                                              \"rustic borer\",                     \"Xylotrechus colonus\",    \"Cerambycidae\",   \"Coleoptera\",\n",
    "                                          \"lily leaf beetle\",                        \"Lilioceris lilii\",   \"Chrysomelidae\",   \"Coleoptera\",\n",
    "                                        \"cereal leaf beetle\",                        \"Oulema melanopus\",   \"Chrysomelidae\",   \"Coleoptera\",\n",
    "                                        \"lined click beetle\",                       \"Agriotes lineatus\",      \"Elateridae\",   \"Coleoptera\",\n",
    "                                            \"wheat wireworm\",                         \"Agriotes mancus\",      \"Elateridae\",   \"Coleoptera\",\n",
    "                                           \"oriental beetle\",                      \"Anomala orientalis\",    \"Scarabaeidae\",   \"Coleoptera\",\n",
    "                                           \"European chafer\",                      \"Amphimallon majale\",    \"Scarabaeidae\",   \"Coleoptera\",\n",
    "                                     \"larger shothole borer\",                           \"Scolytus mali\",   \"Curculionidae\",   \"Coleoptera\",\n",
    "                                            \"shothole borer\",                      \"Scolytus rugulosus\",   \"Curculionidae\",   \"Coleoptera\",\n",
    "                                                  \"bean fly\",                      \"Ophiomyia phaseoli\",     \"Agromyzidae\",      \"Diptera\",\n",
    "                                               \"wheat midge\",                  \"Sitodiplosis mosellana\",   \"Cecidomyiidae\",      \"Diptera\",\n",
    "                                  \"northwest coast mosquito\",                        \"Aedes aboriginis\",       \"Culicidae\",      \"Diptera\",\n",
    "                                      \"yellowfever mosquito\",                           \"Aedes aegypti\",       \"Culicidae\",      \"Diptera\",\n",
    "                                      \"Asian tiger mosquito\",                        \"Aedes albopictus\",       \"Culicidae\",      \"Diptera\",\n",
    "                                                 \"house fly\",                         \"Musca domestica\",        \"Muscidae\",      \"Diptera\",\n",
    "                                                   \"torsalo\",                      \"Dermatobia hominis\",       \"Oestridae\",      \"Diptera\",\n",
    "                                           \"olive fruit fly\",                        \"Bactrocera oleae\",     \"Tephritidae\",      \"Diptera\",\n",
    "                                          \"blueberry maggot\",                       \"Rhagoletis mendax\",     \"Tephritidae\",      \"Diptera\",\n",
    "                                              \"apple maggot\",                    \"Rhagoletis pomonella\",     \"Tephritidae\",      \"Diptera\",\n",
    "                                        \"European crane fly\",                         \"Tipula paludosa\",       \"Tipulidae\",      \"Diptera\",\n",
    "                                                   \"bed bug\",                       \"Cimex lectularius\",       \"Cimicidae\",    \"Hemiptera\",\n",
    "                                        \"Caledonia seed bug\",                       \"Nysius caledoniae\",       \"Lygaeidae\",    \"Hemiptera\",\n",
    "                                           \"citrus blackfly\",                   \"Aleurocanthus woglumi\",     \"Aleyrodidae\",    \"Hemiptera\",\n",
    "                                     \"rhododendron whitefly\",              \"Massilieurodes chittendeni\",     \"Aleyrodidae\",    \"Hemiptera\",\n",
    "                                       \"Russian wheat aphid\",                         \"Diuraphis noxia\",       \"Aphididae\",    \"Hemiptera\",\n",
    "                                           \"sugarcane aphid\",                     \"Melanaphis sacchari\",       \"Aphididae\",    \"Hemiptera\",\n",
    "                                        \"brown citrus aphid\",                     \"Toxoptera citricida\",       \"Aphididae\",    \"Hemiptera\",\n",
    "                                \"Virginiacreeper leafhopper\",                     \"Erythroneura ziczac\",    \"Cicadellidae\",    \"Hemiptera\",\n",
    "                                      \"gray lawn leafhopper\",                     \"Exitianus exitiosus\",    \"Cicadellidae\",    \"Hemiptera\",\n",
    "                                           \"rice leafhopper\",                 \"Nephotettix nigropictus\",    \"Cicadellidae\",    \"Hemiptera\",\n",
    "                                              \"calico scale\",                    \"Eulecanium cerasorum\",        \"Coccidae\",    \"Hemiptera\",\n",
    "                                       \"sugarcane delphacid\",               \"Perkinsiella saccharicida\",     \"Delphacidae\",    \"Hemiptera\",\n",
    "                                            \"oleander scale\",                        \"Aspidiotus nerii\",     \"Diaspididae\",    \"Hemiptera\",\n",
    "                                             \"juniper scale\",                     \"Carulaspis juniperi\",     \"Diaspididae\",    \"Hemiptera\",\n",
    "                                         \"Florida red scale\",                   \"Chrysomphalus aonidum\",     \"Diaspididae\",    \"Hemiptera\",\n",
    "                                                 \"tea scale\",                          \"Fiorinia theae\",     \"Diaspididae\",    \"Hemiptera\",\n",
    "                                              \"greedy scale\",                      \"Hemiberlesia rapax\",     \"Diaspididae\",    \"Hemiptera\",\n",
    "                                             \"camphor scale\",                     \"Pseudaonidia duplex\",     \"Diaspididae\",    \"Hemiptera\",\n",
    "                                         \"white peach scale\",               \"Pseudaulacaspis pentagona\",     \"Diaspididae\",    \"Hemiptera\",\n",
    "                                            \"San Jose scale\",                \"Diaspidiotus perniciosus\",     \"Diaspididae\",    \"Hemiptera\",\n",
    "                                            \"euonymus scale\",                         \"Unaspis euonymi\",     \"Diaspididae\",    \"Hemiptera\",\n",
    "                                         \"azalea bark scale\",                      \"Eriococcus azaleae\",    \"Eriococcidae\",    \"Hemiptera\",\n",
    "                                          \"grape phylloxera\",               \"Daktulosphaira vitifoliae\",   \"Phylloxeridae\",    \"Hemiptera\",\n",
    "                                         \"Comstock mealybug\",                  \"Pseudococcus comstocki\",  \"Pseudococcidae\",    \"Hemiptera\",\n",
    "                                             \"Argentine ant\",                      \"Linepithema humile\",      \"Formicidae\",  \"Hymenoptera\",\n",
    "                                               \"pharaoh ant\",                    \"Monomorium pharaonis\",      \"Formicidae\",  \"Hymenoptera\",\n",
    "                                                 \"crazy ant\",                \"Paratrechina longicornis\",      \"Formicidae\",  \"Hymenoptera\",\n",
    "                                           \"little fire ant\",                  \"Wasmannia auropunctata\",      \"Formicidae\",  \"Hymenoptera\",\n",
    "                                       \"German yellowjacket\",                       \"Vespula germanica\",        \"Vespidae\",  \"Hymenoptera\",\n",
    "                                          \"apple fruit moth\",                  \"Argyresthia conjugella\",   \"Yponomeutidae\",  \"Lepidoptera\",\n",
    "                              \"apple-and-thorn skeletonizer\",                       \"Choreutis pariana\",     \"Choreutidae\",  \"Lepidoptera\",\n",
    "                                            \"mimosa webworm\",                   \"Homadaula anisocentra\",    \"Galacticidae\",  \"Lepidoptera\",\n",
    "                                           \"juniper webworm\",                   \"Dichomeris marginella\",     \"Gelechiidae\",  \"Lepidoptera\",\n",
    "                                               \"winter moth\",                     \"Operophtera brumata\",     \"Geometridae\",  \"Lepidoptera\",\n",
    "                                               \"cactus moth\",                   \"Cactoblastis cactorum\",       \"Pyralidae\",  \"Lepidoptera\",\n",
    "                                             \"honeydew moth\",                  \"Cryptoblabes gnidiella\",       \"Pyralidae\",  \"Lepidoptera\",\n",
    "                                          \"cynthia silkmoth\",                           \"Samia cynthia\",     \"Saturniidae\",  \"Lepidoptera\",\n",
    "                                    \"pink hibiscus mealybug\",                \"Maconellicoccus hirsutus\",  \"Pseudococcidae\",    \"Hemiptera\",\n",
    "                                        \"strawberry tortrix\",                       \"Acleris comariana\",     \"Tortricidae\",  \"Lepidoptera\",\n",
    "                                           \"wheat stink bug\",                          \"Aelia rostrata\",    \"Pentatomidae\",    \"Hemiptera\",\n",
    "                                     \"dusky wireworm beetle\",                       \"Agriotes obscurus\",      \"Elateridae\",   \"Coleoptera\",\n",
    "                                       \"common click beetle\",                       \"Agriotes sputator\",      \"Elateridae\",   \"Coleoptera\",\n",
    "                                   \"japanese rice leafminer\",                         \"Agromyza oryzae\",     \"Agromyzidae\",      \"Diptera\",\n",
    "                                            \"amnemus weevil\",              \"Amnemus quadrituberculatus\",   \"Curculionidae\",   \"Coleoptera\",\n",
    "                                      \"cotton flower weevil\",                        \"Amorphoidea lata\",   \"Curculionidae\",   \"Coleoptera\",\n",
    "                                        \"wheat grain beetle\",                     \"Anisoplia austriaca\",    \"Scarabaeidae\",   \"Coleoptera\",\n",
    "                                      \"apple blossom weevil\",                      \"Anthonomus pomorum\",   \"Curculionidae\",   \"Coleoptera\",\n",
    "                                    \"large flax flea beetle\",                     \"Aphthona euphorbiae\",   \"Chrysomelidae\",   \"Coleoptera\",\n",
    "                                          \"melon stem borer\",                      \"Apomecyna binubila\",    \"Cerambycidae\",   \"Coleoptera\",\n",
    "                              \"black-veined white butterfly\",                         \"Aporia crataegi\",        \"Pieridae\",  \"Lepidoptera\",\n",
    "                                \"turnip sawfly, beet sawfly\",                     \"Athalia rosae rosae\",  \"Tenthredinidae\",  \"Hymenoptera\",\n",
    "                                      \"pigmy mangold beetle\",                       \"Atomaria linearis\",  \"Cryptophagidae\",   \"Coleoptera\",\n",
    "                                           \"leaf-cutter ant\",                            \"Atta sexdens\",      \"Formicidae\",  \"Hymenoptera\",\n",
    "                                      \"plain pumpkin beetle\",                 \"Aulacophora abdominalis\",   \"Chrysomelidae\",   \"Coleoptera\",\n",
    "                                            \"pumpkin beetle\",                     \"Aulacophora hilaris\",   \"Chrysomelidae\",   \"Coleoptera\",\n",
    "                                             \"silver Y moth\",                        \"Autographa gamma\",       \"Noctuidae\",  \"Lepidoptera\",\n",
    "                                            \"Tortricid moth\",                          \"Cydia fabivora\",     \"Tortricidae\",  \"Lepidoptera\",\n",
    "                                       \"Japanese orange fly\",                    \"Bactrocera tsuneonis\",     \"Tephritidae\",      \"Diptera\",\n",
    "                                           \"cucurbit beetle\",                     \"Diabrotica speciosa\",   \"Chrysomelidae\",   \"Coleoptera\",\n",
    "                                                \"rice hispa\",                     \"Dicladispa armigera\",   \"Chrysomelidae\",   \"Coleoptera\",\n",
    "                                   \"pacific rice chinch bug\",                  \"Dimorphopterus pilosus\",       \"Blissidae\",    \"Hemiptera\",\n",
    "                                        \"orange blossom bug\",                  \"Dionconotus cruentatus\",         \"Miridae\",    \"Hemiptera\",\n",
    "                                              \"red bollworm\",                     \"Diparopsis castanea\",       \"Noctuidae\",  \"Lepidoptera\",\n",
    "                                   \"peruvian cotton stainer\",                    \"Dysdercus peruvianus\",   \"Pyrrhocoridae\",    \"Hemiptera\",\n",
    "                                            \"spiny boliworm\",                         \"Earias insulana\",       \"Noctuidae\",  \"Lepidoptera\",\n",
    "                                      \"indian cotton jassid\",                       \"Amrasca biguttula\",    \"Cicadellidae\",    \"Hemiptera\",\n",
    "                                             \"cotton jassid\",                       \"Jacobiasca lybica\",    \"Cicadellidae\",    \"Hemiptera\",\n",
    "                                             \"potato weevil\",                      \"Epicaerus cognatus\",   \"Curculionidae\",   \"Coleoptera\",\n",
    "                           \"South African carnation tortrix\",                \"Epichoristodes acerbella\",     \"Tortricidae\",  \"Lepidoptera\",\n",
    "                                     \"melon ladydird beetle\",                 \"Henosepilachna elaterii\",   \"Coccinellidae\",   \"Coleoptera\",\n",
    "                            \"South American ladybird beetle\",                     \"Epilachna paenulata\",   \"Coccinellidae\",   \"Coleoptera\",\n",
    "                                         \"celery leaf miner\",                         \"Euleia heraclei\",     \"Tephritidae\",      \"Diptera\",\n",
    "                                 \"european grape berry moth\",                   \"Eupoecilia ambiguella\",     \"Tortricidae\",  \"Lepidoptera\",\n",
    "                                               \"cabbage bug\",                       \"Eurydema oleracea\",    \"Pentatomidae\",    \"Hemiptera\",\n",
    "                                         \"cotton root borer\",              \"Eutinobothrus brasiliensis\",   \"Curculionidae\",   \"Coleoptera\",\n",
    "                                               \"turnip moth\",                         \"Agrotis segetum\",       \"Noctuidae\",  \"Lepidoptera\",\n",
    "                                     \"Chilean flower thrips\",                 \"Frankliniella australis\",       \"Thripidae\", \"Thysanoptera\",\n",
    "                                        \"stone fruit weevil\",                 \"Anthonomus rectirostris\",   \"Curculionidae\",   \"Coleoptera\",\n",
    "                                               \"lappet moth\",                 \"Gastropacha quercifolia\",   \"Lasiocampidae\",  \"Lepidoptera\",\n",
    "                                    \"strawberry leaf beetle\",                  \"Neogalerucella tenella\",   \"Chrysomelidae\",   \"Coleoptera\",\n",
    "                                                 \"wheat bug\",                          \"Nysius huttoni\",       \"Lygaeidae\",    \"Hemiptera\",\n",
    "                                            \"rutherglen bug\",                          \"Nysius vinitor\",       \"Lygaeidae\",    \"Hemiptera\",\n",
    "                                        \"comb-clawed beetle\",                    \"Omophlus lepturoides\",   \"Tenebrionidae\",   \"Coleoptera\",\n",
    "                                \"Australian citrus whitefly\",                     \"Orchamoplatus citri\",     \"Aleyrodidae\",    \"Hemiptera\",\n",
    "                                           \"croton whitefly\",               \"Orchamoplatus mammaeferus\",     \"Aleyrodidae\",    \"Hemiptera\",\n",
    "                                     \"asian rice gall midge\",                         \"Orseolia oryzee\",   \"Cecidomyiidae\",      \"Diptera\",\n",
    "                                            \"cottonseed bug\",                \"Oxycarenus hyalinipennis\",       \"Lygaeidae\",    \"Hemiptera\",\n",
    "                                     \"Asian rice gall midge\",                         \"Orseolia oryzae\",   \"Cecidomyiidae\",      \"Diptera\",\n",
    "                                          \"pine beauty moth\",                         \"Panolis flammea\",       \"Noctuidae\",  \"Lepidoptera\",\n",
    "                                          \"lime swallowtail\",                        \"Papilio demoleus\",    \"Papilionidae\",  \"Lepidoptera\",\n",
    "                                       \"winter wheat scarab\",                     \"Asiopertha nazarena\",    \"Scarabaeidae\",   \"Coleoptera\",\n",
    "                                \"striped turnip flea beetle\",                     \"Phyllotreta nemorum\",   \"Chrysomelidae\",   \"Coleoptera\",\n",
    "                                            \"lucerne beetle\",                    \"Gonioctena fornicata\",   \"Chrysomelidae\",   \"Coleoptera\",\n",
    "                                        \"cabbage leaf miner\",                       \"Phytomyza rufipes\",     \"Agromyzidae\",      \"Diptera\",\n",
    "                                     \"large white butterfly\",                        \"Pieris brassicae\",        \"Pieridae\",  \"Lepidoptera\",\n",
    "                                                  \"beet bug\",                        \"Piesma quadratum\",     \"Piesmatidae\",    \"Hemiptera\",\n",
    "                                             \"asparagus fly\",               \"Plioreocepta poeciloptera\",     \"Tephritidae\",      \"Diptera\",\n",
    "                                              \"apple caspid\",                  \"Plesiocoris rugicollis\",         \"Miridae\",    \"Hemiptera\",\n",
    "                                     \"Andean potato weevils\",                       \"Premnotrypes spp.\",   \"Curculionidae\",   \"Coleoptera\",\n",
    "                                          \"small spruce fly\",                    \"Pristiphora abietina\",  \"Tenthredinidae\",  \"Hymenoptera\",\n",
    "                                                    \"thrips\",                             \"Thrips pini\",       \"Thripidae\", \"Thysanoptera\",\n",
    "                                         \"maize leaf weevil\",                  \"Tanymecus dilaticollis\",   \"Curculionidae\",   \"Coleoptera\",\n",
    "                                            \"cabbage thrips\",                      \"Thrips angusticeps\",       \"Thripidae\", \"Thysanoptera\",\n",
    "                                           \"marsh crane fly\",                         \"Tipula oleracea\",       \"Tipulidae\",      \"Diptera\",\n",
    "                                  \"European oak leaf roller\",                        \"Tortrix viridana\",     \"Tortricidae\",  \"Lepidoptera\",\n",
    "                                         \"yellow stem borer\",                  \"Scirpophaga incertulas\",       \"Crambidae\",  \"Lepidoptera\",\n",
    "                                           \"arrowhead scale\",                      \"Unaspis yanonensis\",     \"Diaspididae\",    \"Hemiptera\",\n",
    "                                           \"Oriental hornet\",                        \"Vespa orientalis\",        \"Vespidae\",  \"Hymenoptera\",\n",
    "                                         \"spotted flesh fly\",                   \"Wohlfahrtia magnifica\",   \"Sarcophagidae\",      \"Diptera\",\n",
    "                                \"brown marmorated stink bug\",                       \"Halyomorpha halys\",    \"Pentatomidae\",    \"Hemiptera\",\n",
    "                                               \"crane flies\",                             \"Tipula spp.\",       \"Tipulidae\",      \"Diptera\",\n",
    "                                         \"small hive beetle\",                          \"Aethina tumida\",     \"Nitidulidae\",   \"Coleoptera\",\n",
    "                                 \"Chinese longhorned beetle\",                  \"Trichoferus campestris\",    \"Cerambycidae\",   \"Coleoptera\",\n",
    "                                       \"spotted stalk borer\",                         \"Chilo partellus\",       \"Crambidae\",  \"Lepidoptera\",\n",
    "                              \"Neotropical soybean budborer\",                     \"Crocidosema aporema\",     \"Tortricidae\",  \"Lepidoptera\",\n",
    "                                             \"apple tortrix\",                  \"Archips fuscocupreanus\",     \"Tortricidae\",  \"Lepidoptera\",\n",
    "                                 \"barred fruit-tree tortrix\",                       \"Pandemis cerasana\",     \"Tortricidae\",  \"Lepidoptera\",\n",
    "                                               \"musk beetle\",                         \"Aromia moschata\",    \"Cerambycidae\",   \"Coleoptera\",\n",
    "                                          \"kulsi teak borer\",                     \"Stromatium barbatum\",    \"Cerambycidae\",   \"Coleoptera\",\n",
    "                                             \"tomato looper\",                  \"Chrysodeixis chalcites\",       \"Noctuidae\",  \"Lepidoptera\",\n",
    "                                               \"bark beetle\",                     \"Hylurgops palliatus\",   \"Curculionidae\",   \"Coleoptera\",\n",
    "                                    \"large yellow underwing\",                          \"Noctua pronuba\",       \"Noctuidae\",  \"Lepidoptera\",\n",
    "                                        \"cherry bark tortix\",                     \"Enarmonia formosana\",     \"Tortricidae\",  \"Lepidoptera\",\n",
    "                                         \"apple ermine moth\",                   \"Yponomeuta malinellus\",   \"Yponomeutidae\",  \"Lepidoptera\",\n",
    "                                           \"apple pith moth\",                        \"Blastodacna atra\",    \"Agonoxenidae\",  \"Lepidoptera\",\n",
    "                                   \"two-toothed pine beetle\",                   \"Pityogenes bidentatus\",   \"Curculionidae\",   \"Coleoptera\",\n",
    "                                              \"melon thrips\",                            \"Thrips palmi\",       \"Thripidae\", \"Thysanoptera\",\n",
    "                                               \"boll weevil\",                      \"Anthonomus grandis\",   \"Curculionidae\",   \"Coleoptera\",\n",
    "                                      \"viburnum leaf beetle\",                       \"Pyrrhalta viburni\",   \"Chrysomelidae\",   \"Coleoptera\",\n",
    "                          \"cotton leafworm, tobacco cutworm\",                       \"Spodoptera litura\",       \"Noctuidae\",  \"Lepidoptera\",\n",
    "                       \"old world bollworm, cotton bollworm\",                    \"Helicoverpa armigera\",       \"Noctuidae\",  \"Lepidoptera\",\n",
    "                                             \"soybean aphid\",                          \"Aphis glycines\",       \"Aphididae\",    \"Hemiptera\",\n",
    "                                        \"cherry ermine moth\",                     \"Yponomeuta padellus\",   \"Yponomeutidae\",  \"Lepidoptera\",\n",
    "                                        \"camphor shot borer\",                       \"Cnestus mutilatus\",   \"Curculionidae\",   \"Coleoptera\",\n",
    "                                        \"mottled umber moth\",                      \"Erannis defoliaria\",     \"Geometridae\",  \"Lepidoptera\",\n",
    "                                        \"long-horned beetle\", \"Xylotrechus (Rusticoclytus) pantherinus\",    \"Cerambycidae\",   \"Coleoptera\",\n",
    "                                     \"European mole cricket\",                 \"Gryllotalpa gryllotalpa\",  \"Gryllotalpidae\",   \"Orthoptera\",\n",
    "                                              \"jewel beetle\",                     \"Agrilus sulcicollis\",     \"Buprestidae\",   \"Coleoptera\",\n",
    "                                   \"black fir sawyer beetle\",                    \"Monochamus urussovii\",    \"Cerambycidae\",   \"Coleoptera\",\n",
    "                                         \"alder leaf beetle\",                    \"Agelastica alni alni\",   \"Chrysomelidae\",   \"Coleoptera\",\n",
    "                                  \"fruit-tree pinhole borer\",                    \"Xyleborinus saxeseni\",   \"Curculionidae\",   \"Coleoptera\",\n",
    "                                       \"silverleaf whitefly\",                    \"Bemisia argentifolii\",     \"Aleyrodidae\",    \"Hemiptera\",\n",
    "                                                \"paper wasp\",                       \"Polistes dominula\",        \"Vespidae\",  \"Hymenoptera\",\n",
    "                                   \"small brown planthopper\",                  \"Laodelphax striatellus\",     \"Delphacidae\",    \"Hemiptera\",\n",
    "                                          \"Asian gypsy moth\",               \"Lymantria dispar asiatica\",    \"Lymantriidae\",  \"Lepidoptera\",\n",
    "                                      \"American palm weevil\",                  \"Rhynchophorus palmarum\",   \"Curculionidae\",   \"Coleoptera\",\n",
    "                               \"Central American tuber moth\",                        \"Tecia solanivora\",     \"Gelechiidae\",  \"Lepidoptera\",\n",
    "                                      \"Oriental leaf beetle\",              \"Agelastica alni orientalis\",   \"Chrysomelidae\",   \"Coleoptera\",\n",
    "                                  \"horse chestnut leafminer\",                     \"Cameraria ohridella\",  \"Gracillariidae\",  \"Lepidoptera\",\n",
    "                                       \"Asian conifer borer\",                   \"Stictoleptura dichroa\",    \"Cerambycidae\",   \"Coleoptera\",\n",
    "                               \"Siberian white-toothed moth\",                   \"Dasychira albodentata\",    \"Lymantriidae\",  \"Lepidoptera\",\n",
    "                                    \"flower longhorn beetle\",                \"Dokhtouroffia baeckmanni\",    \"Cerambycidae\",   \"Coleoptera\",\n",
    "                                       \"Jacobson's spanworm\",                       \"Erannis jacobsoni\",     \"Geometridae\",  \"Lepidoptera\",\n",
    "                                 \"Turkestan brown-tail moth\",                    \"Euproctis karghalica\",    \"Lymantriidae\",  \"Lepidoptera\",\n",
    "                                          \"big larch weevil\",                    \"Hylobius albosparsus\",   \"Curculionidae\",   \"Coleoptera\",\n",
    "                                         \"Hauser's engraver\",                             \"Ips hauseri\",   \"Curculionidae\",   \"Coleoptera\",\n",
    "                                 \"mountain tent caterpillar\",                    \"Malacosoma parallela\",   \"Lasiocampidae\",  \"Lepidoptera\",\n",
    "                                  \"Siberian speckled sawyer\",                  \"Monochamus impluviatus\",    \"Cerambycidae\",   \"Coleoptera\",\n",
    "                                        \"spiral bark beetle\",                 \"Pityogenes spessivtsevi\",   \"Curculionidae\",   \"Coleoptera\",\n",
    "                                       \"oak ambrosia beetle\",                    \"Platypus quercivorus\",   \"Curculionidae\",   \"Coleoptera\",\n",
    "                                      \"larch sapwood beetle\",                      \"Scolytus morawitzi\",   \"Curculionidae\",   \"Coleoptera\",\n",
    "                                    \"banded elm bark beetle\",                     \"Scolytus schevyrewi\",   \"Curculionidae\",   \"Coleoptera\",\n",
    "                                     \"Japanese giant weevil\",                         \"Sipalinus gigas\",   \"Curculionidae\",   \"Coleoptera\",\n",
    "                                           \"larch hawk moth\",                            \"Sphinx morio\",      \"Sphingidae\",  \"Lepidoptera\",\n",
    "                                  \"fine-horned spruce borer\",                  \"Tetropium gracilicorne\",    \"Cerambycidae\",   \"Coleoptera\",\n",
    "                                  \"seven-river spruce borer\",                   \"Tetropium staudingeri\",    \"Cerambycidae\",   \"Coleoptera\",\n",
    "                                         \"pine shoot beetle\",                       \"Tomicus destruens\",   \"Curculionidae\",   \"Coleoptera\",\n",
    "                                               \"Tremex wasp\",                      \"Tremex fuscicornis\",       \"Siricidae\",  \"Hymenoptera\",\n",
    "                                    \"redbay ambrosia beetle\",                     \"Xyleborus glabratus\",   \"Curculionidae\",   \"Coleoptera\",\n",
    "                                           \"ambrosia beetle\",                       \"Xyleborus similis\",   \"Curculionidae\",   \"Coleoptera\",\n",
    "                                   \"large larch bark beetle\",                             \"Ips cembrae\",   \"Curculionidae\",   \"Coleoptera\",\n",
    "                                           \"peach fruit fly\",                       \"Bactrocera zonata\",     \"Tephritidae\",      \"Diptera\",\n",
    "                                           \"Natal fruit fly\",                          \"Ceratitis rosa\",     \"Tephritidae\",      \"Diptera\",\n",
    "                                      \"African black beetle\",                     \"Heteronychus arator\",    \"Scarabaeidae\",   \"Coleoptera\",\n",
    "                                      \"Japanese maple scale\",                 \"Lopholeucaspis japonica\",     \"Diaspididae\",    \"Hemiptera\",\n",
    "                                       \"whitefringed weevil\",                     \"Naupactus leucoloma\",   \"Curculionidae\",   \"Coleoptera\",\n",
    "                                             \"chilli thrips\",                   \"Scirtothrips dorsalis\",       \"Thripidae\", \"Thysanoptera\",\n",
    "                                     \"western corn rootworm\",          \"Diabrotica virgifera virgifera\",   \"Chrysomelidae\",   \"Coleoptera\",\n",
    "                                  \"large fruit-tree tortrix\",                          \"Archips podana\",     \"Tortricidae\",  \"Lepidoptera\",\n",
    "                                               \"swede midge\",                    \"Contarinia nasturtii\",   \"Cecidomyiidae\",      \"Diptera\",\n",
    "                                     \"euonymus leaf notcher\",                          \"Pryeria sinica\",      \"Zygaenidae\",  \"Lepidoptera\",\n",
    "                                      \"pine cone cerambycid\",               \"Chlorophorus strobilicola\",    \"Cerambycidae\",   \"Coleoptera\",\n",
    "                                          \"lobate lac scale\",             \"Paratachardina pseudolobata\",       \"Kerriidae\",    \"Hemiptera\",\n",
    "                               \"polyphagous shot hole borer\",                   \"Euwallacea fornicatus\",   \"Curculionidae\",   \"Coleoptera\",\n",
    "                                 \"European cherry fruit fly\",                       \"Rhagoletis cerasi\",     \"Tephritidae\",      \"Diptera\",\n",
    "                                             \"Siberian moth\",                   \"Dendrolimus sibiricus\",   \"Lasiocampidae\",  \"Lepidoptera\",\n",
    "                                  \"apple variegated Tortrix\",                      \"Archips xylosteana\",     \"Tortricidae\",  \"Lepidoptera\",\n",
    "                                            \"casuarina moth\",                        \"Lymantria xylina\",    \"Lymantriidae\",  \"Lepidoptera\",\n",
    "                                        \"Japanese wax scale\",                   \"Ceroplastes japonicus\",        \"Coccidae\",    \"Hemiptera\",\n",
    "                                    \"oak processionary moth\",               \"Thaumetopoea processionea\",    \"Notodontidae\",  \"Lepidoptera\",\n",
    "                                             \"vine mealybug\",                       \"Planococcus ficus\",  \"Pseudococcidae\",    \"Hemiptera\",\n",
    "                                                \"bumble bee\",                        \"Bombus impatiens\",          \"Apidae\",  \"Hymenoptera\",\n",
    "                                           \"ambrosia beetle\",                      \"Euwallacea validus\",   \"Curculionidae\",   \"Coleoptera\",\n",
    "                                    \"cycad aulacaspis scale\",                   \"Aulacaspis yasumatsui\",     \"Diaspididae\",    \"Hemiptera\",\n",
    "                                             \"fig wax scale\",                       \"Ceroplastes rusci\",        \"Coccidae\",    \"Hemiptera\",\n",
    "                                        \"banana rust thrips\",              \"Chaetanaphothrips leeuweni\",       \"Thripidae\", \"Thysanoptera\",\n",
    "                                           \"tortoise beetle\",                   \"Chelymorpha cribraria\",   \"Chrysomelidae\",   \"Coleoptera\",\n",
    "                                        \"nettle caterpillar\",                        \"Darna pallivitta\",     \"Limacodidae\",  \"Lepidoptera\",\n",
    "                                     \"Diaprepes root weevil\",                   \"Diaprepes abbreviatus\",   \"Curculionidae\",   \"Coleoptera\",\n",
    "                                  \"Mexican bromeliad weevil\",                    \"Metamasius callizona\",   \"Curculionidae\",   \"Coleoptera\",\n",
    "                                          \"Sri Lanka weevil\",    \"Myllocerus undecimpustulatus undatus\",   \"Curculionidae\",   \"Coleoptera\",\n",
    "                                              \"tree termite\",                   \"Nasutitermes costalis\",      \"Termitidae\",     \"Isoptera\",\n",
    "                                             \"armored scale\",              \"Oceanaspidiotus araucariae\",     \"Diaspididae\",    \"Hemiptera\",\n",
    "                                                  \"fig wasp\",               \"Parapristina verticillata\",       \"Agaonidae\",  \"Hymenoptera\",\n",
    "                                         \"black vine thrips\",                     \"Retithrips syriacus\",       \"Thripidae\", \"Thysanoptera\",\n",
    "                                          \"tomato leafminer\",                           \"Tuta absoluta\",     \"Gelechiidae\",  \"Lepidoptera\",\n",
    "                                                 \"ghost ant\",                 \"Tapinoma melanocephalum\",      \"Formicidae\",  \"Hymenoptera\",\n",
    "                                        \"European elm scale\",                       \"Gossyparia spuria\",    \"Eriococcidae\",    \"Hemiptera\",\n",
    "                                        \"walnut twig beetle\",                 \"Pityophthorus juglandis\",   \"Curculionidae\",   \"Coleoptera\",\n",
    "                                   \"West Indian cane weevil\",                   \"Metamasius hemipterus\",   \"Curculionidae\",   \"Coleoptera\",\n",
    "                                               \"peony scale\",                   \"Pseudaonidia paeoniae\",     \"Diaspididae\",    \"Hemiptera\",\n",
    "                                          \"Indian wax scale\",                   \"Ceroplastes ceriferus\",        \"Coccidae\",    \"Hemiptera\",\n",
    "                                       \"bermuda cedar scale\",                       \"Carulaspis minima\",     \"Diaspididae\",    \"Hemiptera\",\n",
    "                                           \"ambrosia beetle\",                  \"Dryoxylon onoharaensis\",   \"Curculionidae\",   \"Coleoptera\",\n",
    "                                           \"red palm weevil\",               \"Rhynchophorus ferrugineus\",   \"Curculionidae\",   \"Coleoptera\",\n",
    "                                          \"Siricid woodwasp\",                   \"Eriotremex formosanus\",       \"Siricidae\",  \"Hymenoptera\",\n",
    "                                       \"pin-tailed pondhawk\",                       \"Erythemis plebeja\",    \"Libellulidae\",      \"Odonata\",\n",
    "                                           \"scarlet skimmer\",          \"Crocothemis servilia mariannae\",    \"Libellulidae\",      \"Odonata\",\n",
    "                                              \"Agaonid wasp\",                       \"Eupristina masoni\",       \"Agaonidae\",  \"Hymenoptera\",\n",
    "                                        \"spot-tailed dasher\",                    \"Micrathyria aequalis\",    \"Libellulidae\",      \"Odonata\",\n",
    "                                      \"three-striped dasher\",                      \"Micrathyria didyma\",    \"Libellulidae\",      \"Odonata\",\n",
    "                                               \"cactus moth\",                        \"Ozamia lucidalis\",       \"Pyralidae\",  \"Lepidoptera\",\n",
    "                                          \"white-footed ant\",                    \"Technomyrmex albipes\",      \"Formicidae\",  \"Hymenoptera\",\n",
    "                                                 \"wood wasp\",                          \"Urocerus gigas\",       \"Siricidae\",  \"Hymenoptera\",\n",
    "                                \"glassy-winged sharpshooter\",                 \"Homalodisca vitripennis\",    \"Cicadellidae\",    \"Hemiptera\",\n",
    "                                        \"citrus fruit borer\",               \"Gymnandrosoma aurantianum\",     \"Tortricidae\",  \"Lepidoptera\",\n",
    "                                 \"variegated golden tortrix\",                     \"Archips xylosteanus\",     \"Tortricidae\",  \"Lepidoptera\",\n",
    "                                        \"tomato fruit borer\",               \"Neoleucinodes elegantalis\",       \"Crambidae\",  \"Lepidoptera\",\n",
    "                                \"two-banded Japanese weevil\",               \"Callirhopalus bifasciatus\",   \"Curculionidae\",   \"Coleoptera\",\n",
    "                                       \"hibiscus snow scale\",                     \"Pinnaspis strachani\",     \"Diaspididae\",    \"Hemiptera\",\n",
    "                                     \"white prunicola scale\",               \"Pseudaulacaspis prunicola\",     \"Diaspididae\",    \"Hemiptera\",\n",
    "                                                 \"palm moth\",                      \"Paysandisia archon\",      \"Castniidae\",  \"Lepidoptera\",\n",
    "                                                 \"kudzu bug\",                     \"Megacopta cribraria\",     \"Plataspidae\",    \"Hemiptera\",\n",
    "                                         \"Allium Leaf Miner\",                     \"Napomyza gymnostoma\",     \"Agromyzidae\",      \"Diptera\",\n",
    "                                           \"ambrosia beetle\",                    \"Megaplatypus mutatus\",   \"Curculionidae\",   \"Coleoptera\",\n",
    "                                            \"Tortricid moth\",                \"Cryptophlebia leucotreta\",     \"Tortricidae\",  \"Lepidoptera\",\n",
    "                                           \"plum fruit moth\",                         \"Cydia funebrana\",     \"Tortricidae\",  \"Lepidoptera\",\n",
    "                                     \"goldspotted oak borer\",            \"Agrilus coxalis auroguttatus\",     \"Buprestidae\",   \"Coleoptera\",\n",
    "                                   \"spotted wing drosophila\",                      \"Drosophila suzukii\",   \"Drosophilidae\",      \"Diptera\",\n",
    "                               \"brown fir longhorned beetle\",                 \"Callidiellum villosulum\",    \"Cerambycidae\",   \"Coleoptera\",\n",
    "                                           \"tawny crazy ant\",                        \"Nylanderia fulva\",      \"Formicidae\",  \"Hymenoptera\",\n",
    "                                  \"Asian rock pool mosquito\",                         \"Aedes japonicus\",       \"Culicidae\",      \"Diptera\",\n",
    "                                                    \"mantid\",                       \"Tenodera sinensis\",        \"Mantidae\",     \"Mantodea\",\n",
    "                                       \"Japanese gypsy moth\",               \"Lymantria dispar japonica\",    \"Lymantriidae\",  \"Lepidoptera\",\n",
    "                                           \"ambrosia beetle\",             \"Cyclorhipidion pelliculosum\",   \"Curculionidae\",   \"Coleoptera\",\n",
    "                                           \"ambrosia beetle\",                       \"Anisandrus maiche\",   \"Curculionidae\",   \"Coleoptera\",\n",
    "                                         \"Cherry Fruit Moth\",                   \"Argyresthia pruniella\",   \"Yponomeutidae\",  \"Lepidoptera\",\n",
    "                                      \"American Palm Cixiid\",                        \"Haplaxius crudus\",        \"Cixiidae\",    \"Hemiptera\",\n",
    "                                        \"Okinawa Gypsy Moth\",                     \"Lymantria albescens\",    \"Lymantriidae\",  \"Lepidoptera\",\n",
    "                                   \"White-winged Gypsy Moth\",                      \"Lymantria postalba\",    \"Lymantriidae\",  \"Lepidoptera\",\n",
    "                                       \"Hokkaido Gypsy Moth\",                       \"Lymantria umbrosa\",    \"Lymantriidae\",  \"Lepidoptera\",\n",
    "                             \"deep mountain longhorn beetle\",                      \"Neocerambyx raddei\",    \"Cerambycidae\",   \"Coleoptera\",\n",
    "                                           \"oriental beetle\",                      \"Exomala orientalis\",    \"Scarabaeidae\",   \"Coleoptera\",\n",
    "                                        \"spotted lanternfly\",                      \"Lycorma delicatula\",      \"Fulgoridae\",    \"Hemiptera\",\n",
    "                                           \"ambrosia beetle\",                  \"Ambrosiophilus atratus\",   \"Curculionidae\",   \"Coleoptera\",\n",
    "                                           \"ambrosia beetle\",                 \"Cyclorhipidion bodoanum\",   \"Curculionidae\",   \"Coleoptera\",\n",
    "                                    \"crapemyrtle bark scale\",            \"Acanthococcus lagerstroemiae\",    \"Eriococcidae\",    \"Hemiptera\",\n",
    "                                           \"Longhorn beetle\",                        \"Aeolesthes sarta\",    \"Cerambycidae\",   \"Coleoptera\",\n",
    "                                         \"crapemyrtle aphid\",              \"Tinocallis kahawaluokalani\",       \"Aphididae\",    \"Hemiptera\",\n",
    "                                         \"Asian walnut moth\",                       \"Garella musculana\",         \"Nolidae\",  \"Lepidoptera\"\n",
    "               )\n"
   ]
  },
  {
   "cell_type": "code",
   "execution_count": 385,
   "metadata": {},
   "outputs": [
    {
     "data": {
      "text/html": [
       "<table>\n",
       "<caption>A tibble: 6 × 3</caption>\n",
       "<thead>\n",
       "\t<tr><th scope=col>species_name</th><th scope=col>source</th><th scope=col>source_id</th></tr>\n",
       "\t<tr><th scope=col>&lt;chr&gt;</th><th scope=col>&lt;chr&gt;</th><th scope=col>&lt;chr&gt;</th></tr>\n",
       "</thead>\n",
       "<tbody>\n",
       "\t<tr><td>Adoretus sinicus          </td><td>https://www.invasive.org/species/insects.cfm</td><td>ciseh</td></tr>\n",
       "\t<tr><td>Oryctes rhinoceros        </td><td>https://www.invasive.org/species/insects.cfm</td><td>ciseh</td></tr>\n",
       "\t<tr><td>Siphoninus phillyreae     </td><td>https://www.invasive.org/species/insects.cfm</td><td>ciseh</td></tr>\n",
       "\t<tr><td>Urocerus gigas flavicornis</td><td>https://www.invasive.org/species/insects.cfm</td><td>ciseh</td></tr>\n",
       "\t<tr><td>Dendroctonus frontalis    </td><td>https://www.invasive.org/species/insects.cfm</td><td>ciseh</td></tr>\n",
       "\t<tr><td>Dendroctonus ponderosae   </td><td>https://www.invasive.org/species/insects.cfm</td><td>ciseh</td></tr>\n",
       "</tbody>\n",
       "</table>\n"
      ],
      "text/latex": [
       "A tibble: 6 × 3\n",
       "\\begin{tabular}{lll}\n",
       " species\\_name & source & source\\_id\\\\\n",
       " <chr> & <chr> & <chr>\\\\\n",
       "\\hline\n",
       "\t Adoretus sinicus           & https://www.invasive.org/species/insects.cfm & ciseh\\\\\n",
       "\t Oryctes rhinoceros         & https://www.invasive.org/species/insects.cfm & ciseh\\\\\n",
       "\t Siphoninus phillyreae      & https://www.invasive.org/species/insects.cfm & ciseh\\\\\n",
       "\t Urocerus gigas flavicornis & https://www.invasive.org/species/insects.cfm & ciseh\\\\\n",
       "\t Dendroctonus frontalis     & https://www.invasive.org/species/insects.cfm & ciseh\\\\\n",
       "\t Dendroctonus ponderosae    & https://www.invasive.org/species/insects.cfm & ciseh\\\\\n",
       "\\end{tabular}\n"
      ],
      "text/markdown": [
       "\n",
       "A tibble: 6 × 3\n",
       "\n",
       "| species_name &lt;chr&gt; | source &lt;chr&gt; | source_id &lt;chr&gt; |\n",
       "|---|---|---|\n",
       "| Adoretus sinicus           | https://www.invasive.org/species/insects.cfm | ciseh |\n",
       "| Oryctes rhinoceros         | https://www.invasive.org/species/insects.cfm | ciseh |\n",
       "| Siphoninus phillyreae      | https://www.invasive.org/species/insects.cfm | ciseh |\n",
       "| Urocerus gigas flavicornis | https://www.invasive.org/species/insects.cfm | ciseh |\n",
       "| Dendroctonus frontalis     | https://www.invasive.org/species/insects.cfm | ciseh |\n",
       "| Dendroctonus ponderosae    | https://www.invasive.org/species/insects.cfm | ciseh |\n",
       "\n"
      ],
      "text/plain": [
       "  species_name               source                                      \n",
       "1 Adoretus sinicus           https://www.invasive.org/species/insects.cfm\n",
       "2 Oryctes rhinoceros         https://www.invasive.org/species/insects.cfm\n",
       "3 Siphoninus phillyreae      https://www.invasive.org/species/insects.cfm\n",
       "4 Urocerus gigas flavicornis https://www.invasive.org/species/insects.cfm\n",
       "5 Dendroctonus frontalis     https://www.invasive.org/species/insects.cfm\n",
       "6 Dendroctonus ponderosae    https://www.invasive.org/species/insects.cfm\n",
       "  source_id\n",
       "1 ciseh    \n",
       "2 ciseh    \n",
       "3 ciseh    \n",
       "4 ciseh    \n",
       "5 ciseh    \n",
       "6 ciseh    "
      ]
     },
     "metadata": {},
     "output_type": "display_data"
    }
   ],
   "source": [
    "invasive_na <- invasive_na %>% \n",
    "    rename(common_name = Subject.Name,\n",
    "           species_name = Scientific.Name,\n",
    "           family_name = Family,\n",
    "           order_name = Order) %>% \n",
    "    mutate(source = \"https://www.invasive.org/species/insects.cfm\",\n",
    "           source_id = \"ciseh\") %>% \n",
    "    select(species_name, source, source_id)\n",
    "\n",
    "\n",
    "head(invasive_na)"
   ]
  },
  {
   "cell_type": "markdown",
   "metadata": {},
   "source": [
    "Asia doesn't seem to have a central database, so I'm using [Wikipedia's list](https://en.wikipedia.org/wiki/List_of_invasive_species_in_Asia#Insects), which pulls from a few sources:\n",
    "\n",
    "* Invasive alien species in Southeast Asia Archived 2008-12-30 at the Wayback Machine. MacKinnon, John R. Asean Biodiversity, October–December 2002. Retrieved on 2008-11-28.\n",
    "* Alien species recognized to be established in Japan or found in the Japanese wild. Japan Ministry of the Environment. 2004-10-27. Retrieved on 2008-11-28.\n",
    "* The Status of Alien Invasive Species in Bangladeshand their Impact on the Ecosystems[permanent dead link]. World Conservation Union. Retrieved on 2009-04-09.\n",
    "* \"Gambusia affinis alien range. Global Invasive Species Database. Retrieved on 2009-04-09.\n",
    "\n",
    "Many are likely to be duplicates, but I'm including them for thoroughness. I used datapasta again to copy this list from Wikipedia. Scraped: 4-24-20"
   ]
  },
  {
   "cell_type": "code",
   "execution_count": 386,
   "metadata": {},
   "outputs": [],
   "source": [
    "invasive_asia <- c(\"Agriosphodrus dohrni [64]\",\n",
    "                   \"Aleurodicus dispersus (spiralling whitefly)\",\n",
    "                   \"Anoplolepis gracilipes (yellow crazy ant) [65]\",\n",
    "                   \"Aromia bungii (red-necked longhorn) [66]\",\n",
    "                   \"Bemisia tabaci (silverleaf whitefly) [67]\",\n",
    "                   \"Bombus terrestris (buff-tailed bumblebee)\",\n",
    "                   \"Cameraria ohridella (horse-chestnut leaf miner)\",\n",
    "                   \"Caverelius saccharivorus (oriental chinch bug) [68]\",\n",
    "                   \"Ceratitis capitata (Mediterranean fruit fly) [69]\",\n",
    "                   \"Chrysomya bezziana (Old World screwworm fly) [70]\",\n",
    "                   \"Cinara cupressi (cypress aphid) [71]\",\n",
    "                   \"Coptotermes formosanus (Formosan subterranean termite) [72]\",\n",
    "                   \"Corythucha ciliata (sycamore lace bug) [73]\",\n",
    "                   \"Ctenarytaina eucalypti (blue gum psyllid) [74]\",\n",
    "                   \"Cydalima perspectalis (box tree moth) [75]\",\n",
    "                   \"Cylas formicarius (sweet potato weevil) [76]\",\n",
    "                   \"Delta pyriforme [77]\",\n",
    "                   \"Dendroctonus micans (great spruce bark beetle)\",\n",
    "                   \"Dendroctonus pseudotsugae (Douglas-fir beetle) [78]\",\n",
    "                   \"Drosophila suzukii (spotted wing drosophila) [79]\",\n",
    "                   \"Epilachna varivestis (Mexican bean beetle) [80]\",\n",
    "                   \"Erionota torus (rounded palm-redeye) [81]\",\n",
    "                   \"Euscepes postfasciatus (West Indian sweetpotato weevil) [82]\",\n",
    "                   \"Frankliniella occidentalis (western flower thrips) [83]\",\n",
    "                   \"Hylurgus ligniperda (red-haired pine bark beetle) [84]\",\n",
    "                   \"Hypera postica (alfalfa weevil) [85]\",\n",
    "                   \"Hyphantria cunea (fall webworm) [86]\",\n",
    "                   \"Icerya purchasi (cottony cushion scale) [87]\",\n",
    "                   \"Linepithema humile (Argentine ant) [88]\",\n",
    "                   \"Liriomyza sativae (vegetable leaf miner) [89]\",\n",
    "                   \"Lissorhoptrus oryzophilus (rice water weevil) [90]\",\n",
    "                   \"Liriomyza trifolii (serpentine leafminer) [91]\",\n",
    "                   \"Monomorium pharaonis (pharaoh ant)\",\n",
    "                   \"Nealsomyia rufella [92]\",\n",
    "                   \"Opisthoplatia orientalis [93]\",\n",
    "                   \"Oracella acuta (loblolly pine mealybug) [94]\",\n",
    "                   \"Paraglenea fortunei [95]\",\n",
    "                   \"Parasa lepida (nettle caterpillar) [96]\",\n",
    "                   \"Pheidole megacephala (big-headed ant) [97]\",\n",
    "                   \"Phenacoccus manihoti (cassava mealybug) [98]\",\n",
    "                   \"Phenacoccus solenopsis (cotton mealybug) [99]\",\n",
    "                   \"Pineus pini (pine woolly aphid) [100]\",\n",
    "                   \"Platypus quercivorus (oak ambrosia beetle) [101]\",\n",
    "                   \"Quadrastichus erythrinae (Erythrina gall wasp) [102]\",\n",
    "                   \"Rhabdoscelus obscurus (sugarcane weevil borer) [103]\",\n",
    "                   \"Rhynchophorus ferrugineus (red palm weevil) [104]\",\n",
    "                   \"Solenopsis geminata (tropical fire ant) [105]\",\n",
    "                   \"Solenopsis invicta (red imported fire ant) [106]\",\n",
    "                   \"Thrips palmi (melon thrips) [107]\",\n",
    "                   \"Trialeurodes vaporariorum (glasshouse whitefly) [108]\",\n",
    "                   \"Trichomyrmex destructor (destructive trailing ant)\",\n",
    "                   \"Unaspis yanonensis (arrowhead snow scale) [109]\",\n",
    "                   \"Vespa velutina (Asian predatory wasp) [110]\",\n",
    "                   \"Wasmannia auropunctata (electric ant)\",\n",
    "                   \"Xyleborus volvulus [111]\")"
   ]
  },
  {
   "cell_type": "code",
   "execution_count": 387,
   "metadata": {},
   "outputs": [
    {
     "data": {
      "text/html": [
       "<table>\n",
       "<caption>A tibble: 6 × 3</caption>\n",
       "<thead>\n",
       "\t<tr><th scope=col>species_name</th><th scope=col>source</th><th scope=col>source_id</th></tr>\n",
       "\t<tr><th scope=col>&lt;chr&gt;</th><th scope=col>&lt;chr&gt;</th><th scope=col>&lt;chr&gt;</th></tr>\n",
       "</thead>\n",
       "<tbody>\n",
       "\t<tr><td>Agriosphodrus dohrni  </td><td>https://en.wikipedia.org/wiki/List_of_invasive_species_in_Asia#Insects</td><td>wikipedia_asia</td></tr>\n",
       "\t<tr><td>Aleurodicus dispersus </td><td>https://en.wikipedia.org/wiki/List_of_invasive_species_in_Asia#Insects</td><td>wikipedia_asia</td></tr>\n",
       "\t<tr><td>Anoplolepis gracilipes</td><td>https://en.wikipedia.org/wiki/List_of_invasive_species_in_Asia#Insects</td><td>wikipedia_asia</td></tr>\n",
       "\t<tr><td>Aromia bungii         </td><td>https://en.wikipedia.org/wiki/List_of_invasive_species_in_Asia#Insects</td><td>wikipedia_asia</td></tr>\n",
       "\t<tr><td>Bemisia tabaci        </td><td>https://en.wikipedia.org/wiki/List_of_invasive_species_in_Asia#Insects</td><td>wikipedia_asia</td></tr>\n",
       "\t<tr><td>Bombus terrestris     </td><td>https://en.wikipedia.org/wiki/List_of_invasive_species_in_Asia#Insects</td><td>wikipedia_asia</td></tr>\n",
       "</tbody>\n",
       "</table>\n"
      ],
      "text/latex": [
       "A tibble: 6 × 3\n",
       "\\begin{tabular}{lll}\n",
       " species\\_name & source & source\\_id\\\\\n",
       " <chr> & <chr> & <chr>\\\\\n",
       "\\hline\n",
       "\t Agriosphodrus dohrni   & https://en.wikipedia.org/wiki/List\\_of\\_invasive\\_species\\_in\\_Asia\\#Insects & wikipedia\\_asia\\\\\n",
       "\t Aleurodicus dispersus  & https://en.wikipedia.org/wiki/List\\_of\\_invasive\\_species\\_in\\_Asia\\#Insects & wikipedia\\_asia\\\\\n",
       "\t Anoplolepis gracilipes & https://en.wikipedia.org/wiki/List\\_of\\_invasive\\_species\\_in\\_Asia\\#Insects & wikipedia\\_asia\\\\\n",
       "\t Aromia bungii          & https://en.wikipedia.org/wiki/List\\_of\\_invasive\\_species\\_in\\_Asia\\#Insects & wikipedia\\_asia\\\\\n",
       "\t Bemisia tabaci         & https://en.wikipedia.org/wiki/List\\_of\\_invasive\\_species\\_in\\_Asia\\#Insects & wikipedia\\_asia\\\\\n",
       "\t Bombus terrestris      & https://en.wikipedia.org/wiki/List\\_of\\_invasive\\_species\\_in\\_Asia\\#Insects & wikipedia\\_asia\\\\\n",
       "\\end{tabular}\n"
      ],
      "text/markdown": [
       "\n",
       "A tibble: 6 × 3\n",
       "\n",
       "| species_name &lt;chr&gt; | source &lt;chr&gt; | source_id &lt;chr&gt; |\n",
       "|---|---|---|\n",
       "| Agriosphodrus dohrni   | https://en.wikipedia.org/wiki/List_of_invasive_species_in_Asia#Insects | wikipedia_asia |\n",
       "| Aleurodicus dispersus  | https://en.wikipedia.org/wiki/List_of_invasive_species_in_Asia#Insects | wikipedia_asia |\n",
       "| Anoplolepis gracilipes | https://en.wikipedia.org/wiki/List_of_invasive_species_in_Asia#Insects | wikipedia_asia |\n",
       "| Aromia bungii          | https://en.wikipedia.org/wiki/List_of_invasive_species_in_Asia#Insects | wikipedia_asia |\n",
       "| Bemisia tabaci         | https://en.wikipedia.org/wiki/List_of_invasive_species_in_Asia#Insects | wikipedia_asia |\n",
       "| Bombus terrestris      | https://en.wikipedia.org/wiki/List_of_invasive_species_in_Asia#Insects | wikipedia_asia |\n",
       "\n"
      ],
      "text/plain": [
       "  species_name          \n",
       "1 Agriosphodrus dohrni  \n",
       "2 Aleurodicus dispersus \n",
       "3 Anoplolepis gracilipes\n",
       "4 Aromia bungii         \n",
       "5 Bemisia tabaci        \n",
       "6 Bombus terrestris     \n",
       "  source                                                                \n",
       "1 https://en.wikipedia.org/wiki/List_of_invasive_species_in_Asia#Insects\n",
       "2 https://en.wikipedia.org/wiki/List_of_invasive_species_in_Asia#Insects\n",
       "3 https://en.wikipedia.org/wiki/List_of_invasive_species_in_Asia#Insects\n",
       "4 https://en.wikipedia.org/wiki/List_of_invasive_species_in_Asia#Insects\n",
       "5 https://en.wikipedia.org/wiki/List_of_invasive_species_in_Asia#Insects\n",
       "6 https://en.wikipedia.org/wiki/List_of_invasive_species_in_Asia#Insects\n",
       "  source_id     \n",
       "1 wikipedia_asia\n",
       "2 wikipedia_asia\n",
       "3 wikipedia_asia\n",
       "4 wikipedia_asia\n",
       "5 wikipedia_asia\n",
       "6 wikipedia_asia"
      ]
     },
     "metadata": {},
     "output_type": "display_data"
    }
   ],
   "source": [
    "invasive_asia <- invasive_asia %>%  \n",
    "    # remove common names\n",
    "    str_remove(\"\\\\(.*\\\\)\") %>% \n",
    "    # remove wikipedia reference links\n",
    "    str_remove(\"\\\\[.*\\\\]\") %>% \n",
    "    # trim whitespace\n",
    "    str_trim() %>% \n",
    "    # convert to a dataframe\n",
    "    enframe(name = NULL, value = \"species_name\") %>% \n",
    "    mutate(source = \"https://en.wikipedia.org/wiki/List_of_invasive_species_in_Asia#Insects\",\n",
    "           source_id = \"wikipedia_asia\")\n",
    "    \n",
    "\n",
    "head(invasive_asia)\n"
   ]
  },
  {
   "cell_type": "markdown",
   "metadata": {},
   "source": [
    "Africa doesn't appear to have a central database either, aside from global databases already compiled. I'm pulling from the [Wikipedia page](https://en.wikipedia.org/wiki/List_of_invasive_species_in_Africa#Insects) for African invasive species as well. These are all listed from the Invasive Species Compendium, but I'm still including them in case my search missed some for any reason. Scraped: 4-24-20. "
   ]
  },
  {
   "cell_type": "code",
   "execution_count": 388,
   "metadata": {},
   "outputs": [],
   "source": [
    "invasive_africa <- c(\"Aedes albopictus (Asian tiger mosquito) [10]\",\n",
    "                     \"Aleurodicus dispersus (spiralling whitefly)\",\n",
    "                     \"Aleurothrixus floccosus (woolly whitefly) [11]\",\n",
    "                     \"Aleurotrachelus atratus (palm-infesting whitefly) [12]\",\n",
    "                     \"Anoplolepis gracilipes (yellow crazy ant) [13]\",\n",
    "                     \"Aphis spiraecola (green citrus aphid) [14]\",\n",
    "                     \"Aulacaspis yasumatsui (cycad aulacaspis scale) [15]\",\n",
    "                     \"Bactrocera cucurbitae (melon fly)\",\n",
    "                     \"Bactrocera dorsalis (Oriental fruit fly) [16]\",\n",
    "                     \"Bactrocera invadens (Asian fruit fly)\",\n",
    "                     \"Bactrocera zonata (peach fruit fly) [17]\",\n",
    "                     \"Bemisia tabaci (silverleaf whitefly)\",\n",
    "                     \"Cactoblastis cactorum (cactus moth) [18]\",\n",
    "                     \"Ceratitis capitata (Mediterranean fruit fly) [19]\",\n",
    "                     \"Ceratitis rosa (Natal fruit fly) [20]\",\n",
    "                     \"Chionaspis pinifoliae (pine needle scale insect) [21]\",\n",
    "                     \"Cinara cupressi (cypress aphid) [22]\",\n",
    "                     \"Coptotermes formosanus (Formosan subterranean termite)\",\n",
    "                     \"Cosmopolites sordidus (banana root borer) [23]\",\n",
    "                     \"Cryptotermes brevis (West Indian drywood termite)\",\n",
    "                     \"Ctenarytaina eucalypti (blue gum psyllid) [24]\",\n",
    "                     \"Diuraphis noxia (Russian wheat aphid) [25]\",\n",
    "                     \"Eulachnus rileyi (pine needle aphid) [26]\",\n",
    "                     \"Euwallacea fornicatus (tea shot hole borer) [27]\",\n",
    "                     \"Frankliniella occidentalis (western flower thrips) [28]\",\n",
    "                     \"Harmonia axyridis (Asian lady beetle) [29]\",\n",
    "                     \"Hylastes ater (black pine bark beetle)\",\n",
    "                     \"Hylurgus ligniperda (red-haired pine bark beetle) [30]\",\n",
    "                     \"Icerya purchasi (cottony cushion scale) [31]\",\n",
    "                     \"Linepithema humile (Argentine ant)\",\n",
    "                     \"Liriomyza trifolii (American serpentine leafminer)[32]\",\n",
    "                     \"Maconellicoccus hirsutus (hibiscus mealybug)\",\n",
    "                     \"Orthotomicus erosus (Mediterranean pine engraver) [33]\",\n",
    "                     \"Phenacoccus manihoti (cassava mealybug) [34]\",\n",
    "                     \"Phenacoccus solenopsis (cotton mealybug) [35]\",\n",
    "                     \"Pineus pini (pine woolly aphid) [36]\",\n",
    "                     \"Polistes dominula (European paper wasp [37]\",\n",
    "                     \"Prostephanus truncatus (larger grain borer)\",\n",
    "                     \"Pseudococcus calceolariae (Citrophilus mealybug) [38]\",\n",
    "                     \"Sirex noctilio (Sirex woodwasp)\",\n",
    "                     \"Spodoptera frugiperda (fall armyworm)\",\n",
    "                     \"Technomyrmex albipes (white-footed ant)\",\n",
    "                     \"Thaumastocoris peregrinus (bronze bug) [39]\",\n",
    "                     \"Trialeurodes ricini (castor bean whitefly) [40]\",\n",
    "                     \"Trichomyrmex destructor (destructive trailing ant) [41]\",\n",
    "                     \"Vespula germanica (European wasp)\",\n",
    "                     \"Wasmannia auropunctata (electric ant)\",\n",
    "                     \"Xyleborinus saxesenii (fruit-tree pinhole borer) [42]\",\n",
    "                     \"Xyleborus perforans (island pinhole borer) [43]\",\n",
    "                     \"Xylosandrus compactus (black twig borer) [44]\")\n"
   ]
  },
  {
   "cell_type": "code",
   "execution_count": 389,
   "metadata": {},
   "outputs": [
    {
     "data": {
      "text/html": [
       "<table>\n",
       "<caption>A tibble: 6 × 3</caption>\n",
       "<thead>\n",
       "\t<tr><th scope=col>species_name</th><th scope=col>source</th><th scope=col>source_id</th></tr>\n",
       "\t<tr><th scope=col>&lt;chr&gt;</th><th scope=col>&lt;chr&gt;</th><th scope=col>&lt;chr&gt;</th></tr>\n",
       "</thead>\n",
       "<tbody>\n",
       "\t<tr><td>Aedes albopictus       </td><td>https://en.wikipedia.org/wiki/List_of_invasive_species_in_Africa#Insects</td><td>wikipedia_africa</td></tr>\n",
       "\t<tr><td>Aleurodicus dispersus  </td><td>https://en.wikipedia.org/wiki/List_of_invasive_species_in_Africa#Insects</td><td>wikipedia_africa</td></tr>\n",
       "\t<tr><td>Aleurothrixus floccosus</td><td>https://en.wikipedia.org/wiki/List_of_invasive_species_in_Africa#Insects</td><td>wikipedia_africa</td></tr>\n",
       "\t<tr><td>Aleurotrachelus atratus</td><td>https://en.wikipedia.org/wiki/List_of_invasive_species_in_Africa#Insects</td><td>wikipedia_africa</td></tr>\n",
       "\t<tr><td>Anoplolepis gracilipes </td><td>https://en.wikipedia.org/wiki/List_of_invasive_species_in_Africa#Insects</td><td>wikipedia_africa</td></tr>\n",
       "\t<tr><td>Aphis spiraecola       </td><td>https://en.wikipedia.org/wiki/List_of_invasive_species_in_Africa#Insects</td><td>wikipedia_africa</td></tr>\n",
       "</tbody>\n",
       "</table>\n"
      ],
      "text/latex": [
       "A tibble: 6 × 3\n",
       "\\begin{tabular}{lll}\n",
       " species\\_name & source & source\\_id\\\\\n",
       " <chr> & <chr> & <chr>\\\\\n",
       "\\hline\n",
       "\t Aedes albopictus        & https://en.wikipedia.org/wiki/List\\_of\\_invasive\\_species\\_in\\_Africa\\#Insects & wikipedia\\_africa\\\\\n",
       "\t Aleurodicus dispersus   & https://en.wikipedia.org/wiki/List\\_of\\_invasive\\_species\\_in\\_Africa\\#Insects & wikipedia\\_africa\\\\\n",
       "\t Aleurothrixus floccosus & https://en.wikipedia.org/wiki/List\\_of\\_invasive\\_species\\_in\\_Africa\\#Insects & wikipedia\\_africa\\\\\n",
       "\t Aleurotrachelus atratus & https://en.wikipedia.org/wiki/List\\_of\\_invasive\\_species\\_in\\_Africa\\#Insects & wikipedia\\_africa\\\\\n",
       "\t Anoplolepis gracilipes  & https://en.wikipedia.org/wiki/List\\_of\\_invasive\\_species\\_in\\_Africa\\#Insects & wikipedia\\_africa\\\\\n",
       "\t Aphis spiraecola        & https://en.wikipedia.org/wiki/List\\_of\\_invasive\\_species\\_in\\_Africa\\#Insects & wikipedia\\_africa\\\\\n",
       "\\end{tabular}\n"
      ],
      "text/markdown": [
       "\n",
       "A tibble: 6 × 3\n",
       "\n",
       "| species_name &lt;chr&gt; | source &lt;chr&gt; | source_id &lt;chr&gt; |\n",
       "|---|---|---|\n",
       "| Aedes albopictus        | https://en.wikipedia.org/wiki/List_of_invasive_species_in_Africa#Insects | wikipedia_africa |\n",
       "| Aleurodicus dispersus   | https://en.wikipedia.org/wiki/List_of_invasive_species_in_Africa#Insects | wikipedia_africa |\n",
       "| Aleurothrixus floccosus | https://en.wikipedia.org/wiki/List_of_invasive_species_in_Africa#Insects | wikipedia_africa |\n",
       "| Aleurotrachelus atratus | https://en.wikipedia.org/wiki/List_of_invasive_species_in_Africa#Insects | wikipedia_africa |\n",
       "| Anoplolepis gracilipes  | https://en.wikipedia.org/wiki/List_of_invasive_species_in_Africa#Insects | wikipedia_africa |\n",
       "| Aphis spiraecola        | https://en.wikipedia.org/wiki/List_of_invasive_species_in_Africa#Insects | wikipedia_africa |\n",
       "\n"
      ],
      "text/plain": [
       "  species_name           \n",
       "1 Aedes albopictus       \n",
       "2 Aleurodicus dispersus  \n",
       "3 Aleurothrixus floccosus\n",
       "4 Aleurotrachelus atratus\n",
       "5 Anoplolepis gracilipes \n",
       "6 Aphis spiraecola       \n",
       "  source                                                                  \n",
       "1 https://en.wikipedia.org/wiki/List_of_invasive_species_in_Africa#Insects\n",
       "2 https://en.wikipedia.org/wiki/List_of_invasive_species_in_Africa#Insects\n",
       "3 https://en.wikipedia.org/wiki/List_of_invasive_species_in_Africa#Insects\n",
       "4 https://en.wikipedia.org/wiki/List_of_invasive_species_in_Africa#Insects\n",
       "5 https://en.wikipedia.org/wiki/List_of_invasive_species_in_Africa#Insects\n",
       "6 https://en.wikipedia.org/wiki/List_of_invasive_species_in_Africa#Insects\n",
       "  source_id       \n",
       "1 wikipedia_africa\n",
       "2 wikipedia_africa\n",
       "3 wikipedia_africa\n",
       "4 wikipedia_africa\n",
       "5 wikipedia_africa\n",
       "6 wikipedia_africa"
      ]
     },
     "metadata": {},
     "output_type": "display_data"
    }
   ],
   "source": [
    "invasive_africa <- invasive_africa %>%  \n",
    "    # remove common names\n",
    "    str_remove(\"\\\\(.*\\\\)\") %>% \n",
    "    # remove wikipedia reference links\n",
    "    str_remove(\"\\\\[.*\\\\]\") %>% \n",
    "    # trim whitespace\n",
    "    str_trim() %>% \n",
    "    # convert to a dataframe\n",
    "    enframe(name = NULL, value = \"species_name\") %>% \n",
    "    mutate(source = \"https://en.wikipedia.org/wiki/List_of_invasive_species_in_Africa#Insects\",\n",
    "           source_id = \"wikipedia_africa\")\n",
    "\n",
    "head(invasive_africa)"
   ]
  },
  {
   "cell_type": "markdown",
   "metadata": {},
   "source": [
    "I grabbed a European invasive species list from [Katsanevakis et al. 2015](https://www.reabic.net/journals/mbi/2015/Issue2.aspx). I only retained their \"checked\" observations from the supplementary material. It was collected for the European Alian Species Information Network. An interactive list is available [here](http://alien.jrc.ec.europa.eu/SpeciesMapper), but the data is not available to download. "
   ]
  },
  {
   "cell_type": "code",
   "execution_count": 390,
   "metadata": {},
   "outputs": [
    {
     "name": "stderr",
     "output_type": "stream",
     "text": [
      "Warning message:\n",
      "“Missing column names filled in: 'X12' [12]”\n",
      "Parsed with column specification:\n",
      "cols(\n",
      "  .default = col_character(),\n",
      "  TER = \u001b[32mcol_double()\u001b[39m,\n",
      "  FW = \u001b[32mcol_double()\u001b[39m,\n",
      "  MAR = \u001b[32mcol_double()\u001b[39m,\n",
      "  EST = \u001b[32mcol_double()\u001b[39m,\n",
      "  PAR = \u001b[32mcol_double()\u001b[39m,\n",
      "  X12 = \u001b[32mcol_double()\u001b[39m,\n",
      "  `YEAR OF INTRODUCTION` = \u001b[32mcol_double()\u001b[39m,\n",
      "  CATEGORY = \u001b[32mcol_double()\u001b[39m,\n",
      "  `PARTLY NATIVE` = \u001b[32mcol_double()\u001b[39m\n",
      ")\n",
      "\n",
      "See spec(...) for full column specifications.\n",
      "\n"
     ]
    },
    {
     "data": {
      "text/html": [
       "<table>\n",
       "<caption>A tibble: 6 × 3</caption>\n",
       "<thead>\n",
       "\t<tr><th scope=col>species_name</th><th scope=col>source</th><th scope=col>source_id</th></tr>\n",
       "\t<tr><th scope=col>&lt;chr&gt;</th><th scope=col>&lt;chr&gt;</th><th scope=col>&lt;chr&gt;</th></tr>\n",
       "</thead>\n",
       "<tbody>\n",
       "\t<tr><td>Abax parallelus         </td><td>https://www.reabic.net/journals/mbi/2015/Issue2.aspx</td><td>easin</td></tr>\n",
       "\t<tr><td>Abgrallaspis cyanophylli</td><td>https://www.reabic.net/journals/mbi/2015/Issue2.aspx</td><td>easin</td></tr>\n",
       "\t<tr><td>Ablattaria laevigata    </td><td>https://www.reabic.net/journals/mbi/2015/Issue2.aspx</td><td>easin</td></tr>\n",
       "\t<tr><td>Ablerus chionaspidis    </td><td>https://www.reabic.net/journals/mbi/2015/Issue2.aspx</td><td>easin</td></tr>\n",
       "\t<tr><td>Ablerus clisiocampae    </td><td>https://www.reabic.net/journals/mbi/2015/Issue2.aspx</td><td>easin</td></tr>\n",
       "\t<tr><td>Ablerus perspeciosus    </td><td>https://www.reabic.net/journals/mbi/2015/Issue2.aspx</td><td>easin</td></tr>\n",
       "</tbody>\n",
       "</table>\n"
      ],
      "text/latex": [
       "A tibble: 6 × 3\n",
       "\\begin{tabular}{lll}\n",
       " species\\_name & source & source\\_id\\\\\n",
       " <chr> & <chr> & <chr>\\\\\n",
       "\\hline\n",
       "\t Abax parallelus          & https://www.reabic.net/journals/mbi/2015/Issue2.aspx & easin\\\\\n",
       "\t Abgrallaspis cyanophylli & https://www.reabic.net/journals/mbi/2015/Issue2.aspx & easin\\\\\n",
       "\t Ablattaria laevigata     & https://www.reabic.net/journals/mbi/2015/Issue2.aspx & easin\\\\\n",
       "\t Ablerus chionaspidis     & https://www.reabic.net/journals/mbi/2015/Issue2.aspx & easin\\\\\n",
       "\t Ablerus clisiocampae     & https://www.reabic.net/journals/mbi/2015/Issue2.aspx & easin\\\\\n",
       "\t Ablerus perspeciosus     & https://www.reabic.net/journals/mbi/2015/Issue2.aspx & easin\\\\\n",
       "\\end{tabular}\n"
      ],
      "text/markdown": [
       "\n",
       "A tibble: 6 × 3\n",
       "\n",
       "| species_name &lt;chr&gt; | source &lt;chr&gt; | source_id &lt;chr&gt; |\n",
       "|---|---|---|\n",
       "| Abax parallelus          | https://www.reabic.net/journals/mbi/2015/Issue2.aspx | easin |\n",
       "| Abgrallaspis cyanophylli | https://www.reabic.net/journals/mbi/2015/Issue2.aspx | easin |\n",
       "| Ablattaria laevigata     | https://www.reabic.net/journals/mbi/2015/Issue2.aspx | easin |\n",
       "| Ablerus chionaspidis     | https://www.reabic.net/journals/mbi/2015/Issue2.aspx | easin |\n",
       "| Ablerus clisiocampae     | https://www.reabic.net/journals/mbi/2015/Issue2.aspx | easin |\n",
       "| Ablerus perspeciosus     | https://www.reabic.net/journals/mbi/2015/Issue2.aspx | easin |\n",
       "\n"
      ],
      "text/plain": [
       "  species_name             source                                              \n",
       "1 Abax parallelus          https://www.reabic.net/journals/mbi/2015/Issue2.aspx\n",
       "2 Abgrallaspis cyanophylli https://www.reabic.net/journals/mbi/2015/Issue2.aspx\n",
       "3 Ablattaria laevigata     https://www.reabic.net/journals/mbi/2015/Issue2.aspx\n",
       "4 Ablerus chionaspidis     https://www.reabic.net/journals/mbi/2015/Issue2.aspx\n",
       "5 Ablerus clisiocampae     https://www.reabic.net/journals/mbi/2015/Issue2.aspx\n",
       "6 Ablerus perspeciosus     https://www.reabic.net/journals/mbi/2015/Issue2.aspx\n",
       "  source_id\n",
       "1 easin    \n",
       "2 easin    \n",
       "3 easin    \n",
       "4 easin    \n",
       "5 easin    \n",
       "6 easin    "
      ]
     },
     "metadata": {},
     "output_type": "display_data"
    }
   ],
   "source": [
    "invasive_europe <- read_csv(here(\"data\", \"invasive\", \"easin.csv\"), skip = 1) %>% \n",
    "    filter(Class == \"Insecta\") %>% \n",
    "    select(NAME) %>% \n",
    "    rename(species_name = NAME) %>% \n",
    "    mutate(source = \"https://www.reabic.net/journals/mbi/2015/Issue2.aspx\", \n",
    "           source_id = \"easin\")\n",
    "\n",
    "head(invasive_europe)"
   ]
  },
  {
   "cell_type": "markdown",
   "metadata": {},
   "source": [
    "South America and Oceania do not have invasive species databases outside of the global databases already imported. I did searches for Australia and New Zealand as well, and their databases pull from the global databases already imported."
   ]
  },
  {
   "cell_type": "code",
   "execution_count": 391,
   "metadata": {},
   "outputs": [
    {
     "data": {
      "text/html": [
       "'We are considering 3733 invasive species from 6 sources.'"
      ],
      "text/latex": [
       "'We are considering 3733 invasive species from 6 sources.'"
      ],
      "text/markdown": [
       "'We are considering 3733 invasive species from 6 sources.'"
      ],
      "text/plain": [
       "[1] \"We are considering 3733 invasive species from 6 sources.\""
      ]
     },
     "metadata": {},
     "output_type": "display_data"
    },
    {
     "data": {
      "text/html": [
       "<table>\n",
       "<caption>A tibble: 6 × 3</caption>\n",
       "<thead>\n",
       "\t<tr><th scope=col>species_name</th><th scope=col>source</th><th scope=col>source_id</th></tr>\n",
       "\t<tr><th scope=col>&lt;chr&gt;</th><th scope=col>&lt;chr&gt;</th><th scope=col>&lt;chr&gt;</th></tr>\n",
       "</thead>\n",
       "<tbody>\n",
       "\t<tr><td>Acnemia bifida         </td><td>http://www.iucngisd.org/gisd/search.php</td><td>gisd</td></tr>\n",
       "\t<tr><td>Acromyrmex octospinosus</td><td>http://www.iucngisd.org/gisd/search.php</td><td>gisd</td></tr>\n",
       "\t<tr><td>Adelges piceae         </td><td>http://www.iucngisd.org/gisd/search.php</td><td>gisd</td></tr>\n",
       "\t<tr><td>Adelges tsugae         </td><td>http://www.iucngisd.org/gisd/search.php</td><td>gisd</td></tr>\n",
       "\t<tr><td>Aedes aegypti          </td><td>http://www.iucngisd.org/gisd/search.php</td><td>gisd</td></tr>\n",
       "\t<tr><td>Aedes albopictus       </td><td>http://www.iucngisd.org/gisd/search.php</td><td>gisd</td></tr>\n",
       "</tbody>\n",
       "</table>\n"
      ],
      "text/latex": [
       "A tibble: 6 × 3\n",
       "\\begin{tabular}{lll}\n",
       " species\\_name & source & source\\_id\\\\\n",
       " <chr> & <chr> & <chr>\\\\\n",
       "\\hline\n",
       "\t Acnemia bifida          & http://www.iucngisd.org/gisd/search.php & gisd\\\\\n",
       "\t Acromyrmex octospinosus & http://www.iucngisd.org/gisd/search.php & gisd\\\\\n",
       "\t Adelges piceae          & http://www.iucngisd.org/gisd/search.php & gisd\\\\\n",
       "\t Adelges tsugae          & http://www.iucngisd.org/gisd/search.php & gisd\\\\\n",
       "\t Aedes aegypti           & http://www.iucngisd.org/gisd/search.php & gisd\\\\\n",
       "\t Aedes albopictus        & http://www.iucngisd.org/gisd/search.php & gisd\\\\\n",
       "\\end{tabular}\n"
      ],
      "text/markdown": [
       "\n",
       "A tibble: 6 × 3\n",
       "\n",
       "| species_name &lt;chr&gt; | source &lt;chr&gt; | source_id &lt;chr&gt; |\n",
       "|---|---|---|\n",
       "| Acnemia bifida          | http://www.iucngisd.org/gisd/search.php | gisd |\n",
       "| Acromyrmex octospinosus | http://www.iucngisd.org/gisd/search.php | gisd |\n",
       "| Adelges piceae          | http://www.iucngisd.org/gisd/search.php | gisd |\n",
       "| Adelges tsugae          | http://www.iucngisd.org/gisd/search.php | gisd |\n",
       "| Aedes aegypti           | http://www.iucngisd.org/gisd/search.php | gisd |\n",
       "| Aedes albopictus        | http://www.iucngisd.org/gisd/search.php | gisd |\n",
       "\n"
      ],
      "text/plain": [
       "  species_name            source                                  source_id\n",
       "1 Acnemia bifida          http://www.iucngisd.org/gisd/search.php gisd     \n",
       "2 Acromyrmex octospinosus http://www.iucngisd.org/gisd/search.php gisd     \n",
       "3 Adelges piceae          http://www.iucngisd.org/gisd/search.php gisd     \n",
       "4 Adelges tsugae          http://www.iucngisd.org/gisd/search.php gisd     \n",
       "5 Aedes aegypti           http://www.iucngisd.org/gisd/search.php gisd     \n",
       "6 Aedes albopictus        http://www.iucngisd.org/gisd/search.php gisd     "
      ]
     },
     "metadata": {},
     "output_type": "display_data"
    }
   ],
   "source": [
    "invasive_total <- bind_rows(\n",
    "    invasive_gisd, \n",
    "    invasive_icf,\n",
    "    invasive_na,\n",
    "    invasive_europe,\n",
    "    invasive_africa,\n",
    "    invasive_asia) %>% \n",
    "    filter(!duplicated(species_name))\n",
    "\n",
    "paste0(\"We are considering \", nrow(invasive_total), \" invasive species from \", \n",
    "       summarize(invasive_total, n = uniqueN(source_id)) %>% pull(n), \" sources.\")\n",
    "\n",
    "head(invasive_total)"
   ]
  },
  {
   "cell_type": "markdown",
   "metadata": {},
   "source": [
    "For 100 km resolution: Now I'm matching these records to my BOLD data. There are 199 species present in my BOLD data that are also in this list. These species correspond with 191 BINs. "
   ]
  },
  {
   "cell_type": "code",
   "execution_count": 392,
   "metadata": {},
   "outputs": [
    {
     "data": {
      "text/html": [
       "<table>\n",
       "<caption>A spec_tbl_df: 283 × 3</caption>\n",
       "<thead>\n",
       "\t<tr><th scope=col>species_name</th><th scope=col>source</th><th scope=col>source_id</th></tr>\n",
       "\t<tr><th scope=col>&lt;chr&gt;</th><th scope=col>&lt;chr&gt;</th><th scope=col>&lt;chr&gt;</th></tr>\n",
       "</thead>\n",
       "<tbody>\n",
       "\t<tr><td>Adelges piceae          </td><td>http://www.iucngisd.org/gisd/search.php  </td><td>gisd</td></tr>\n",
       "\t<tr><td>Adelges tsugae          </td><td>http://www.iucngisd.org/gisd/search.php  </td><td>gisd</td></tr>\n",
       "\t<tr><td>Aedes aegypti           </td><td>http://www.iucngisd.org/gisd/search.php  </td><td>gisd</td></tr>\n",
       "\t<tr><td>Aedes albopictus        </td><td>http://www.iucngisd.org/gisd/search.php  </td><td>gisd</td></tr>\n",
       "\t<tr><td>Anoplolepis gracilipes  </td><td>http://www.iucngisd.org/gisd/search.php  </td><td>gisd</td></tr>\n",
       "\t<tr><td>Bemisia tabaci          </td><td>http://www.iucngisd.org/gisd/search.php  </td><td>gisd</td></tr>\n",
       "\t<tr><td>Calliphora vicina       </td><td>http://www.iucngisd.org/gisd/search.php  </td><td>gisd</td></tr>\n",
       "\t<tr><td>Cinara cupressi         </td><td>http://www.iucngisd.org/gisd/search.php  </td><td>gisd</td></tr>\n",
       "\t<tr><td>Harmonia axyridis       </td><td>http://www.iucngisd.org/gisd/search.php  </td><td>gisd</td></tr>\n",
       "\t<tr><td>Hyphantria cunea        </td><td>http://www.iucngisd.org/gisd/search.php  </td><td>gisd</td></tr>\n",
       "\t<tr><td>Maconellicoccus hirsutus</td><td>http://www.iucngisd.org/gisd/search.php  </td><td>gisd</td></tr>\n",
       "\t<tr><td>Monomorium destructor   </td><td>http://www.iucngisd.org/gisd/search.php  </td><td>gisd</td></tr>\n",
       "\t<tr><td>Monomorium floricola    </td><td>http://www.iucngisd.org/gisd/search.php  </td><td>gisd</td></tr>\n",
       "\t<tr><td>Monomorium pharaonis    </td><td>http://www.iucngisd.org/gisd/search.php  </td><td>gisd</td></tr>\n",
       "\t<tr><td>Myrmica rubra           </td><td>http://www.iucngisd.org/gisd/search.php  </td><td>gisd</td></tr>\n",
       "\t<tr><td>Paratrechina longicornis</td><td>http://www.iucngisd.org/gisd/search.php  </td><td>gisd</td></tr>\n",
       "\t<tr><td>Pheidole megacephala    </td><td>http://www.iucngisd.org/gisd/search.php  </td><td>gisd</td></tr>\n",
       "\t<tr><td>Solenopsis geminata     </td><td>http://www.iucngisd.org/gisd/search.php  </td><td>gisd</td></tr>\n",
       "\t<tr><td>Tapinoma melanocephalum </td><td>http://www.iucngisd.org/gisd/search.php  </td><td>gisd</td></tr>\n",
       "\t<tr><td>Technomyrmex albipes    </td><td>http://www.iucngisd.org/gisd/search.php  </td><td>gisd</td></tr>\n",
       "\t<tr><td>Bactrocera carambolae   </td><td>https://www.cabi.org/isc/datasheet/8700  </td><td>icf </td></tr>\n",
       "\t<tr><td>Spodoptera frugiperda   </td><td>https://www.cabi.org/isc/datasheet/29810 </td><td>icf </td></tr>\n",
       "\t<tr><td>Planococcus citri       </td><td>https://www.cabi.org/isc/datasheet/45082 </td><td>icf </td></tr>\n",
       "\t<tr><td>Drosophila suzukii      </td><td>https://www.cabi.org/isc/datasheet/109283</td><td>icf </td></tr>\n",
       "\t<tr><td>Helicoverpa zea         </td><td>https://www.cabi.org/isc/datasheet/26776 </td><td>icf </td></tr>\n",
       "\t<tr><td>Bactrocera cucurbitae   </td><td>https://www.cabi.org/isc/datasheet/17683 </td><td>icf </td></tr>\n",
       "\t<tr><td>Bactrocera dorsalis     </td><td>https://www.cabi.org/isc/datasheet/17685 </td><td>icf </td></tr>\n",
       "\t<tr><td>Culex quinquefasciatus  </td><td>https://www.cabi.org/isc/datasheet/86848 </td><td>icf </td></tr>\n",
       "\t<tr><td>Omalium rivulare        </td><td>https://www.cabi.org/isc/datasheet/115931</td><td>icf </td></tr>\n",
       "\t<tr><td>Macrosiphum ptericolens </td><td>https://www.cabi.org/isc/datasheet/115456</td><td>icf </td></tr>\n",
       "\t<tr><td>⋮</td><td>⋮</td><td>⋮</td></tr>\n",
       "\t<tr><td>Rhopobota naevana       </td><td>https://www.reabic.net/journals/mbi/2015/Issue2.aspx                    </td><td>easin           </td></tr>\n",
       "\t<tr><td>Rhyzobius lophanthae    </td><td>https://www.reabic.net/journals/mbi/2015/Issue2.aspx                    </td><td>easin           </td></tr>\n",
       "\t<tr><td>Scathophaga stercoraria </td><td>https://www.reabic.net/journals/mbi/2015/Issue2.aspx                    </td><td>easin           </td></tr>\n",
       "\t<tr><td>Scatopsciara atomaria   </td><td>https://www.reabic.net/journals/mbi/2015/Issue2.aspx                    </td><td>easin           </td></tr>\n",
       "\t<tr><td>Schizolachnus pineti    </td><td>https://www.reabic.net/journals/mbi/2015/Issue2.aspx                    </td><td>easin           </td></tr>\n",
       "\t<tr><td>Sericoderus lateralis   </td><td>https://www.reabic.net/journals/mbi/2015/Issue2.aspx                    </td><td>easin           </td></tr>\n",
       "\t<tr><td>Sitona lepidus          </td><td>https://www.reabic.net/journals/mbi/2015/Issue2.aspx                    </td><td>easin           </td></tr>\n",
       "\t<tr><td>Spodoptera cilium       </td><td>https://www.reabic.net/journals/mbi/2015/Issue2.aspx                    </td><td>easin           </td></tr>\n",
       "\t<tr><td>Spoladea recurvalis     </td><td>https://www.reabic.net/journals/mbi/2015/Issue2.aspx                    </td><td>easin           </td></tr>\n",
       "\t<tr><td>Stelidota geminata      </td><td>https://www.reabic.net/journals/mbi/2015/Issue2.aspx                    </td><td>easin           </td></tr>\n",
       "\t<tr><td>Stomoxys calcitrans     </td><td>https://www.reabic.net/journals/mbi/2015/Issue2.aspx                    </td><td>easin           </td></tr>\n",
       "\t<tr><td>Synanthedon myopaeformis</td><td>https://www.reabic.net/journals/mbi/2015/Issue2.aspx                    </td><td>easin           </td></tr>\n",
       "\t<tr><td>Tachyporus chrysomelinus</td><td>https://www.reabic.net/journals/mbi/2015/Issue2.aspx                    </td><td>easin           </td></tr>\n",
       "\t<tr><td>Tachyporus nitidulus    </td><td>https://www.reabic.net/journals/mbi/2015/Issue2.aspx                    </td><td>easin           </td></tr>\n",
       "\t<tr><td>Taylorilygus apicalis   </td><td>https://www.reabic.net/journals/mbi/2015/Issue2.aspx                    </td><td>easin           </td></tr>\n",
       "\t<tr><td>Tetramorium bicarinatum </td><td>https://www.reabic.net/journals/mbi/2015/Issue2.aspx                    </td><td>easin           </td></tr>\n",
       "\t<tr><td>Tetramorium lanuginosum </td><td>https://www.reabic.net/journals/mbi/2015/Issue2.aspx                    </td><td>easin           </td></tr>\n",
       "\t<tr><td>Tetramorium simillimum  </td><td>https://www.reabic.net/journals/mbi/2015/Issue2.aspx                    </td><td>easin           </td></tr>\n",
       "\t<tr><td>Thrips australis        </td><td>https://www.reabic.net/journals/mbi/2015/Issue2.aspx                    </td><td>easin           </td></tr>\n",
       "\t<tr><td>Thrips tabaci           </td><td>https://www.reabic.net/journals/mbi/2015/Issue2.aspx                    </td><td>easin           </td></tr>\n",
       "\t<tr><td>Thysanoplusia orichalcea</td><td>https://www.reabic.net/journals/mbi/2015/Issue2.aspx                    </td><td>easin           </td></tr>\n",
       "\t<tr><td>Tribolium confusum      </td><td>https://www.reabic.net/journals/mbi/2015/Issue2.aspx                    </td><td>easin           </td></tr>\n",
       "\t<tr><td>Trichopsocus dalii      </td><td>https://www.reabic.net/journals/mbi/2015/Issue2.aspx                    </td><td>easin           </td></tr>\n",
       "\t<tr><td>Tuberculatus annulatus  </td><td>https://www.reabic.net/journals/mbi/2015/Issue2.aspx                    </td><td>easin           </td></tr>\n",
       "\t<tr><td>Tychius picirostris     </td><td>https://www.reabic.net/journals/mbi/2015/Issue2.aspx                    </td><td>easin           </td></tr>\n",
       "\t<tr><td>Xantholinus linearis    </td><td>https://www.reabic.net/journals/mbi/2015/Issue2.aspx                    </td><td>easin           </td></tr>\n",
       "\t<tr><td>Yponomeuta padella      </td><td>https://www.reabic.net/journals/mbi/2015/Issue2.aspx                    </td><td>easin           </td></tr>\n",
       "\t<tr><td>Zeiraphera griseana     </td><td>https://www.reabic.net/journals/mbi/2015/Issue2.aspx                    </td><td>easin           </td></tr>\n",
       "\t<tr><td>Bactrocera invadens     </td><td>https://en.wikipedia.org/wiki/List_of_invasive_species_in_Africa#Insects</td><td>wikipedia_africa</td></tr>\n",
       "\t<tr><td>Trichomyrmex destructor </td><td>https://en.wikipedia.org/wiki/List_of_invasive_species_in_Africa#Insects</td><td>wikipedia_africa</td></tr>\n",
       "</tbody>\n",
       "</table>\n"
      ],
      "text/latex": [
       "A spec\\_tbl\\_df: 283 × 3\n",
       "\\begin{tabular}{lll}\n",
       " species\\_name & source & source\\_id\\\\\n",
       " <chr> & <chr> & <chr>\\\\\n",
       "\\hline\n",
       "\t Adelges piceae           & http://www.iucngisd.org/gisd/search.php   & gisd\\\\\n",
       "\t Adelges tsugae           & http://www.iucngisd.org/gisd/search.php   & gisd\\\\\n",
       "\t Aedes aegypti            & http://www.iucngisd.org/gisd/search.php   & gisd\\\\\n",
       "\t Aedes albopictus         & http://www.iucngisd.org/gisd/search.php   & gisd\\\\\n",
       "\t Anoplolepis gracilipes   & http://www.iucngisd.org/gisd/search.php   & gisd\\\\\n",
       "\t Bemisia tabaci           & http://www.iucngisd.org/gisd/search.php   & gisd\\\\\n",
       "\t Calliphora vicina        & http://www.iucngisd.org/gisd/search.php   & gisd\\\\\n",
       "\t Cinara cupressi          & http://www.iucngisd.org/gisd/search.php   & gisd\\\\\n",
       "\t Harmonia axyridis        & http://www.iucngisd.org/gisd/search.php   & gisd\\\\\n",
       "\t Hyphantria cunea         & http://www.iucngisd.org/gisd/search.php   & gisd\\\\\n",
       "\t Maconellicoccus hirsutus & http://www.iucngisd.org/gisd/search.php   & gisd\\\\\n",
       "\t Monomorium destructor    & http://www.iucngisd.org/gisd/search.php   & gisd\\\\\n",
       "\t Monomorium floricola     & http://www.iucngisd.org/gisd/search.php   & gisd\\\\\n",
       "\t Monomorium pharaonis     & http://www.iucngisd.org/gisd/search.php   & gisd\\\\\n",
       "\t Myrmica rubra            & http://www.iucngisd.org/gisd/search.php   & gisd\\\\\n",
       "\t Paratrechina longicornis & http://www.iucngisd.org/gisd/search.php   & gisd\\\\\n",
       "\t Pheidole megacephala     & http://www.iucngisd.org/gisd/search.php   & gisd\\\\\n",
       "\t Solenopsis geminata      & http://www.iucngisd.org/gisd/search.php   & gisd\\\\\n",
       "\t Tapinoma melanocephalum  & http://www.iucngisd.org/gisd/search.php   & gisd\\\\\n",
       "\t Technomyrmex albipes     & http://www.iucngisd.org/gisd/search.php   & gisd\\\\\n",
       "\t Bactrocera carambolae    & https://www.cabi.org/isc/datasheet/8700   & icf \\\\\n",
       "\t Spodoptera frugiperda    & https://www.cabi.org/isc/datasheet/29810  & icf \\\\\n",
       "\t Planococcus citri        & https://www.cabi.org/isc/datasheet/45082  & icf \\\\\n",
       "\t Drosophila suzukii       & https://www.cabi.org/isc/datasheet/109283 & icf \\\\\n",
       "\t Helicoverpa zea          & https://www.cabi.org/isc/datasheet/26776  & icf \\\\\n",
       "\t Bactrocera cucurbitae    & https://www.cabi.org/isc/datasheet/17683  & icf \\\\\n",
       "\t Bactrocera dorsalis      & https://www.cabi.org/isc/datasheet/17685  & icf \\\\\n",
       "\t Culex quinquefasciatus   & https://www.cabi.org/isc/datasheet/86848  & icf \\\\\n",
       "\t Omalium rivulare         & https://www.cabi.org/isc/datasheet/115931 & icf \\\\\n",
       "\t Macrosiphum ptericolens  & https://www.cabi.org/isc/datasheet/115456 & icf \\\\\n",
       "\t ⋮ & ⋮ & ⋮\\\\\n",
       "\t Rhopobota naevana        & https://www.reabic.net/journals/mbi/2015/Issue2.aspx                     & easin           \\\\\n",
       "\t Rhyzobius lophanthae     & https://www.reabic.net/journals/mbi/2015/Issue2.aspx                     & easin           \\\\\n",
       "\t Scathophaga stercoraria  & https://www.reabic.net/journals/mbi/2015/Issue2.aspx                     & easin           \\\\\n",
       "\t Scatopsciara atomaria    & https://www.reabic.net/journals/mbi/2015/Issue2.aspx                     & easin           \\\\\n",
       "\t Schizolachnus pineti     & https://www.reabic.net/journals/mbi/2015/Issue2.aspx                     & easin           \\\\\n",
       "\t Sericoderus lateralis    & https://www.reabic.net/journals/mbi/2015/Issue2.aspx                     & easin           \\\\\n",
       "\t Sitona lepidus           & https://www.reabic.net/journals/mbi/2015/Issue2.aspx                     & easin           \\\\\n",
       "\t Spodoptera cilium        & https://www.reabic.net/journals/mbi/2015/Issue2.aspx                     & easin           \\\\\n",
       "\t Spoladea recurvalis      & https://www.reabic.net/journals/mbi/2015/Issue2.aspx                     & easin           \\\\\n",
       "\t Stelidota geminata       & https://www.reabic.net/journals/mbi/2015/Issue2.aspx                     & easin           \\\\\n",
       "\t Stomoxys calcitrans      & https://www.reabic.net/journals/mbi/2015/Issue2.aspx                     & easin           \\\\\n",
       "\t Synanthedon myopaeformis & https://www.reabic.net/journals/mbi/2015/Issue2.aspx                     & easin           \\\\\n",
       "\t Tachyporus chrysomelinus & https://www.reabic.net/journals/mbi/2015/Issue2.aspx                     & easin           \\\\\n",
       "\t Tachyporus nitidulus     & https://www.reabic.net/journals/mbi/2015/Issue2.aspx                     & easin           \\\\\n",
       "\t Taylorilygus apicalis    & https://www.reabic.net/journals/mbi/2015/Issue2.aspx                     & easin           \\\\\n",
       "\t Tetramorium bicarinatum  & https://www.reabic.net/journals/mbi/2015/Issue2.aspx                     & easin           \\\\\n",
       "\t Tetramorium lanuginosum  & https://www.reabic.net/journals/mbi/2015/Issue2.aspx                     & easin           \\\\\n",
       "\t Tetramorium simillimum   & https://www.reabic.net/journals/mbi/2015/Issue2.aspx                     & easin           \\\\\n",
       "\t Thrips australis         & https://www.reabic.net/journals/mbi/2015/Issue2.aspx                     & easin           \\\\\n",
       "\t Thrips tabaci            & https://www.reabic.net/journals/mbi/2015/Issue2.aspx                     & easin           \\\\\n",
       "\t Thysanoplusia orichalcea & https://www.reabic.net/journals/mbi/2015/Issue2.aspx                     & easin           \\\\\n",
       "\t Tribolium confusum       & https://www.reabic.net/journals/mbi/2015/Issue2.aspx                     & easin           \\\\\n",
       "\t Trichopsocus dalii       & https://www.reabic.net/journals/mbi/2015/Issue2.aspx                     & easin           \\\\\n",
       "\t Tuberculatus annulatus   & https://www.reabic.net/journals/mbi/2015/Issue2.aspx                     & easin           \\\\\n",
       "\t Tychius picirostris      & https://www.reabic.net/journals/mbi/2015/Issue2.aspx                     & easin           \\\\\n",
       "\t Xantholinus linearis     & https://www.reabic.net/journals/mbi/2015/Issue2.aspx                     & easin           \\\\\n",
       "\t Yponomeuta padella       & https://www.reabic.net/journals/mbi/2015/Issue2.aspx                     & easin           \\\\\n",
       "\t Zeiraphera griseana      & https://www.reabic.net/journals/mbi/2015/Issue2.aspx                     & easin           \\\\\n",
       "\t Bactrocera invadens      & https://en.wikipedia.org/wiki/List\\_of\\_invasive\\_species\\_in\\_Africa\\#Insects & wikipedia\\_africa\\\\\n",
       "\t Trichomyrmex destructor  & https://en.wikipedia.org/wiki/List\\_of\\_invasive\\_species\\_in\\_Africa\\#Insects & wikipedia\\_africa\\\\\n",
       "\\end{tabular}\n"
      ],
      "text/markdown": [
       "\n",
       "A spec_tbl_df: 283 × 3\n",
       "\n",
       "| species_name &lt;chr&gt; | source &lt;chr&gt; | source_id &lt;chr&gt; |\n",
       "|---|---|---|\n",
       "| Adelges piceae           | http://www.iucngisd.org/gisd/search.php   | gisd |\n",
       "| Adelges tsugae           | http://www.iucngisd.org/gisd/search.php   | gisd |\n",
       "| Aedes aegypti            | http://www.iucngisd.org/gisd/search.php   | gisd |\n",
       "| Aedes albopictus         | http://www.iucngisd.org/gisd/search.php   | gisd |\n",
       "| Anoplolepis gracilipes   | http://www.iucngisd.org/gisd/search.php   | gisd |\n",
       "| Bemisia tabaci           | http://www.iucngisd.org/gisd/search.php   | gisd |\n",
       "| Calliphora vicina        | http://www.iucngisd.org/gisd/search.php   | gisd |\n",
       "| Cinara cupressi          | http://www.iucngisd.org/gisd/search.php   | gisd |\n",
       "| Harmonia axyridis        | http://www.iucngisd.org/gisd/search.php   | gisd |\n",
       "| Hyphantria cunea         | http://www.iucngisd.org/gisd/search.php   | gisd |\n",
       "| Maconellicoccus hirsutus | http://www.iucngisd.org/gisd/search.php   | gisd |\n",
       "| Monomorium destructor    | http://www.iucngisd.org/gisd/search.php   | gisd |\n",
       "| Monomorium floricola     | http://www.iucngisd.org/gisd/search.php   | gisd |\n",
       "| Monomorium pharaonis     | http://www.iucngisd.org/gisd/search.php   | gisd |\n",
       "| Myrmica rubra            | http://www.iucngisd.org/gisd/search.php   | gisd |\n",
       "| Paratrechina longicornis | http://www.iucngisd.org/gisd/search.php   | gisd |\n",
       "| Pheidole megacephala     | http://www.iucngisd.org/gisd/search.php   | gisd |\n",
       "| Solenopsis geminata      | http://www.iucngisd.org/gisd/search.php   | gisd |\n",
       "| Tapinoma melanocephalum  | http://www.iucngisd.org/gisd/search.php   | gisd |\n",
       "| Technomyrmex albipes     | http://www.iucngisd.org/gisd/search.php   | gisd |\n",
       "| Bactrocera carambolae    | https://www.cabi.org/isc/datasheet/8700   | icf  |\n",
       "| Spodoptera frugiperda    | https://www.cabi.org/isc/datasheet/29810  | icf  |\n",
       "| Planococcus citri        | https://www.cabi.org/isc/datasheet/45082  | icf  |\n",
       "| Drosophila suzukii       | https://www.cabi.org/isc/datasheet/109283 | icf  |\n",
       "| Helicoverpa zea          | https://www.cabi.org/isc/datasheet/26776  | icf  |\n",
       "| Bactrocera cucurbitae    | https://www.cabi.org/isc/datasheet/17683  | icf  |\n",
       "| Bactrocera dorsalis      | https://www.cabi.org/isc/datasheet/17685  | icf  |\n",
       "| Culex quinquefasciatus   | https://www.cabi.org/isc/datasheet/86848  | icf  |\n",
       "| Omalium rivulare         | https://www.cabi.org/isc/datasheet/115931 | icf  |\n",
       "| Macrosiphum ptericolens  | https://www.cabi.org/isc/datasheet/115456 | icf  |\n",
       "| ⋮ | ⋮ | ⋮ |\n",
       "| Rhopobota naevana        | https://www.reabic.net/journals/mbi/2015/Issue2.aspx                     | easin            |\n",
       "| Rhyzobius lophanthae     | https://www.reabic.net/journals/mbi/2015/Issue2.aspx                     | easin            |\n",
       "| Scathophaga stercoraria  | https://www.reabic.net/journals/mbi/2015/Issue2.aspx                     | easin            |\n",
       "| Scatopsciara atomaria    | https://www.reabic.net/journals/mbi/2015/Issue2.aspx                     | easin            |\n",
       "| Schizolachnus pineti     | https://www.reabic.net/journals/mbi/2015/Issue2.aspx                     | easin            |\n",
       "| Sericoderus lateralis    | https://www.reabic.net/journals/mbi/2015/Issue2.aspx                     | easin            |\n",
       "| Sitona lepidus           | https://www.reabic.net/journals/mbi/2015/Issue2.aspx                     | easin            |\n",
       "| Spodoptera cilium        | https://www.reabic.net/journals/mbi/2015/Issue2.aspx                     | easin            |\n",
       "| Spoladea recurvalis      | https://www.reabic.net/journals/mbi/2015/Issue2.aspx                     | easin            |\n",
       "| Stelidota geminata       | https://www.reabic.net/journals/mbi/2015/Issue2.aspx                     | easin            |\n",
       "| Stomoxys calcitrans      | https://www.reabic.net/journals/mbi/2015/Issue2.aspx                     | easin            |\n",
       "| Synanthedon myopaeformis | https://www.reabic.net/journals/mbi/2015/Issue2.aspx                     | easin            |\n",
       "| Tachyporus chrysomelinus | https://www.reabic.net/journals/mbi/2015/Issue2.aspx                     | easin            |\n",
       "| Tachyporus nitidulus     | https://www.reabic.net/journals/mbi/2015/Issue2.aspx                     | easin            |\n",
       "| Taylorilygus apicalis    | https://www.reabic.net/journals/mbi/2015/Issue2.aspx                     | easin            |\n",
       "| Tetramorium bicarinatum  | https://www.reabic.net/journals/mbi/2015/Issue2.aspx                     | easin            |\n",
       "| Tetramorium lanuginosum  | https://www.reabic.net/journals/mbi/2015/Issue2.aspx                     | easin            |\n",
       "| Tetramorium simillimum   | https://www.reabic.net/journals/mbi/2015/Issue2.aspx                     | easin            |\n",
       "| Thrips australis         | https://www.reabic.net/journals/mbi/2015/Issue2.aspx                     | easin            |\n",
       "| Thrips tabaci            | https://www.reabic.net/journals/mbi/2015/Issue2.aspx                     | easin            |\n",
       "| Thysanoplusia orichalcea | https://www.reabic.net/journals/mbi/2015/Issue2.aspx                     | easin            |\n",
       "| Tribolium confusum       | https://www.reabic.net/journals/mbi/2015/Issue2.aspx                     | easin            |\n",
       "| Trichopsocus dalii       | https://www.reabic.net/journals/mbi/2015/Issue2.aspx                     | easin            |\n",
       "| Tuberculatus annulatus   | https://www.reabic.net/journals/mbi/2015/Issue2.aspx                     | easin            |\n",
       "| Tychius picirostris      | https://www.reabic.net/journals/mbi/2015/Issue2.aspx                     | easin            |\n",
       "| Xantholinus linearis     | https://www.reabic.net/journals/mbi/2015/Issue2.aspx                     | easin            |\n",
       "| Yponomeuta padella       | https://www.reabic.net/journals/mbi/2015/Issue2.aspx                     | easin            |\n",
       "| Zeiraphera griseana      | https://www.reabic.net/journals/mbi/2015/Issue2.aspx                     | easin            |\n",
       "| Bactrocera invadens      | https://en.wikipedia.org/wiki/List_of_invasive_species_in_Africa#Insects | wikipedia_africa |\n",
       "| Trichomyrmex destructor  | https://en.wikipedia.org/wiki/List_of_invasive_species_in_Africa#Insects | wikipedia_africa |\n",
       "\n"
      ],
      "text/plain": [
       "    species_name            \n",
       "1   Adelges piceae          \n",
       "2   Adelges tsugae          \n",
       "3   Aedes aegypti           \n",
       "4   Aedes albopictus        \n",
       "5   Anoplolepis gracilipes  \n",
       "6   Bemisia tabaci          \n",
       "7   Calliphora vicina       \n",
       "8   Cinara cupressi         \n",
       "9   Harmonia axyridis       \n",
       "10  Hyphantria cunea        \n",
       "11  Maconellicoccus hirsutus\n",
       "12  Monomorium destructor   \n",
       "13  Monomorium floricola    \n",
       "14  Monomorium pharaonis    \n",
       "15  Myrmica rubra           \n",
       "16  Paratrechina longicornis\n",
       "17  Pheidole megacephala    \n",
       "18  Solenopsis geminata     \n",
       "19  Tapinoma melanocephalum \n",
       "20  Technomyrmex albipes    \n",
       "21  Bactrocera carambolae   \n",
       "22  Spodoptera frugiperda   \n",
       "23  Planococcus citri       \n",
       "24  Drosophila suzukii      \n",
       "25  Helicoverpa zea         \n",
       "26  Bactrocera cucurbitae   \n",
       "27  Bactrocera dorsalis     \n",
       "28  Culex quinquefasciatus  \n",
       "29  Omalium rivulare        \n",
       "30  Macrosiphum ptericolens \n",
       "⋮   ⋮                       \n",
       "254 Rhopobota naevana       \n",
       "255 Rhyzobius lophanthae    \n",
       "256 Scathophaga stercoraria \n",
       "257 Scatopsciara atomaria   \n",
       "258 Schizolachnus pineti    \n",
       "259 Sericoderus lateralis   \n",
       "260 Sitona lepidus          \n",
       "261 Spodoptera cilium       \n",
       "262 Spoladea recurvalis     \n",
       "263 Stelidota geminata      \n",
       "264 Stomoxys calcitrans     \n",
       "265 Synanthedon myopaeformis\n",
       "266 Tachyporus chrysomelinus\n",
       "267 Tachyporus nitidulus    \n",
       "268 Taylorilygus apicalis   \n",
       "269 Tetramorium bicarinatum \n",
       "270 Tetramorium lanuginosum \n",
       "271 Tetramorium simillimum  \n",
       "272 Thrips australis        \n",
       "273 Thrips tabaci           \n",
       "274 Thysanoplusia orichalcea\n",
       "275 Tribolium confusum      \n",
       "276 Trichopsocus dalii      \n",
       "277 Tuberculatus annulatus  \n",
       "278 Tychius picirostris     \n",
       "279 Xantholinus linearis    \n",
       "280 Yponomeuta padella      \n",
       "281 Zeiraphera griseana     \n",
       "282 Bactrocera invadens     \n",
       "283 Trichomyrmex destructor \n",
       "    source                                                                  \n",
       "1   http://www.iucngisd.org/gisd/search.php                                 \n",
       "2   http://www.iucngisd.org/gisd/search.php                                 \n",
       "3   http://www.iucngisd.org/gisd/search.php                                 \n",
       "4   http://www.iucngisd.org/gisd/search.php                                 \n",
       "5   http://www.iucngisd.org/gisd/search.php                                 \n",
       "6   http://www.iucngisd.org/gisd/search.php                                 \n",
       "7   http://www.iucngisd.org/gisd/search.php                                 \n",
       "8   http://www.iucngisd.org/gisd/search.php                                 \n",
       "9   http://www.iucngisd.org/gisd/search.php                                 \n",
       "10  http://www.iucngisd.org/gisd/search.php                                 \n",
       "11  http://www.iucngisd.org/gisd/search.php                                 \n",
       "12  http://www.iucngisd.org/gisd/search.php                                 \n",
       "13  http://www.iucngisd.org/gisd/search.php                                 \n",
       "14  http://www.iucngisd.org/gisd/search.php                                 \n",
       "15  http://www.iucngisd.org/gisd/search.php                                 \n",
       "16  http://www.iucngisd.org/gisd/search.php                                 \n",
       "17  http://www.iucngisd.org/gisd/search.php                                 \n",
       "18  http://www.iucngisd.org/gisd/search.php                                 \n",
       "19  http://www.iucngisd.org/gisd/search.php                                 \n",
       "20  http://www.iucngisd.org/gisd/search.php                                 \n",
       "21  https://www.cabi.org/isc/datasheet/8700                                 \n",
       "22  https://www.cabi.org/isc/datasheet/29810                                \n",
       "23  https://www.cabi.org/isc/datasheet/45082                                \n",
       "24  https://www.cabi.org/isc/datasheet/109283                               \n",
       "25  https://www.cabi.org/isc/datasheet/26776                                \n",
       "26  https://www.cabi.org/isc/datasheet/17683                                \n",
       "27  https://www.cabi.org/isc/datasheet/17685                                \n",
       "28  https://www.cabi.org/isc/datasheet/86848                                \n",
       "29  https://www.cabi.org/isc/datasheet/115931                               \n",
       "30  https://www.cabi.org/isc/datasheet/115456                               \n",
       "⋮   ⋮                                                                       \n",
       "254 https://www.reabic.net/journals/mbi/2015/Issue2.aspx                    \n",
       "255 https://www.reabic.net/journals/mbi/2015/Issue2.aspx                    \n",
       "256 https://www.reabic.net/journals/mbi/2015/Issue2.aspx                    \n",
       "257 https://www.reabic.net/journals/mbi/2015/Issue2.aspx                    \n",
       "258 https://www.reabic.net/journals/mbi/2015/Issue2.aspx                    \n",
       "259 https://www.reabic.net/journals/mbi/2015/Issue2.aspx                    \n",
       "260 https://www.reabic.net/journals/mbi/2015/Issue2.aspx                    \n",
       "261 https://www.reabic.net/journals/mbi/2015/Issue2.aspx                    \n",
       "262 https://www.reabic.net/journals/mbi/2015/Issue2.aspx                    \n",
       "263 https://www.reabic.net/journals/mbi/2015/Issue2.aspx                    \n",
       "264 https://www.reabic.net/journals/mbi/2015/Issue2.aspx                    \n",
       "265 https://www.reabic.net/journals/mbi/2015/Issue2.aspx                    \n",
       "266 https://www.reabic.net/journals/mbi/2015/Issue2.aspx                    \n",
       "267 https://www.reabic.net/journals/mbi/2015/Issue2.aspx                    \n",
       "268 https://www.reabic.net/journals/mbi/2015/Issue2.aspx                    \n",
       "269 https://www.reabic.net/journals/mbi/2015/Issue2.aspx                    \n",
       "270 https://www.reabic.net/journals/mbi/2015/Issue2.aspx                    \n",
       "271 https://www.reabic.net/journals/mbi/2015/Issue2.aspx                    \n",
       "272 https://www.reabic.net/journals/mbi/2015/Issue2.aspx                    \n",
       "273 https://www.reabic.net/journals/mbi/2015/Issue2.aspx                    \n",
       "274 https://www.reabic.net/journals/mbi/2015/Issue2.aspx                    \n",
       "275 https://www.reabic.net/journals/mbi/2015/Issue2.aspx                    \n",
       "276 https://www.reabic.net/journals/mbi/2015/Issue2.aspx                    \n",
       "277 https://www.reabic.net/journals/mbi/2015/Issue2.aspx                    \n",
       "278 https://www.reabic.net/journals/mbi/2015/Issue2.aspx                    \n",
       "279 https://www.reabic.net/journals/mbi/2015/Issue2.aspx                    \n",
       "280 https://www.reabic.net/journals/mbi/2015/Issue2.aspx                    \n",
       "281 https://www.reabic.net/journals/mbi/2015/Issue2.aspx                    \n",
       "282 https://en.wikipedia.org/wiki/List_of_invasive_species_in_Africa#Insects\n",
       "283 https://en.wikipedia.org/wiki/List_of_invasive_species_in_Africa#Insects\n",
       "    source_id       \n",
       "1   gisd            \n",
       "2   gisd            \n",
       "3   gisd            \n",
       "4   gisd            \n",
       "5   gisd            \n",
       "6   gisd            \n",
       "7   gisd            \n",
       "8   gisd            \n",
       "9   gisd            \n",
       "10  gisd            \n",
       "11  gisd            \n",
       "12  gisd            \n",
       "13  gisd            \n",
       "14  gisd            \n",
       "15  gisd            \n",
       "16  gisd            \n",
       "17  gisd            \n",
       "18  gisd            \n",
       "19  gisd            \n",
       "20  gisd            \n",
       "21  icf             \n",
       "22  icf             \n",
       "23  icf             \n",
       "24  icf             \n",
       "25  icf             \n",
       "26  icf             \n",
       "27  icf             \n",
       "28  icf             \n",
       "29  icf             \n",
       "30  icf             \n",
       "⋮   ⋮               \n",
       "254 easin           \n",
       "255 easin           \n",
       "256 easin           \n",
       "257 easin           \n",
       "258 easin           \n",
       "259 easin           \n",
       "260 easin           \n",
       "261 easin           \n",
       "262 easin           \n",
       "263 easin           \n",
       "264 easin           \n",
       "265 easin           \n",
       "266 easin           \n",
       "267 easin           \n",
       "268 easin           \n",
       "269 easin           \n",
       "270 easin           \n",
       "271 easin           \n",
       "272 easin           \n",
       "273 easin           \n",
       "274 easin           \n",
       "275 easin           \n",
       "276 easin           \n",
       "277 easin           \n",
       "278 easin           \n",
       "279 easin           \n",
       "280 easin           \n",
       "281 easin           \n",
       "282 wikipedia_africa\n",
       "283 wikipedia_africa"
      ]
     },
     "metadata": {},
     "output_type": "display_data"
    }
   ],
   "source": [
    "invasive_total %>% filter(species_name %in% multi_continents$species_name)"
   ]
  },
  {
   "cell_type": "code",
   "execution_count": 393,
   "metadata": {},
   "outputs": [
    {
     "data": {
      "text/html": [
       "'There are 284 OTUs associated with invasive species present on multiple continents.'"
      ],
      "text/latex": [
       "'There are 284 OTUs associated with invasive species present on multiple continents.'"
      ],
      "text/markdown": [
       "'There are 284 OTUs associated with invasive species present on multiple continents.'"
      ],
      "text/plain": [
       "[1] \"There are 284 OTUs associated with invasive species present on multiple continents.\""
      ]
     },
     "metadata": {},
     "output_type": "display_data"
    }
   ],
   "source": [
    "inv_sp_query <- invasive_total %>% \n",
    "    filter(species_name %in% multi_continents$species_name) %>% \n",
    "    pull(species_name) %>% \n",
    "    str_flatten(\"|\")\n",
    "\n",
    "inv_bins <- multi_continents %>% \n",
    "    filter(str_detect(species_name, inv_sp_query)) %>% \n",
    "    pull(bin_uri)\n",
    "\n",
    "\n",
    "paste0(\"There are \", length(inv_bins), \" OTUs associated with invasive species present on multiple continents.\")"
   ]
  },
  {
   "cell_type": "markdown",
   "metadata": {},
   "source": [
    "Now I'm filtering the BOLD data by the OTU associated with the invasive species name and the invasive species name itself.  \n",
    "\n",
    "For 100 km resolution: 2.3% of all observations in the dataset are invasive (51,472 individuals)."
   ]
  },
  {
   "cell_type": "code",
   "execution_count": 394,
   "metadata": {},
   "outputs": [
    {
     "name": "stderr",
     "output_type": "stream",
     "text": [
      "Warning message in stri_detect_regex(string, pattern, negate = negate, opts_regex = opts(pattern)):\n",
      "“longer object length is not a multiple of shorter object length”\n"
     ]
    }
   ],
   "source": [
    "# can't get the filter to behave with data.table, so using the tidyverse. Runs fast enough.\n",
    "pts_ext_noinvasive <- pts_ext_sf %>% \n",
    "    filter(is.na(species_name) | !str_detect(species_name, inv_sp_query)) %>% \n",
    "    filter(is.na(bin_uri) | !str_detect(bin_uri, inv_bins))\n",
    "\n",
    "# convert back to a data table\n",
    "setDT(pts_ext_noinvasive)"
   ]
  },
  {
   "cell_type": "code",
   "execution_count": 395,
   "metadata": {},
   "outputs": [],
   "source": [
    "# removing these variables because I'm about to count again\n",
    "pts_ext_noinvasive <- pts_ext_noinvasive[, numseqs := NULL][, numotus := NULL]"
   ]
  },
  {
   "cell_type": "code",
   "execution_count": 396,
   "metadata": {},
   "outputs": [
    {
     "data": {
      "text/html": [
       "'2.4% of all observations in the dataset are invasive'"
      ],
      "text/latex": [
       "'2.4\\% of all observations in the dataset are invasive'"
      ],
      "text/markdown": [
       "'2.4% of all observations in the dataset are invasive'"
      ],
      "text/plain": [
       "[1] \"2.4% of all observations in the dataset are invasive\""
      ]
     },
     "metadata": {},
     "output_type": "display_data"
    },
    {
     "data": {
      "text/html": [
       "'Raw count = 57774 rows of invasive species.'"
      ],
      "text/latex": [
       "'Raw count = 57774 rows of invasive species.'"
      ],
      "text/markdown": [
       "'Raw count = 57774 rows of invasive species.'"
      ],
      "text/plain": [
       "[1] \"Raw count = 57774 rows of invasive species.\""
      ]
     },
     "metadata": {},
     "output_type": "display_data"
    }
   ],
   "source": [
    "perc_inv <- (1 - nrow(pts_ext_noinvasive) / nrow(pts_ext_sf)) * 100\n",
    "\n",
    "paste0(round(perc_inv, 1), \"% of all observations in the dataset are invasive\")\n",
    "paste0(\"Raw count = \", nrow(pts_ext_sf) - nrow(pts_ext_noinvasive), \" rows of invasive species.\")"
   ]
  },
  {
   "cell_type": "markdown",
   "metadata": {},
   "source": [
    "Refilter data set for number of sequences per OTU per cell >= 5 and number of OTUs per cell >= 10.  \n",
    "\n",
    "For 100 km resolution: Great! All this filtering only removes 9 cells from the data set. "
   ]
  },
  {
   "cell_type": "code",
   "execution_count": 397,
   "metadata": {},
   "outputs": [
    {
     "data": {
      "text/html": [
       "'Before filtering: 2324490'"
      ],
      "text/latex": [
       "'Before filtering: 2324490'"
      ],
      "text/markdown": [
       "'Before filtering: 2324490'"
      ],
      "text/plain": [
       "[1] \"Before filtering: 2324490\""
      ]
     },
     "metadata": {},
     "output_type": "display_data"
    },
    {
     "data": {
      "text/html": [
       "'After filtering: 2323482'"
      ],
      "text/latex": [
       "'After filtering: 2323482'"
      ],
      "text/markdown": [
       "'After filtering: 2323482'"
      ],
      "text/plain": [
       "[1] \"After filtering: 2323482\""
      ]
     },
     "metadata": {},
     "output_type": "display_data"
    },
    {
     "data": {
      "text/html": [
       "'Distribution of the number of individuals per OTU per cell: '"
      ],
      "text/latex": [
       "'Distribution of the number of individuals per OTU per cell: '"
      ],
      "text/markdown": [
       "'Distribution of the number of individuals per OTU per cell: '"
      ],
      "text/plain": [
       "[1] \"Distribution of the number of individuals per OTU per cell: \""
      ]
     },
     "metadata": {},
     "output_type": "display_data"
    },
    {
     "data": {
      "text/plain": [
       "   Min. 1st Qu.  Median    Mean 3rd Qu.    Max. \n",
       "      5      14      49     267     192    6991 "
      ]
     },
     "metadata": {},
     "output_type": "display_data"
    },
    {
     "data": {
      "text/html": [
       "'Distribution of the number of OTUs per cell: '"
      ],
      "text/latex": [
       "'Distribution of the number of OTUs per cell: '"
      ],
      "text/markdown": [
       "'Distribution of the number of OTUs per cell: '"
      ],
      "text/plain": [
       "[1] \"Distribution of the number of OTUs per cell: \""
      ]
     },
     "metadata": {},
     "output_type": "display_data"
    },
    {
     "data": {
      "text/plain": [
       "   Min. 1st Qu.  Median    Mean 3rd Qu.    Max. \n",
       "     10     693    1328    2716    3034    9936 "
      ]
     },
     "metadata": {},
     "output_type": "display_data"
    },
    {
     "data": {
      "text/html": [
       "'Number of cells before filtering: 481'"
      ],
      "text/latex": [
       "'Number of cells before filtering: 481'"
      ],
      "text/markdown": [
       "'Number of cells before filtering: 481'"
      ],
      "text/plain": [
       "[1] \"Number of cells before filtering: 481\""
      ]
     },
     "metadata": {},
     "output_type": "display_data"
    },
    {
     "data": {
      "text/html": [
       "'Number of cells retained after filtering: 475'"
      ],
      "text/latex": [
       "'Number of cells retained after filtering: 475'"
      ],
      "text/markdown": [
       "'Number of cells retained after filtering: 475'"
      ],
      "text/plain": [
       "[1] \"Number of cells retained after filtering: 475\""
      ]
     },
     "metadata": {},
     "output_type": "display_data"
    }
   ],
   "source": [
    "pts_ext_noinv_numseqs <-  pts_ext_noinvasive[, numseqs := .N, keyby = .(bin_uri, cells)]\n",
    "\n",
    "# filter for greater than or equal to 5 sequences per bin_uri per cell\n",
    "pts_ext_noinv_filtered <- pts_ext_noinv_numseqs[numseqs >= 5]\n",
    "\n",
    "# get the number of OTUs per cell\n",
    "pts_ext_noinv_otus <- pts_ext_noinv_filtered[,numotus := uniqueN(bin_uri), keyby = \"cells\"]\n",
    "\n",
    "# filter for number of otus\n",
    "pts_ext_noinv_filtered <- pts_ext_noinv_otus[numotus >= 10]\n",
    "\n",
    "paste0(\"Before filtering: \", nrow(pts_ext_noinvasive))\n",
    "paste0(\"After filtering: \", nrow(pts_ext_noinv_filtered))\n",
    "\n",
    "paste0(\"Distribution of the number of individuals per OTU per cell: \")\n",
    "summary(pts_ext_noinv_filtered$numseqs)\n",
    "\n",
    "paste0(\"Distribution of the number of OTUs per cell: \")\n",
    "summary(pts_ext_noinv_filtered$numotus)\n",
    "\n",
    "\n",
    "paste0(\"Number of cells before filtering: \", uniqueN(pts_ext_noinvasive$cells))\n",
    "paste0(\"Number of cells retained after filtering: \", uniqueN(pts_ext_noinv_filtered$cells))"
   ]
  },
  {
   "cell_type": "code",
   "execution_count": 398,
   "metadata": {},
   "outputs": [],
   "source": [
    "# write out the metadata\n",
    "fwrite(pts_ext_noinv_filtered, here(\"output\", \"spreadsheets\", paste0(\"final_filter_meta_\", res, \".csv\")))"
   ]
  },
  {
   "cell_type": "code",
   "execution_count": 399,
   "metadata": {},
   "outputs": [
    {
     "name": "stderr",
     "output_type": "stream",
     "text": [
      "Warning message in `[.data.table`(bold_seq_final, , `:=`((bad_cols), NULL)):\n",
      "“Column 'chelsa_100km.1' does not exist to remove”\n"
     ]
    }
   ],
   "source": [
    "# filter the sequence data for the individuals in the final filtered data set \n",
    "bold_seq_final  <- bold_seq_filtered[pts_ext_noinv_filtered, on = \"recordID\", nomatch = 0]\n",
    "\n",
    "# remove no longer relevant columns\n",
    "bad_cols <- c(\"nucleotides\", \n",
    "              \"n_nucs\", \n",
    "              \"n_trimmed\", \n",
    "              \"nucs_trimmed\",\n",
    "              \"length_prop\", \n",
    "              \"n_gaps_trim\", \n",
    "              \"i.n_nucs_all_trim\", \n",
    "              \"chelsa_100km.1\", \n",
    "              \"full_name\")\n",
    "\n",
    "bold_seq_final  <- bold_seq_final[, (bad_cols) := NULL]\n"
   ]
  },
  {
   "cell_type": "code",
   "execution_count": 400,
   "metadata": {},
   "outputs": [],
   "source": [
    "# write to a file.\n",
    "fwrite(bold_seq_final, here(\"output\", \"spreadsheets\", paste0(\"final_filter_seqs_\", res, \".csv\")))"
   ]
  },
  {
   "cell_type": "markdown",
   "metadata": {},
   "source": [
    "Now time to align the sequences! Steps are as follows:  \n",
    "* write fastas to a unique file for each bin-cell pair, where each sequence is named by its recordID\n",
    "* align fastas using clustal omega and write the alignments to the \"alignments\" folder"
   ]
  },
  {
   "cell_type": "code",
   "execution_count": 401,
   "metadata": {},
   "outputs": [
    {
     "name": "stdout",
     "output_type": "stream",
     "text": [
      "0.294 sec elapsed\n"
     ]
    }
   ],
   "source": [
    "# create a nested data.table to make writing fastas easier\n",
    "tic()\n",
    "bold_nest <- bold_seq_final[, list(nucs=list(nucs_all_trim), recordID = list(recordID)), keyby=.(bin_uri, cells)\n",
    "                     ][,filename := paste0(bin_uri, \"_\", cells, \".fas\")]\n",
    "toc()\n",
    "\n",
    "# write the fasta filenames to a file for easy retrieval later in case I don't want to rerun code\n",
    "fwrite(select(bold_nest, bin_uri, cells, recordID, filename), here(\"output\", \"spreadsheets\", paste0(\"fasta_filenames_\", res, \".csv\")))\n"
   ]
  },
  {
   "cell_type": "code",
   "execution_count": 402,
   "metadata": {},
   "outputs": [
    {
     "name": "stderr",
     "output_type": "stream",
     "text": [
      "25% done!\n",
      "\n",
      "50% done!\n",
      "\n",
      "75% done!\n",
      "\n"
     ]
    },
    {
     "name": "stdout",
     "output_type": "stream",
     "text": [
      "593.127 sec elapsed\n"
     ]
    }
   ],
   "source": [
    "outpath <- here(\"output\", paste0(\"fastas_\", res))\n",
    "\n",
    "write_fasta <- function(bin){\n",
    "    write.fasta(sequences = as.list(bold_nest$nucs[[bin]]), \n",
    "               as.string = TRUE,\n",
    "               names = bold_nest$recordID[[bin]],\n",
    "               file.out = file.path(outpath, bold_nest$filename[[bin]]))\n",
    "    if (near(bin, nrow(bold_nest) * 0.25, tol = 1)) message(\"25% done!\")\n",
    "    if (near(bin, nrow(bold_nest) * 0.5, tol = 1)) message(\"50% done!\")\n",
    "    if (near(bin, nrow(bold_nest) * 0.75, tol = 1)) message(\"75% done!\")\n",
    "}\n",
    "\n",
    "tic()\n",
    "invisible(map(seq_along(bold_nest$bin_uri), write_fasta))\n",
    "toc()"
   ]
  },
  {
   "cell_type": "markdown",
   "metadata": {},
   "source": [
    "I'm using clustal omega with defaults to align the sequences. My download is the \"Standalone Mac binary (PowerPC/64-bit Intel) (1.2.3)\" binary, located in the \"bin\" folder. Depending on your OS, you may need to download a different binary. I ran some performance tests and the real performance improvement comes from running as many alignments as possible at once, rather than using multiple cores for each alignment (what the \"threads\" argument in clustalo specifies). So, I'm using furrr to parallelize the clustalo call."
   ]
  },
  {
   "cell_type": "code",
   "execution_count": 403,
   "metadata": {},
   "outputs": [
    {
     "name": "stdout",
     "output_type": "stream",
     "text": [
      "22200.707 sec elapsed\n"
     ]
    }
   ],
   "source": [
    "# path to where clustal omega is located\n",
    "clustal_path <- here(\"bin\", \"clustalo\")\n",
    "\n",
    "# function to align sequences\n",
    "align_seqs <- function(in_fasta, out_fasta, nthreads){\n",
    "    clustal_args <- c(paste0(\"-i \", in_fasta), \n",
    "                      paste0(\"--threads=\", nthreads),\n",
    "                      paste0(\"-o \", out_fasta))          \n",
    "    \n",
    "    system2(clustal_path, \n",
    "            args = clustal_args,\n",
    "            stdout=TRUE, \n",
    "            stderr=TRUE)\n",
    "}\n",
    "\n",
    "in_fasta_list <- file.path(here(\"output\", paste0(\"fastas_\", res), bold_nest$filename))\n",
    "out_fasta_list <- file.path(here(\"output\", paste0(\"alignments_\", res), bold_nest$filename))\n",
    "\n",
    "# leave a couple cores for other folks to use. Can't be rude!\n",
    "no_cores <- availableCores() - 2\n",
    "plan(multiprocess, workers = no_cores)\n",
    "\n",
    "tic()\n",
    "invisible(future_map2(in_fasta_list, out_fasta_list, ~align_seqs(.x, .y, nthreads = 1)))\n",
    "toc()"
   ]
  },
  {
   "cell_type": "code",
   "execution_count": 404,
   "metadata": {},
   "outputs": [
    {
     "data": {
      "text/plain": [
       "R version 3.6.1 (2019-07-05)\n",
       "Platform: x86_64-apple-darwin15.6.0 (64-bit)\n",
       "Running under: macOS Mojave 10.14.2\n",
       "\n",
       "Matrix products: default\n",
       "BLAS:   /Library/Frameworks/R.framework/Versions/3.6/Resources/lib/libRblas.0.dylib\n",
       "LAPACK: /Library/Frameworks/R.framework/Versions/3.6/Resources/lib/libRlapack.dylib\n",
       "\n",
       "locale:\n",
       "[1] en_US.UTF-8/en_US.UTF-8/en_US.UTF-8/C/en_US.UTF-8/en_US.UTF-8\n",
       "\n",
       "attached base packages:\n",
       "[1] stats     graphics  grDevices utils     datasets  methods   base     \n",
       "\n",
       "other attached packages:\n",
       " [1] furrr_0.1.0         future_1.14.0       seqinr_3.6-1       \n",
       " [4] tictoc_1.0          ape_5.3             magrittr_1.5       \n",
       " [7] forcats_0.4.0       stringr_1.4.0       dplyr_0.8.3        \n",
       "[10] purrr_0.3.3         readr_1.3.1         tidyr_1.0.0        \n",
       "[13] tibble_2.1.3        ggplot2_3.2.1       tidyverse_1.3.0    \n",
       "[16] here_0.1            rnaturalearth_0.1.0 entropy_1.2.1      \n",
       "[19] gdata_2.18.0        raster_3.0-12       sp_1.4-1           \n",
       "[22] sf_0.8-1            data.table_1.12.8  \n",
       "\n",
       "loaded via a namespace (and not attached):\n",
       " [1] httr_1.4.1         jsonlite_1.6       modelr_0.1.5       gtools_3.8.2      \n",
       " [5] assertthat_0.2.1   cellranger_1.1.0   globals_0.12.4     pillar_1.4.2      \n",
       " [9] backports_1.1.4    lattice_0.20-38    glue_1.3.1         uuid_0.1-4        \n",
       "[13] digest_0.6.20      rvest_0.3.5        colorspace_1.4-1   htmltools_0.3.6   \n",
       "[17] pkgconfig_2.0.2    broom_0.5.2        listenv_0.7.0      haven_2.2.0       \n",
       "[21] scales_1.0.0       generics_0.0.2     withr_2.1.2        repr_1.1.0        \n",
       "[25] lazyeval_0.2.2     cli_1.1.0          crayon_1.3.4       readxl_1.3.1      \n",
       "[29] evaluate_0.14      fansi_0.4.0        fs_1.3.1           MASS_7.3-51.4     \n",
       "[33] nlme_3.1-141       xml2_1.2.2         class_7.3-15       tools_3.6.1       \n",
       "[37] hms_0.5.3          lifecycle_0.1.0    munsell_0.5.0      reprex_0.3.0      \n",
       "[41] ade4_1.7-15        compiler_3.6.1     e1071_1.7-3        rlang_0.4.5       \n",
       "[45] classInt_0.4-3     units_0.6-6        grid_3.6.1         pbdZMQ_0.3-3      \n",
       "[49] IRkernel_1.1       rstudioapi_0.10    base64enc_0.1-3    gtable_0.3.0      \n",
       "[53] codetools_0.2-16   DBI_1.1.0          R6_2.4.0           lubridate_1.7.4   \n",
       "[57] rgdal_1.4-8        utf8_1.1.4         rgeos_0.5-2        rprojroot_1.3-2   \n",
       "[61] KernSmooth_2.23-15 stringi_1.4.3      parallel_3.6.1     IRdisplay_0.7.0   \n",
       "[65] Rcpp_1.0.4.6       vctrs_0.2.4        dbplyr_1.4.2       tidyselect_1.0.0  "
      ]
     },
     "metadata": {},
     "output_type": "display_data"
    }
   ],
   "source": [
    "sessionInfo()"
   ]
  },
  {
   "cell_type": "code",
   "execution_count": null,
   "metadata": {},
   "outputs": [],
   "source": []
  }
 ],
 "metadata": {
  "kernelspec": {
   "display_name": "R",
   "language": "R",
   "name": "ir"
  },
  "language_info": {
   "codemirror_mode": "r",
   "file_extension": ".r",
   "mimetype": "text/x-r-source",
   "name": "R",
   "pygments_lexer": "r",
   "version": "3.6.3"
  }
 },
 "nbformat": 4,
 "nbformat_minor": 4
}
